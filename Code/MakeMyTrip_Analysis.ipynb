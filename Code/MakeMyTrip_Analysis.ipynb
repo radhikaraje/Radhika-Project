{
  "nbformat": 4,
  "nbformat_minor": 0,
  "metadata": {
    "colab": {
      "name": "MakeMyTrip_Analysis.ipynb",
      "provenance": [],
      "collapsed_sections": [
        "O55Z-EPFSy8-",
        "-YGOC7gmu5W3",
        "0VMb_tT1TUYJ",
        "LskL3IDqmahu",
        "9r-68YxUtVIL",
        "86Leu7eXWqDT",
        "cA6ahlSPN3F-",
        "oO9HiCe4UeMM",
        "GnMd9JNVVNXl",
        "SMHx3jypMJpD",
        "9iQPzkEa2bUo",
        "CgYCoji6VfhS",
        "jzh_4kZvWAaE",
        "tdnp1jIyWbaG",
        "6T_cTC5IWuAE",
        "yCqxsAOX0dM4",
        "O1ngEscK0u22"
      ],
      "toc_visible": true
    },
    "kernelspec": {
      "name": "python3",
      "display_name": "Python 3"
    }
  },
  "cells": [
    {
      "cell_type": "code",
      "metadata": {
        "id": "Y9rtbwcqKIxl"
      },
      "source": [
        "import pandas as pd\n",
        "import numpy as np\n",
        "import matplotlib.pyplot as plt\n",
        "import seaborn as sns"
      ],
      "execution_count": 1,
      "outputs": []
    },
    {
      "cell_type": "markdown",
      "metadata": {
        "id": "tjp8WxlCKTHA"
      },
      "source": [
        "#Missing Values:\n",
        "unique value identified for individual column"
      ]
    },
    {
      "cell_type": "code",
      "metadata": {
        "id": "u8HAI0hugef1"
      },
      "source": [
        "missing_values=['{{facility}}','{{value}}','{{ratingCriteria.name}}{{ratingCriteria.value}}']"
      ],
      "execution_count": 3,
      "outputs": []
    },
    {
      "cell_type": "code",
      "metadata": {
        "id": "t-8LAQ_Tuwkm"
      },
      "source": [
        "data_mmt=pd.read_csv(\"/content/makemytrip_com-travel_sample.csv\", na_values=missing_values)"
      ],
      "execution_count": 4,
      "outputs": []
    },
    {
      "cell_type": "code",
      "metadata": {
        "colab": {
          "base_uri": "https://localhost:8080/"
        },
        "id": "O3SUrSH7fjZB",
        "outputId": "3d33d444-5ad9-4ffc-8b3e-42b21d1ee0ed"
      },
      "source": [
        "data_mmt.shape"
      ],
      "execution_count": 5,
      "outputs": [
        {
          "output_type": "execute_result",
          "data": {
            "text/plain": [
              "(20047, 33)"
            ]
          },
          "metadata": {
            "tags": []
          },
          "execution_count": 5
        }
      ]
    },
    {
      "cell_type": "code",
      "metadata": {
        "colab": {
          "base_uri": "https://localhost:8080/"
        },
        "id": "RjTab2kVXeLS",
        "outputId": "b0b3a415-4078-4b41-f544-c5d3cee8747a"
      },
      "source": [
        "data_mmt['crawl_date']=pd.to_datetime(data_mmt['crawl_date'])\n",
        "data_mmt['crawl_date'].dtype"
      ],
      "execution_count": 6,
      "outputs": [
        {
          "output_type": "execute_result",
          "data": {
            "text/plain": [
              "dtype('<M8[ns]')"
            ]
          },
          "metadata": {
            "tags": []
          },
          "execution_count": 6
        }
      ]
    },
    {
      "cell_type": "code",
      "metadata": {
        "colab": {
          "base_uri": "https://localhost:8080/"
        },
        "id": "UOfkD_6vK46k",
        "outputId": "bd3a9ca9-a934-4c3b-f6d7-65199486afa0"
      },
      "source": [
        "missing_df=data_mmt.isnull().sum()*100/len(data_mmt)\n",
        "missing_df"
      ],
      "execution_count": 7,
      "outputs": [
        {
          "output_type": "execute_result",
          "data": {
            "text/plain": [
              "area                               26.557590\n",
              "city                                0.000000\n",
              "country                             2.284631\n",
              "crawl_date                         46.635407\n",
              "highlight_value                    35.960493\n",
              "hotel_overview                     16.730683\n",
              "hotel_star_rating                   0.019953\n",
              "image_urls                         57.100813\n",
              "in_your_room                       50.835536\n",
              "is_value_plus                       0.019953\n",
              "latitude                            0.124707\n",
              "longitude                           0.124707\n",
              "mmt_holidayiq_review_count         53.050332\n",
              "mmt_location_rating                42.425301\n",
              "mmt_review_count                   53.234898\n",
              "mmt_review_rating                  66.553599\n",
              "mmt_review_score                   51.264528\n",
              "mmt_traveller_type_review_count    10.176086\n",
              "mmt_tripadvisor_count              44.345787\n",
              "pageurl                             0.019953\n",
              "property_address                    0.044894\n",
              "property_id                         0.019953\n",
              "property_name                       0.019953\n",
              "property_type                       0.568664\n",
              "qts                                72.225271\n",
              "query_time_stamp                    0.019953\n",
              "room_types                         24.367736\n",
              "site_review_count                  95.470644\n",
              "site_review_rating                 97.236494\n",
              "sitename                            0.024941\n",
              "state                              75.647229\n",
              "traveller_rating                   66.189455\n",
              "uniq_id                             0.024941\n",
              "dtype: float64"
            ]
          },
          "metadata": {
            "tags": []
          },
          "execution_count": 7
        }
      ]
    },
    {
      "cell_type": "markdown",
      "metadata": {
        "id": "_NdqLj4GK-3l"
      },
      "source": [
        "#Drop columns where null values are more than 70%."
      ]
    },
    {
      "cell_type": "code",
      "metadata": {
        "id": "NEcBDl-6WsOm"
      },
      "source": [
        "for column in data_mmt.columns:\n",
        "  if data_mmt[column].isnull().sum()*100.0/len(data_mmt) > 70:\n",
        "    data_mmt.drop(column,1, inplace=True)"
      ],
      "execution_count": 8,
      "outputs": []
    },
    {
      "cell_type": "code",
      "metadata": {
        "colab": {
          "base_uri": "https://localhost:8080/"
        },
        "id": "tvAtRlGpWb9N",
        "outputId": "bbf325b2-fc64-4801-9692-02d87945d101"
      },
      "source": [
        "data_mmt.shape"
      ],
      "execution_count": 9,
      "outputs": [
        {
          "output_type": "execute_result",
          "data": {
            "text/plain": [
              "(20047, 29)"
            ]
          },
          "metadata": {
            "tags": []
          },
          "execution_count": 9
        }
      ]
    },
    {
      "cell_type": "markdown",
      "metadata": {
        "id": "0TlED6ucva4e"
      },
      "source": [
        "#Fillna for object data type"
      ]
    },
    {
      "cell_type": "code",
      "metadata": {
        "colab": {
          "base_uri": "https://localhost:8080/"
        },
        "id": "2eZpGBT_MCco",
        "outputId": "084bee48-6700-465f-d338-7b338e8c84e6"
      },
      "source": [
        "data_mmt['area'].fillna(\"Unspecified\",inplace=True)\n",
        "\n",
        "data_mmt['country'].fillna(\"Unspecified\",inplace=True)\n",
        "\n",
        "data_mmt['highlight_value'].fillna(\"Unspecified\",inplace=True)\n",
        "\n",
        "data_mmt['hotel_overview'].fillna(\"Unspecified\",inplace=True)\n",
        "\n",
        "label_map={'hotel_star_rating':{'0':0,'1 star':1,'1':1,'2 star':2,'2':2,'3 star':3,'3':3,'Three on 5':3,'4 star':4,'4':4,'Four star':4,'Four on 5':4,'5 star':5,'5':5,'Five on 5':5}}\n",
        "data_mmt=data_mmt.replace(label_map)\n",
        "\n",
        "data_mmt['in_your_room'].fillna('Unspecified',inplace=True)\n",
        "isvalue_map={'is_value_plus':{'no':0,'yes':1}}\n",
        "data_mmt=data_mmt.replace(isvalue_map)\n",
        "\n",
        "data_mmt[['Location','mmt_loc_rating']]=data_mmt.mmt_location_rating.str.split(\":\",expand=True)\n",
        "\n",
        "data_mmt['mmt_loc_rating']=pd.to_numeric(data_mmt['mmt_loc_rating'],errors='coerce')\n",
        "\n",
        "data_mmt[['mmt_review_rating_Excellent','mmt_review_rating_VeryGood','mmt_review_rating_Average','mmt_review_rating_Poor','mmt_review_rating_Terrible']]=data_mmt.mmt_review_rating.str.split('|',expand=True)\n",
        "selected_col=data_mmt[['mmt_review_rating_Excellent','mmt_review_rating_VeryGood','mmt_review_rating_Average','mmt_review_rating_Poor','mmt_review_rating_Terrible']]\n",
        "\n",
        "for col in selected_col:\n",
        "  data_mmt[col] = data_mmt[col].str.replace(r'\\D+', '').astype('object')\n",
        "  data_mmt[col]=pd.to_numeric(data_mmt[col],errors='coerce')\n",
        "\n",
        "data_mmt[['mmt_traveller_type_review_count_Families','mmt_traveller_type_review_count_Couples','mmt_traveller_type_review_count_Business','mmt_traveller_type_review_count_Solo','mmt_traveller_type_review_count_Friends']]=data_mmt.mmt_traveller_type_review_count.str.split('|',expand=True)\n",
        "selected_col=data_mmt[['mmt_traveller_type_review_count_Families','mmt_traveller_type_review_count_Couples','mmt_traveller_type_review_count_Business','mmt_traveller_type_review_count_Solo','mmt_traveller_type_review_count_Friends']]\n",
        "\n",
        "for col in selected_col:\n",
        "  data_mmt[col] = data_mmt[col].str.replace(r'\\D+', '').astype('object')\n",
        "  data_mmt[col]=pd.to_numeric(data_mmt[col],errors='coerce')\n",
        "\n",
        "data_mmt['property_address'].fillna('Unspecified',inplace=True)\n",
        "\n",
        "data_mmt['property_name'].fillna('Unspecified',inplace=True)\n",
        "\n",
        "data_mmt['property_type'].fillna('Unspecified',inplace=True)\n",
        "\n",
        "data_mmt['query_time_stamp'].fillna('Unspecified',inplace=True)\n",
        "\n",
        "data_mmt['room_types'].fillna('Unspecified',inplace=True)\n",
        "\n",
        "data_mmt['image_urls'].fillna('Unspecified',inplace=True)\n",
        "data_mmt['pageurl'].fillna('Unspecified',inplace=True)\n",
        "data_mmt['crawl_date'].fillna('Unspecified',inplace=True)\n",
        "data_mmt['sitename'].fillna('Unspecified',inplace=True)\n",
        "\n",
        "data_mmt[['traveller_rating_Location','traveller_rating_Hospitality','traveller_rating_Facilities','traveller_rating_Cleanliness','traveller_rating_Money','traveller_rating_Food']]=data_mmt.traveller_rating.str.split('|',expand=True)\n",
        "selected_col=data_mmt[['traveller_rating_Location','traveller_rating_Hospitality','traveller_rating_Facilities','traveller_rating_Cleanliness','traveller_rating_Money','traveller_rating_Food']]\n",
        "for col in selected_col:\n",
        "  data_mmt[col]=data_mmt[col].str.replace('/5',\" \").astype('object')\n",
        "  data_mmt[col]=(data_mmt[col].str.findall(r'(\\d*\\.\\d+|\\d+)').apply(lambda x: pd.Series(x).astype(float)))\n",
        "\n",
        "data_mmt['uniq_id'].fillna('Unspecified',inplace=True)\n"
      ],
      "execution_count": 10,
      "outputs": [
        {
          "output_type": "stream",
          "text": [
            "/usr/local/lib/python3.7/dist-packages/ipykernel_launcher.py:53: DeprecationWarning: The default dtype for empty Series will be 'object' instead of 'float64' in a future version. Specify a dtype explicitly to silence this warning.\n"
          ],
          "name": "stderr"
        }
      ]
    },
    {
      "cell_type": "code",
      "metadata": {
        "colab": {
          "base_uri": "https://localhost:8080/"
        },
        "id": "SihUZuGmZx0U",
        "outputId": "01d49266-4cdd-48c9-deef-ab73393640fd"
      },
      "source": [
        "data_mmt.shape"
      ],
      "execution_count": 11,
      "outputs": [
        {
          "output_type": "execute_result",
          "data": {
            "text/plain": [
              "(20047, 47)"
            ]
          },
          "metadata": {
            "tags": []
          },
          "execution_count": 11
        }
      ]
    },
    {
      "cell_type": "markdown",
      "metadata": {
        "id": "ZXQ2KG75Qxt5"
      },
      "source": [
        "#Delete Extra Columns\n",
        "\n",
        "\n",
        "mmt_location_rating, Location , \n",
        "mmt_review_rating ,\n",
        "mmt_traveller_type_count ,\n",
        "traveller_rating"
      ]
    },
    {
      "cell_type": "code",
      "metadata": {
        "id": "rSV3f8s4Q-2O"
      },
      "source": [
        "data_mmt=data_mmt.drop('mmt_location_rating',axis=1)\n",
        "data_mmt=data_mmt.drop('Location',axis=1)\n",
        "data_mmt=data_mmt.drop('mmt_review_rating',axis=1)\n",
        "data_mmt=data_mmt.drop('mmt_traveller_type_review_count',axis=1)\n",
        "data_mmt=data_mmt.drop('traveller_rating',axis=1)"
      ],
      "execution_count": 12,
      "outputs": []
    },
    {
      "cell_type": "code",
      "metadata": {
        "colab": {
          "base_uri": "https://localhost:8080/"
        },
        "id": "aLhymGv5TMRM",
        "outputId": "89cac13f-6769-42f1-b75d-1c4f1ed92a8b"
      },
      "source": [
        "data_mmt.shape"
      ],
      "execution_count": 13,
      "outputs": [
        {
          "output_type": "execute_result",
          "data": {
            "text/plain": [
              "(20047, 42)"
            ]
          },
          "metadata": {
            "tags": []
          },
          "execution_count": 13
        }
      ]
    },
    {
      "cell_type": "markdown",
      "metadata": {
        "id": "zqSH-tPfRi72"
      },
      "source": [
        "#Data cleaning phase 2\n"
      ]
    },
    {
      "cell_type": "markdown",
      "metadata": {
        "id": "nwwhnS_SR8vm"
      },
      "source": [
        "Drop rows where null values > 50%"
      ]
    },
    {
      "cell_type": "code",
      "metadata": {
        "id": "9D9ILfudR7G7"
      },
      "source": [
        "index=data_mmt.isnull().sum(axis=1)*100/data_mmt.shape[1]\n",
        "data_mmt=data_mmt.drop(index=data_mmt[index>50].index)"
      ],
      "execution_count": 14,
      "outputs": []
    },
    {
      "cell_type": "code",
      "metadata": {
        "colab": {
          "base_uri": "https://localhost:8080/"
        },
        "id": "mQEhDMl6SJoi",
        "outputId": "a662258c-36f3-4402-c9ff-592d8cc93efe"
      },
      "source": [
        "data_mmt.shape"
      ],
      "execution_count": 15,
      "outputs": [
        {
          "output_type": "execute_result",
          "data": {
            "text/plain": [
              "(20022, 42)"
            ]
          },
          "metadata": {
            "tags": []
          },
          "execution_count": 15
        }
      ]
    },
    {
      "cell_type": "code",
      "metadata": {
        "id": "Xa9egK7gY_PJ"
      },
      "source": [
        "data_mmt=data_mmt.reset_index(drop=True)"
      ],
      "execution_count": 16,
      "outputs": []
    },
    {
      "cell_type": "code",
      "metadata": {
        "colab": {
          "base_uri": "https://localhost:8080/",
          "height": 501
        },
        "id": "K3HdUJ12ZIMr",
        "outputId": "9b2e2d3e-1647-4e01-88dd-443f0c0d4a35"
      },
      "source": [
        "data_mmt.tail()"
      ],
      "execution_count": 19,
      "outputs": [
        {
          "output_type": "execute_result",
          "data": {
            "text/html": [
              "<div>\n",
              "<style scoped>\n",
              "    .dataframe tbody tr th:only-of-type {\n",
              "        vertical-align: middle;\n",
              "    }\n",
              "\n",
              "    .dataframe tbody tr th {\n",
              "        vertical-align: top;\n",
              "    }\n",
              "\n",
              "    .dataframe thead th {\n",
              "        text-align: right;\n",
              "    }\n",
              "</style>\n",
              "<table border=\"1\" class=\"dataframe\">\n",
              "  <thead>\n",
              "    <tr style=\"text-align: right;\">\n",
              "      <th></th>\n",
              "      <th>area</th>\n",
              "      <th>city</th>\n",
              "      <th>country</th>\n",
              "      <th>crawl_date</th>\n",
              "      <th>highlight_value</th>\n",
              "      <th>hotel_overview</th>\n",
              "      <th>hotel_star_rating</th>\n",
              "      <th>image_urls</th>\n",
              "      <th>in_your_room</th>\n",
              "      <th>is_value_plus</th>\n",
              "      <th>latitude</th>\n",
              "      <th>longitude</th>\n",
              "      <th>mmt_holidayiq_review_count</th>\n",
              "      <th>mmt_review_count</th>\n",
              "      <th>mmt_review_score</th>\n",
              "      <th>mmt_tripadvisor_count</th>\n",
              "      <th>pageurl</th>\n",
              "      <th>property_address</th>\n",
              "      <th>property_id</th>\n",
              "      <th>property_name</th>\n",
              "      <th>property_type</th>\n",
              "      <th>query_time_stamp</th>\n",
              "      <th>room_types</th>\n",
              "      <th>sitename</th>\n",
              "      <th>uniq_id</th>\n",
              "      <th>mmt_loc_rating</th>\n",
              "      <th>mmt_review_rating_Excellent</th>\n",
              "      <th>mmt_review_rating_VeryGood</th>\n",
              "      <th>mmt_review_rating_Average</th>\n",
              "      <th>mmt_review_rating_Poor</th>\n",
              "      <th>mmt_review_rating_Terrible</th>\n",
              "      <th>mmt_traveller_type_review_count_Families</th>\n",
              "      <th>mmt_traveller_type_review_count_Couples</th>\n",
              "      <th>mmt_traveller_type_review_count_Business</th>\n",
              "      <th>mmt_traveller_type_review_count_Solo</th>\n",
              "      <th>mmt_traveller_type_review_count_Friends</th>\n",
              "      <th>traveller_rating_Location</th>\n",
              "      <th>traveller_rating_Hospitality</th>\n",
              "      <th>traveller_rating_Facilities</th>\n",
              "      <th>traveller_rating_Cleanliness</th>\n",
              "      <th>traveller_rating_Money</th>\n",
              "      <th>traveller_rating_Food</th>\n",
              "    </tr>\n",
              "  </thead>\n",
              "  <tbody>\n",
              "    <tr>\n",
              "      <th>20017</th>\n",
              "      <td>Thonichal, Mananthavady</td>\n",
              "      <td>Wayanad</td>\n",
              "      <td>India</td>\n",
              "      <td>Unspecified</td>\n",
              "      <td>Conference Hall|Doctor on Call|Room Service|Tr...</td>\n",
              "      <td>|Abhirami Farm Resorts is a budget property, s...</td>\n",
              "      <td>1.0</td>\n",
              "      <td>//imghtlak.mmtcdn.com/images/hotels/2014121816...</td>\n",
              "      <td>Telephone | Bathroom Toiletries | Television |...</td>\n",
              "      <td>0.0</td>\n",
              "      <td>11.769778</td>\n",
              "      <td>76.001652</td>\n",
              "      <td>0.0</td>\n",
              "      <td>NaN</td>\n",
              "      <td>NaN</td>\n",
              "      <td>3.0</td>\n",
              "      <td>http://hotelz.makemytrip.com/makemytrip/site/h...</td>\n",
              "      <td>Thonichal, Mananthavady , Thonichal, Mananthavady</td>\n",
              "      <td>201412181611103798&amp;i=</td>\n",
              "      <td>Abhirami Farm Resorts</td>\n",
              "      <td>Hotel</td>\n",
              "      <td>2016-04-17 11:08:24 +0000</td>\n",
              "      <td>Cottage (Standard Cottage)</td>\n",
              "      <td>makemytrip</td>\n",
              "      <td>f3c6e1f4c4d37a4193f6446d3421c0d4</td>\n",
              "      <td>NaN</td>\n",
              "      <td>NaN</td>\n",
              "      <td>NaN</td>\n",
              "      <td>NaN</td>\n",
              "      <td>NaN</td>\n",
              "      <td>NaN</td>\n",
              "      <td>NaN</td>\n",
              "      <td>NaN</td>\n",
              "      <td>NaN</td>\n",
              "      <td>NaN</td>\n",
              "      <td>NaN</td>\n",
              "      <td>NaN</td>\n",
              "      <td>NaN</td>\n",
              "      <td>NaN</td>\n",
              "      <td>NaN</td>\n",
              "      <td>NaN</td>\n",
              "      <td>NaN</td>\n",
              "    </tr>\n",
              "    <tr>\n",
              "      <th>20018</th>\n",
              "      <td>Unspecified</td>\n",
              "      <td>Varanasi</td>\n",
              "      <td>India</td>\n",
              "      <td>Unspecified</td>\n",
              "      <td>24 Hour Doctor On Call.|Laundry Service (At a ...</td>\n",
              "      <td>|Located in the Holy City of Varanasi, Hotel G...</td>\n",
              "      <td>1.0</td>\n",
              "      <td>//imghtlak.mmtcdn.com/images/hotels/2014102213...</td>\n",
              "      <td>Unspecified</td>\n",
              "      <td>0.0</td>\n",
              "      <td>25.310400</td>\n",
              "      <td>83.010200</td>\n",
              "      <td>3.0</td>\n",
              "      <td>1.0</td>\n",
              "      <td>2.9</td>\n",
              "      <td>32.0</td>\n",
              "      <td>http://hotelz.makemytrip.com/makemytrip/site/h...</td>\n",
              "      <td>D 8/35, Kalika Gali, Near Kashi Vishvenath Tem...</td>\n",
              "      <td>201410221340043424&amp;i=</td>\n",
              "      <td>Golden LodgeVaranasi</td>\n",
              "      <td>Lodge</td>\n",
              "      <td>2016-04-17 11:08:24 +0000</td>\n",
              "      <td>Ac Single Room|Ac Double Room</td>\n",
              "      <td>makemytrip</td>\n",
              "      <td>51760b0acd99c150c6d64584cf029542</td>\n",
              "      <td>NaN</td>\n",
              "      <td>0.0</td>\n",
              "      <td>0.0</td>\n",
              "      <td>0.0</td>\n",
              "      <td>1.0</td>\n",
              "      <td>0.0</td>\n",
              "      <td>0.0</td>\n",
              "      <td>0.0</td>\n",
              "      <td>0.0</td>\n",
              "      <td>0.0</td>\n",
              "      <td>0.0</td>\n",
              "      <td>4.0</td>\n",
              "      <td>2.0</td>\n",
              "      <td>3.0</td>\n",
              "      <td>3.0</td>\n",
              "      <td>2.0</td>\n",
              "      <td>3.0</td>\n",
              "    </tr>\n",
              "    <tr>\n",
              "      <th>20019</th>\n",
              "      <td>Central Mysore,Nazarbad Road</td>\n",
              "      <td>WeekendGetawaysAroundChennai</td>\n",
              "      <td>India</td>\n",
              "      <td>Unspecified</td>\n",
              "      <td>Airport/Rlwy Stn Transfer|Business Centre|Conf...</td>\n",
              "      <td>|Ginger Hotel is nestled in Mysore which is ca...</td>\n",
              "      <td>3.0</td>\n",
              "      <td>//imghtlak.mmtcdn.com/images/hotels/2007011716...</td>\n",
              "      <td>Electronic Key | Tea/Coffee Maker | Telephone ...</td>\n",
              "      <td>0.0</td>\n",
              "      <td>12.307097</td>\n",
              "      <td>76.667002</td>\n",
              "      <td>219.0</td>\n",
              "      <td>359.0</td>\n",
              "      <td>4.0</td>\n",
              "      <td>553.0</td>\n",
              "      <td>http://hotelz.makemytrip.com/makemytrip/site/h...</td>\n",
              "      <td>Vasanth Mahal Road, Nazarbad , Mysore</td>\n",
              "      <td>200701171638057267&amp;i=</td>\n",
              "      <td>Ginger Hotel - Mysore</td>\n",
              "      <td>Hotel</td>\n",
              "      <td>2016-04-17 11:08:24 +0000</td>\n",
              "      <td>Single|Double</td>\n",
              "      <td>makemytrip</td>\n",
              "      <td>26791dbfec7bf141a326fcc169841596</td>\n",
              "      <td>NaN</td>\n",
              "      <td>132.0</td>\n",
              "      <td>97.0</td>\n",
              "      <td>91.0</td>\n",
              "      <td>34.0</td>\n",
              "      <td>5.0</td>\n",
              "      <td>160.0</td>\n",
              "      <td>41.0</td>\n",
              "      <td>2.0</td>\n",
              "      <td>5.0</td>\n",
              "      <td>2.0</td>\n",
              "      <td>4.4</td>\n",
              "      <td>4.1</td>\n",
              "      <td>3.8</td>\n",
              "      <td>4.1</td>\n",
              "      <td>4.1</td>\n",
              "      <td>3.7</td>\n",
              "    </tr>\n",
              "    <tr>\n",
              "      <th>20020</th>\n",
              "      <td>Wayanad</td>\n",
              "      <td>Wayanad</td>\n",
              "      <td>India</td>\n",
              "      <td>Unspecified</td>\n",
              "      <td>Unspecified</td>\n",
              "      <td>Homestay is situated at Korram, in Wayanad Dis...</td>\n",
              "      <td>1.0</td>\n",
              "      <td>http://www.tripvillas.com/media/origin/1049657...</td>\n",
              "      <td>Television | Linen Provided | Hot Water | Show...</td>\n",
              "      <td>0.0</td>\n",
              "      <td>11.607579</td>\n",
              "      <td>76.082773</td>\n",
              "      <td>0.0</td>\n",
              "      <td>NaN</td>\n",
              "      <td>NaN</td>\n",
              "      <td>NaN</td>\n",
              "      <td>http://hotelz.makemytrip.com/makemytrip/site/h...</td>\n",
              "      <td>Near Town Koram , Wayanad</td>\n",
              "      <td>3274006741488222&amp;i=</td>\n",
              "      <td>Private 2 room Homestay in Kalpetta</td>\n",
              "      <td>Hotel</td>\n",
              "      <td>2016-04-17 11:08:24 +0000</td>\n",
              "      <td>Standard Room</td>\n",
              "      <td>makemytrip</td>\n",
              "      <td>6a862c717678f0e6cfcd1e3daa28e31d</td>\n",
              "      <td>NaN</td>\n",
              "      <td>NaN</td>\n",
              "      <td>NaN</td>\n",
              "      <td>NaN</td>\n",
              "      <td>NaN</td>\n",
              "      <td>NaN</td>\n",
              "      <td>NaN</td>\n",
              "      <td>NaN</td>\n",
              "      <td>NaN</td>\n",
              "      <td>NaN</td>\n",
              "      <td>NaN</td>\n",
              "      <td>NaN</td>\n",
              "      <td>NaN</td>\n",
              "      <td>NaN</td>\n",
              "      <td>NaN</td>\n",
              "      <td>NaN</td>\n",
              "      <td>NaN</td>\n",
              "    </tr>\n",
              "    <tr>\n",
              "      <th>20021</th>\n",
              "      <td>Opp. APSEB Sub Station,Behind Bezwada Home Foo...</td>\n",
              "      <td>Vishakhapatnam</td>\n",
              "      <td>India</td>\n",
              "      <td>Unspecified</td>\n",
              "      <td>Conference Hall|Dining Hall|Internet Facility|...</td>\n",
              "      <td>|4.4 km from Ramkrishna Beach, 4.2 km from Al ...</td>\n",
              "      <td>1.0</td>\n",
              "      <td>//imghtlak.mmtcdn.com/images/hotels/2011021211...</td>\n",
              "      <td>Telephone | Mineral Water | Daily Newspaper | ...</td>\n",
              "      <td>1.0</td>\n",
              "      <td>17.739367</td>\n",
              "      <td>83.307634</td>\n",
              "      <td>14.0</td>\n",
              "      <td>26.0</td>\n",
              "      <td>4.3</td>\n",
              "      <td>25.0</td>\n",
              "      <td>http://hotelz.makemytrip.com/makemytrip/site/h...</td>\n",
              "      <td>D.No:50-50-20/A, T.P.T Colony , Opp: APSEB Sub...</td>\n",
              "      <td>201102121107212980&amp;i=</td>\n",
              "      <td>White Villa</td>\n",
              "      <td>Hotel</td>\n",
              "      <td>2016-04-17 11:08:24 +0000</td>\n",
              "      <td>Bollywood|Hollywood</td>\n",
              "      <td>makemytrip</td>\n",
              "      <td>e116d87dd4480e8398604e54097a6153</td>\n",
              "      <td>NaN</td>\n",
              "      <td>11.0</td>\n",
              "      <td>10.0</td>\n",
              "      <td>4.0</td>\n",
              "      <td>1.0</td>\n",
              "      <td>0.0</td>\n",
              "      <td>5.0</td>\n",
              "      <td>5.0</td>\n",
              "      <td>1.0</td>\n",
              "      <td>3.0</td>\n",
              "      <td>1.0</td>\n",
              "      <td>4.2</td>\n",
              "      <td>4.2</td>\n",
              "      <td>4.3</td>\n",
              "      <td>4.3</td>\n",
              "      <td>4.3</td>\n",
              "      <td>4.1</td>\n",
              "    </tr>\n",
              "  </tbody>\n",
              "</table>\n",
              "</div>"
            ],
            "text/plain": [
              "                                                    area  ... traveller_rating_Food\n",
              "20017                            Thonichal, Mananthavady  ...                   NaN\n",
              "20018                                        Unspecified  ...                   3.0\n",
              "20019                       Central Mysore,Nazarbad Road  ...                   3.7\n",
              "20020                                            Wayanad  ...                   NaN\n",
              "20021  Opp. APSEB Sub Station,Behind Bezwada Home Foo...  ...                   4.1\n",
              "\n",
              "[5 rows x 42 columns]"
            ]
          },
          "metadata": {
            "tags": []
          },
          "execution_count": 19
        }
      ]
    },
    {
      "cell_type": "markdown",
      "metadata": {
        "id": "7q_V160DSOM9"
      },
      "source": [
        "fillna with 0 for longitude and latitude"
      ]
    },
    {
      "cell_type": "code",
      "metadata": {
        "id": "xLuogm2ySTtE"
      },
      "source": [
        "data_mmt['latitude'].fillna(0,inplace=True)\n",
        "data_mmt['longitude'].fillna(0,inplace=True)"
      ],
      "execution_count": 20,
      "outputs": []
    },
    {
      "cell_type": "markdown",
      "metadata": {
        "id": "R-aZeoh5SdLr"
      },
      "source": [
        "for loop to fillna-mode for remaining columns"
      ]
    },
    {
      "cell_type": "code",
      "metadata": {
        "id": "YzlQrhBBSak0"
      },
      "source": [
        "nullCols=data_mmt.columns[data_mmt.isnull().sum()!=0]\n",
        "for col in nullCols:\n",
        "  data_mmt[col].fillna(data_mmt[col].mode()[0],inplace=True)"
      ],
      "execution_count": 21,
      "outputs": []
    },
    {
      "cell_type": "code",
      "metadata": {
        "colab": {
          "base_uri": "https://localhost:8080/",
          "height": 434
        },
        "id": "j-CnEB88SnsF",
        "outputId": "04f48fe9-2347-4c94-9ea5-8f5c0109d09e"
      },
      "source": [
        "data_mmt.head()"
      ],
      "execution_count": 22,
      "outputs": [
        {
          "output_type": "execute_result",
          "data": {
            "text/html": [
              "<div>\n",
              "<style scoped>\n",
              "    .dataframe tbody tr th:only-of-type {\n",
              "        vertical-align: middle;\n",
              "    }\n",
              "\n",
              "    .dataframe tbody tr th {\n",
              "        vertical-align: top;\n",
              "    }\n",
              "\n",
              "    .dataframe thead th {\n",
              "        text-align: right;\n",
              "    }\n",
              "</style>\n",
              "<table border=\"1\" class=\"dataframe\">\n",
              "  <thead>\n",
              "    <tr style=\"text-align: right;\">\n",
              "      <th></th>\n",
              "      <th>area</th>\n",
              "      <th>city</th>\n",
              "      <th>country</th>\n",
              "      <th>crawl_date</th>\n",
              "      <th>highlight_value</th>\n",
              "      <th>hotel_overview</th>\n",
              "      <th>hotel_star_rating</th>\n",
              "      <th>image_urls</th>\n",
              "      <th>in_your_room</th>\n",
              "      <th>is_value_plus</th>\n",
              "      <th>latitude</th>\n",
              "      <th>longitude</th>\n",
              "      <th>mmt_holidayiq_review_count</th>\n",
              "      <th>mmt_review_count</th>\n",
              "      <th>mmt_review_score</th>\n",
              "      <th>mmt_tripadvisor_count</th>\n",
              "      <th>pageurl</th>\n",
              "      <th>property_address</th>\n",
              "      <th>property_id</th>\n",
              "      <th>property_name</th>\n",
              "      <th>property_type</th>\n",
              "      <th>query_time_stamp</th>\n",
              "      <th>room_types</th>\n",
              "      <th>sitename</th>\n",
              "      <th>uniq_id</th>\n",
              "      <th>mmt_loc_rating</th>\n",
              "      <th>mmt_review_rating_Excellent</th>\n",
              "      <th>mmt_review_rating_VeryGood</th>\n",
              "      <th>mmt_review_rating_Average</th>\n",
              "      <th>mmt_review_rating_Poor</th>\n",
              "      <th>mmt_review_rating_Terrible</th>\n",
              "      <th>mmt_traveller_type_review_count_Families</th>\n",
              "      <th>mmt_traveller_type_review_count_Couples</th>\n",
              "      <th>mmt_traveller_type_review_count_Business</th>\n",
              "      <th>mmt_traveller_type_review_count_Solo</th>\n",
              "      <th>mmt_traveller_type_review_count_Friends</th>\n",
              "      <th>traveller_rating_Location</th>\n",
              "      <th>traveller_rating_Hospitality</th>\n",
              "      <th>traveller_rating_Facilities</th>\n",
              "      <th>traveller_rating_Cleanliness</th>\n",
              "      <th>traveller_rating_Money</th>\n",
              "      <th>traveller_rating_Food</th>\n",
              "    </tr>\n",
              "  </thead>\n",
              "  <tbody>\n",
              "    <tr>\n",
              "      <th>0</th>\n",
              "      <td>Hardasji Ki Magri</td>\n",
              "      <td>Udaipur</td>\n",
              "      <td>India</td>\n",
              "      <td>2016-06-21 00:00:00</td>\n",
              "      <td>Unspecified</td>\n",
              "      <td>|Zion Home Stay is located in a city that sets...</td>\n",
              "      <td>1.0</td>\n",
              "      <td>Unspecified</td>\n",
              "      <td>Unspecified</td>\n",
              "      <td>0.0</td>\n",
              "      <td>24.581788</td>\n",
              "      <td>73.667805</td>\n",
              "      <td>0.0</td>\n",
              "      <td>0.0</td>\n",
              "      <td>4.5</td>\n",
              "      <td>6.0</td>\n",
              "      <td>http://hotelz.makemytrip.com/makemytrip/site/h...</td>\n",
              "      <td>Zion, F-17, Haridas Ji Ki Magri, Near Bal Vina...</td>\n",
              "      <td>2.01E+17</td>\n",
              "      <td>Zion Home Stay</td>\n",
              "      <td>Hotel</td>\n",
              "      <td>2016-06-21 04:06:50 +0000</td>\n",
              "      <td>Unspecified</td>\n",
              "      <td>makemytrip</td>\n",
              "      <td>78ddf880bd7937d384ff278cc5b39d6e</td>\n",
              "      <td>5.0</td>\n",
              "      <td>0.0</td>\n",
              "      <td>0.0</td>\n",
              "      <td>0.0</td>\n",
              "      <td>0.0</td>\n",
              "      <td>0.0</td>\n",
              "      <td>0.0</td>\n",
              "      <td>0.0</td>\n",
              "      <td>0.0</td>\n",
              "      <td>0.0</td>\n",
              "      <td>0.0</td>\n",
              "      <td>5.0</td>\n",
              "      <td>5.0</td>\n",
              "      <td>4.0</td>\n",
              "      <td>5.0</td>\n",
              "      <td>5.0</td>\n",
              "      <td>4.0</td>\n",
              "    </tr>\n",
              "    <tr>\n",
              "      <th>1</th>\n",
              "      <td>Near Nai Gaon</td>\n",
              "      <td>Udaipur</td>\n",
              "      <td>India</td>\n",
              "      <td>2016-06-21 00:00:00</td>\n",
              "      <td>Unspecified</td>\n",
              "      <td>| Araliayas Resorts is a 3 star hotel located ...</td>\n",
              "      <td>3.0</td>\n",
              "      <td>Unspecified</td>\n",
              "      <td>Unspecified</td>\n",
              "      <td>0.0</td>\n",
              "      <td>24.544342</td>\n",
              "      <td>73.644242</td>\n",
              "      <td>0.0</td>\n",
              "      <td>0.0</td>\n",
              "      <td>4.5</td>\n",
              "      <td>34.0</td>\n",
              "      <td>http://hotelz.makemytrip.com/makemytrip/site/h...</td>\n",
              "      <td>Udaipur-Jhadol Road , Near Nai Gaon</td>\n",
              "      <td>2.01E+17</td>\n",
              "      <td>Araliayas Resorts</td>\n",
              "      <td>Hotel</td>\n",
              "      <td>2016-06-21 04:06:50 +0000</td>\n",
              "      <td>Unspecified</td>\n",
              "      <td>makemytrip</td>\n",
              "      <td>9f9f9cbb2f7df8089b63d5cdeb257944</td>\n",
              "      <td>5.0</td>\n",
              "      <td>0.0</td>\n",
              "      <td>0.0</td>\n",
              "      <td>0.0</td>\n",
              "      <td>0.0</td>\n",
              "      <td>0.0</td>\n",
              "      <td>0.0</td>\n",
              "      <td>0.0</td>\n",
              "      <td>0.0</td>\n",
              "      <td>0.0</td>\n",
              "      <td>0.0</td>\n",
              "      <td>5.0</td>\n",
              "      <td>5.0</td>\n",
              "      <td>4.0</td>\n",
              "      <td>5.0</td>\n",
              "      <td>5.0</td>\n",
              "      <td>4.0</td>\n",
              "    </tr>\n",
              "    <tr>\n",
              "      <th>2</th>\n",
              "      <td>Near Bagore Ki Haveli</td>\n",
              "      <td>Udaipur</td>\n",
              "      <td>India</td>\n",
              "      <td>2016-06-21 00:00:00</td>\n",
              "      <td>Unspecified</td>\n",
              "      <td>|A 2 star property is located at 24 km from Ma...</td>\n",
              "      <td>2.0</td>\n",
              "      <td>Unspecified</td>\n",
              "      <td>Unspecified</td>\n",
              "      <td>0.0</td>\n",
              "      <td>24.579942</td>\n",
              "      <td>73.681953</td>\n",
              "      <td>0.0</td>\n",
              "      <td>0.0</td>\n",
              "      <td>0.0</td>\n",
              "      <td>16.0</td>\n",
              "      <td>http://hotelz.makemytrip.com/makemytrip/site/h...</td>\n",
              "      <td>23/208 Gangaur Ghat Near Bagore Ki Haveli , Ne...</td>\n",
              "      <td>2.01E+17</td>\n",
              "      <td>Shri Udai Palace</td>\n",
              "      <td>Hotel</td>\n",
              "      <td>2016-06-21 04:06:50 +0000</td>\n",
              "      <td>Unspecified</td>\n",
              "      <td>makemytrip</td>\n",
              "      <td>b314bb7fa8bfb1ed306f517be21d729e</td>\n",
              "      <td>5.0</td>\n",
              "      <td>0.0</td>\n",
              "      <td>0.0</td>\n",
              "      <td>0.0</td>\n",
              "      <td>0.0</td>\n",
              "      <td>0.0</td>\n",
              "      <td>0.0</td>\n",
              "      <td>0.0</td>\n",
              "      <td>0.0</td>\n",
              "      <td>0.0</td>\n",
              "      <td>0.0</td>\n",
              "      <td>5.0</td>\n",
              "      <td>5.0</td>\n",
              "      <td>4.0</td>\n",
              "      <td>5.0</td>\n",
              "      <td>5.0</td>\n",
              "      <td>4.0</td>\n",
              "    </tr>\n",
              "    <tr>\n",
              "      <th>3</th>\n",
              "      <td>Dabok</td>\n",
              "      <td>Udaipur</td>\n",
              "      <td>India</td>\n",
              "      <td>2016-06-21 00:00:00</td>\n",
              "      <td>Airport Transfer|Car rental|Conference Hall|Cu...</td>\n",
              "      <td>|SNP House Airport Hotel And Restaurant is loa...</td>\n",
              "      <td>1.0</td>\n",
              "      <td>//imghtlak.mmtcdn.com/images/hotels/2014071815...</td>\n",
              "      <td>Unspecified</td>\n",
              "      <td>0.0</td>\n",
              "      <td>24.622607</td>\n",
              "      <td>73.855194</td>\n",
              "      <td>0.0</td>\n",
              "      <td>0.0</td>\n",
              "      <td>0.0</td>\n",
              "      <td>3.0</td>\n",
              "      <td>http://hotelz.makemytrip.com/makemytrip/site/h...</td>\n",
              "      <td>Opp GITS, NH-76, Bamaniya Khet, Dabok , Dabok</td>\n",
              "      <td>2.01E+17</td>\n",
              "      <td>SNP House Airport Hotel And Restaurant</td>\n",
              "      <td>Hotel</td>\n",
              "      <td>2016-06-21 04:06:50 +0000</td>\n",
              "      <td>`standard</td>\n",
              "      <td>makemytrip</td>\n",
              "      <td>e6f5bb3c2d76a78d978b9ceb0e31ec56</td>\n",
              "      <td>5.0</td>\n",
              "      <td>0.0</td>\n",
              "      <td>0.0</td>\n",
              "      <td>0.0</td>\n",
              "      <td>0.0</td>\n",
              "      <td>0.0</td>\n",
              "      <td>0.0</td>\n",
              "      <td>0.0</td>\n",
              "      <td>0.0</td>\n",
              "      <td>0.0</td>\n",
              "      <td>0.0</td>\n",
              "      <td>5.0</td>\n",
              "      <td>5.0</td>\n",
              "      <td>4.0</td>\n",
              "      <td>5.0</td>\n",
              "      <td>5.0</td>\n",
              "      <td>4.0</td>\n",
              "    </tr>\n",
              "    <tr>\n",
              "      <th>4</th>\n",
              "      <td>East Udaipur</td>\n",
              "      <td>Udaipur</td>\n",
              "      <td>India</td>\n",
              "      <td>2016-06-21 00:00:00</td>\n",
              "      <td>Unspecified</td>\n",
              "      <td>| Hotel Pichola Haveli is situated in the beau...</td>\n",
              "      <td>2.0</td>\n",
              "      <td>Unspecified</td>\n",
              "      <td>Unspecified</td>\n",
              "      <td>0.0</td>\n",
              "      <td>24.580100</td>\n",
              "      <td>73.682200</td>\n",
              "      <td>0.0</td>\n",
              "      <td>0.0</td>\n",
              "      <td>3.7</td>\n",
              "      <td>139.0</td>\n",
              "      <td>http://hotelz.makemytrip.com/makemytrip/site/h...</td>\n",
              "      <td>64 Ghangour Ghat, Opp Bagore Ki Haveli , East ...</td>\n",
              "      <td>2.01E+17</td>\n",
              "      <td>Hotel Pichola Haveli (LAKE SIDE)</td>\n",
              "      <td>Hotel</td>\n",
              "      <td>2016-06-21 04:06:50 +0000</td>\n",
              "      <td>Unspecified</td>\n",
              "      <td>makemytrip</td>\n",
              "      <td>63072c301427b6ca450d31eea127bcf0</td>\n",
              "      <td>5.0</td>\n",
              "      <td>0.0</td>\n",
              "      <td>0.0</td>\n",
              "      <td>0.0</td>\n",
              "      <td>0.0</td>\n",
              "      <td>0.0</td>\n",
              "      <td>0.0</td>\n",
              "      <td>0.0</td>\n",
              "      <td>0.0</td>\n",
              "      <td>0.0</td>\n",
              "      <td>0.0</td>\n",
              "      <td>5.0</td>\n",
              "      <td>5.0</td>\n",
              "      <td>4.0</td>\n",
              "      <td>5.0</td>\n",
              "      <td>5.0</td>\n",
              "      <td>4.0</td>\n",
              "    </tr>\n",
              "  </tbody>\n",
              "</table>\n",
              "</div>"
            ],
            "text/plain": [
              "                    area  ... traveller_rating_Food\n",
              "0      Hardasji Ki Magri  ...                   4.0\n",
              "1          Near Nai Gaon  ...                   4.0\n",
              "2  Near Bagore Ki Haveli  ...                   4.0\n",
              "3                  Dabok  ...                   4.0\n",
              "4           East Udaipur  ...                   4.0\n",
              "\n",
              "[5 rows x 42 columns]"
            ]
          },
          "metadata": {
            "tags": []
          },
          "execution_count": 22
        }
      ]
    },
    {
      "cell_type": "code",
      "metadata": {
        "colab": {
          "base_uri": "https://localhost:8080/",
          "height": 304
        },
        "id": "aZ-TbyhqSrpM",
        "outputId": "772fb883-0a67-408f-ef16-85629d4ffe53"
      },
      "source": [
        "data_mmt.describe()"
      ],
      "execution_count": 23,
      "outputs": [
        {
          "output_type": "execute_result",
          "data": {
            "text/html": [
              "<div>\n",
              "<style scoped>\n",
              "    .dataframe tbody tr th:only-of-type {\n",
              "        vertical-align: middle;\n",
              "    }\n",
              "\n",
              "    .dataframe tbody tr th {\n",
              "        vertical-align: top;\n",
              "    }\n",
              "\n",
              "    .dataframe thead th {\n",
              "        text-align: right;\n",
              "    }\n",
              "</style>\n",
              "<table border=\"1\" class=\"dataframe\">\n",
              "  <thead>\n",
              "    <tr style=\"text-align: right;\">\n",
              "      <th></th>\n",
              "      <th>hotel_star_rating</th>\n",
              "      <th>is_value_plus</th>\n",
              "      <th>latitude</th>\n",
              "      <th>longitude</th>\n",
              "      <th>mmt_holidayiq_review_count</th>\n",
              "      <th>mmt_review_count</th>\n",
              "      <th>mmt_review_score</th>\n",
              "      <th>mmt_tripadvisor_count</th>\n",
              "      <th>mmt_loc_rating</th>\n",
              "      <th>mmt_review_rating_Excellent</th>\n",
              "      <th>mmt_review_rating_VeryGood</th>\n",
              "      <th>mmt_review_rating_Average</th>\n",
              "      <th>mmt_review_rating_Poor</th>\n",
              "      <th>mmt_review_rating_Terrible</th>\n",
              "      <th>mmt_traveller_type_review_count_Families</th>\n",
              "      <th>mmt_traveller_type_review_count_Couples</th>\n",
              "      <th>mmt_traveller_type_review_count_Business</th>\n",
              "      <th>mmt_traveller_type_review_count_Solo</th>\n",
              "      <th>mmt_traveller_type_review_count_Friends</th>\n",
              "      <th>traveller_rating_Location</th>\n",
              "      <th>traveller_rating_Hospitality</th>\n",
              "      <th>traveller_rating_Facilities</th>\n",
              "      <th>traveller_rating_Cleanliness</th>\n",
              "      <th>traveller_rating_Money</th>\n",
              "      <th>traveller_rating_Food</th>\n",
              "    </tr>\n",
              "  </thead>\n",
              "  <tbody>\n",
              "    <tr>\n",
              "      <th>count</th>\n",
              "      <td>20022.000000</td>\n",
              "      <td>20022.000000</td>\n",
              "      <td>20022.000000</td>\n",
              "      <td>20022.000000</td>\n",
              "      <td>20022.000000</td>\n",
              "      <td>20022.000000</td>\n",
              "      <td>20022.000000</td>\n",
              "      <td>20022.000000</td>\n",
              "      <td>20022.000000</td>\n",
              "      <td>20022.000000</td>\n",
              "      <td>20022.000000</td>\n",
              "      <td>20022.000000</td>\n",
              "      <td>20022.000000</td>\n",
              "      <td>20022.000000</td>\n",
              "      <td>20022.000000</td>\n",
              "      <td>20022.000000</td>\n",
              "      <td>20022.000000</td>\n",
              "      <td>20022.000000</td>\n",
              "      <td>20022.000000</td>\n",
              "      <td>20022.000000</td>\n",
              "      <td>20022.000000</td>\n",
              "      <td>20022.000000</td>\n",
              "      <td>20022.000000</td>\n",
              "      <td>20022.000000</td>\n",
              "      <td>20022.000000</td>\n",
              "    </tr>\n",
              "    <tr>\n",
              "      <th>mean</th>\n",
              "      <td>1.818200</td>\n",
              "      <td>0.036959</td>\n",
              "      <td>16.599315</td>\n",
              "      <td>59.359093</td>\n",
              "      <td>7.558685</td>\n",
              "      <td>10.167316</td>\n",
              "      <td>1.732324</td>\n",
              "      <td>48.375986</td>\n",
              "      <td>4.888518</td>\n",
              "      <td>4.381930</td>\n",
              "      <td>2.145140</td>\n",
              "      <td>2.082609</td>\n",
              "      <td>1.125961</td>\n",
              "      <td>0.431725</td>\n",
              "      <td>3.449506</td>\n",
              "      <td>2.088403</td>\n",
              "      <td>1.083758</td>\n",
              "      <td>0.364199</td>\n",
              "      <td>0.273349</td>\n",
              "      <td>4.708111</td>\n",
              "      <td>4.626151</td>\n",
              "      <td>3.910274</td>\n",
              "      <td>4.605289</td>\n",
              "      <td>4.637549</td>\n",
              "      <td>3.695790</td>\n",
              "    </tr>\n",
              "    <tr>\n",
              "      <th>std</th>\n",
              "      <td>1.091587</td>\n",
              "      <td>0.188667</td>\n",
              "      <td>11.452184</td>\n",
              "      <td>32.884334</td>\n",
              "      <td>38.622485</td>\n",
              "      <td>36.052386</td>\n",
              "      <td>1.989174</td>\n",
              "      <td>150.948968</td>\n",
              "      <td>0.394712</td>\n",
              "      <td>16.725083</td>\n",
              "      <td>8.325007</td>\n",
              "      <td>8.214713</td>\n",
              "      <td>4.352864</td>\n",
              "      <td>1.849788</td>\n",
              "      <td>13.018106</td>\n",
              "      <td>8.159881</td>\n",
              "      <td>5.403228</td>\n",
              "      <td>1.728374</td>\n",
              "      <td>2.360254</td>\n",
              "      <td>0.636897</td>\n",
              "      <td>0.778656</td>\n",
              "      <td>0.493475</td>\n",
              "      <td>0.774730</td>\n",
              "      <td>0.699866</td>\n",
              "      <td>0.852525</td>\n",
              "    </tr>\n",
              "    <tr>\n",
              "      <th>min</th>\n",
              "      <td>0.000000</td>\n",
              "      <td>0.000000</td>\n",
              "      <td>-8.744480</td>\n",
              "      <td>0.000000</td>\n",
              "      <td>0.000000</td>\n",
              "      <td>0.000000</td>\n",
              "      <td>0.000000</td>\n",
              "      <td>1.000000</td>\n",
              "      <td>0.000000</td>\n",
              "      <td>0.000000</td>\n",
              "      <td>0.000000</td>\n",
              "      <td>0.000000</td>\n",
              "      <td>0.000000</td>\n",
              "      <td>0.000000</td>\n",
              "      <td>0.000000</td>\n",
              "      <td>0.000000</td>\n",
              "      <td>0.000000</td>\n",
              "      <td>0.000000</td>\n",
              "      <td>0.000000</td>\n",
              "      <td>0.000000</td>\n",
              "      <td>0.000000</td>\n",
              "      <td>1.000000</td>\n",
              "      <td>0.000000</td>\n",
              "      <td>0.000000</td>\n",
              "      <td>0.000000</td>\n",
              "    </tr>\n",
              "    <tr>\n",
              "      <th>25%</th>\n",
              "      <td>1.000000</td>\n",
              "      <td>0.000000</td>\n",
              "      <td>9.601743</td>\n",
              "      <td>72.559908</td>\n",
              "      <td>0.000000</td>\n",
              "      <td>0.000000</td>\n",
              "      <td>0.000000</td>\n",
              "      <td>1.000000</td>\n",
              "      <td>5.000000</td>\n",
              "      <td>0.000000</td>\n",
              "      <td>0.000000</td>\n",
              "      <td>0.000000</td>\n",
              "      <td>0.000000</td>\n",
              "      <td>0.000000</td>\n",
              "      <td>0.000000</td>\n",
              "      <td>0.000000</td>\n",
              "      <td>0.000000</td>\n",
              "      <td>0.000000</td>\n",
              "      <td>0.000000</td>\n",
              "      <td>4.700000</td>\n",
              "      <td>4.500000</td>\n",
              "      <td>4.000000</td>\n",
              "      <td>4.500000</td>\n",
              "      <td>4.500000</td>\n",
              "      <td>4.000000</td>\n",
              "    </tr>\n",
              "    <tr>\n",
              "      <th>50%</th>\n",
              "      <td>1.000000</td>\n",
              "      <td>0.000000</td>\n",
              "      <td>17.471473</td>\n",
              "      <td>75.853202</td>\n",
              "      <td>0.000000</td>\n",
              "      <td>0.000000</td>\n",
              "      <td>0.000000</td>\n",
              "      <td>2.000000</td>\n",
              "      <td>5.000000</td>\n",
              "      <td>0.000000</td>\n",
              "      <td>0.000000</td>\n",
              "      <td>0.000000</td>\n",
              "      <td>0.000000</td>\n",
              "      <td>0.000000</td>\n",
              "      <td>0.000000</td>\n",
              "      <td>0.000000</td>\n",
              "      <td>0.000000</td>\n",
              "      <td>0.000000</td>\n",
              "      <td>0.000000</td>\n",
              "      <td>5.000000</td>\n",
              "      <td>5.000000</td>\n",
              "      <td>4.000000</td>\n",
              "      <td>5.000000</td>\n",
              "      <td>5.000000</td>\n",
              "      <td>4.000000</td>\n",
              "    </tr>\n",
              "    <tr>\n",
              "      <th>75%</th>\n",
              "      <td>3.000000</td>\n",
              "      <td>0.000000</td>\n",
              "      <td>26.914340</td>\n",
              "      <td>77.617107</td>\n",
              "      <td>0.000000</td>\n",
              "      <td>3.000000</td>\n",
              "      <td>3.900000</td>\n",
              "      <td>30.000000</td>\n",
              "      <td>5.000000</td>\n",
              "      <td>1.000000</td>\n",
              "      <td>0.000000</td>\n",
              "      <td>0.000000</td>\n",
              "      <td>0.000000</td>\n",
              "      <td>0.000000</td>\n",
              "      <td>1.000000</td>\n",
              "      <td>0.000000</td>\n",
              "      <td>0.000000</td>\n",
              "      <td>0.000000</td>\n",
              "      <td>0.000000</td>\n",
              "      <td>5.000000</td>\n",
              "      <td>5.000000</td>\n",
              "      <td>4.000000</td>\n",
              "      <td>5.000000</td>\n",
              "      <td>5.000000</td>\n",
              "      <td>4.000000</td>\n",
              "    </tr>\n",
              "    <tr>\n",
              "      <th>max</th>\n",
              "      <td>5.000000</td>\n",
              "      <td>1.000000</td>\n",
              "      <td>80.162362</td>\n",
              "      <td>130.000000</td>\n",
              "      <td>1230.000000</td>\n",
              "      <td>1335.000000</td>\n",
              "      <td>5.000000</td>\n",
              "      <td>4481.000000</td>\n",
              "      <td>5.000000</td>\n",
              "      <td>535.000000</td>\n",
              "      <td>320.000000</td>\n",
              "      <td>281.000000</td>\n",
              "      <td>152.000000</td>\n",
              "      <td>54.000000</td>\n",
              "      <td>459.000000</td>\n",
              "      <td>435.000000</td>\n",
              "      <td>163.000000</td>\n",
              "      <td>57.000000</td>\n",
              "      <td>110.000000</td>\n",
              "      <td>5.000000</td>\n",
              "      <td>5.000000</td>\n",
              "      <td>5.000000</td>\n",
              "      <td>5.000000</td>\n",
              "      <td>5.000000</td>\n",
              "      <td>5.000000</td>\n",
              "    </tr>\n",
              "  </tbody>\n",
              "</table>\n",
              "</div>"
            ],
            "text/plain": [
              "       hotel_star_rating  ...  traveller_rating_Food\n",
              "count       20022.000000  ...           20022.000000\n",
              "mean            1.818200  ...               3.695790\n",
              "std             1.091587  ...               0.852525\n",
              "min             0.000000  ...               0.000000\n",
              "25%             1.000000  ...               4.000000\n",
              "50%             1.000000  ...               4.000000\n",
              "75%             3.000000  ...               4.000000\n",
              "max             5.000000  ...               5.000000\n",
              "\n",
              "[8 rows x 25 columns]"
            ]
          },
          "metadata": {
            "tags": []
          },
          "execution_count": 23
        }
      ]
    },
    {
      "cell_type": "code",
      "metadata": {
        "id": "SToVvbuDwrHS"
      },
      "source": [
        "data_mmt=data_mmt.drop_duplicates()"
      ],
      "execution_count": 24,
      "outputs": []
    },
    {
      "cell_type": "code",
      "metadata": {
        "id": "cmijD26uV9HN"
      },
      "source": [
        "data_mmt=data_mmt.reset_index(drop=True)"
      ],
      "execution_count": 25,
      "outputs": []
    },
    {
      "cell_type": "code",
      "metadata": {
        "colab": {
          "base_uri": "https://localhost:8080/",
          "height": 501
        },
        "id": "h2KVE16YWTC6",
        "outputId": "668a4acc-7040-447d-84f7-26f92ea74e62"
      },
      "source": [
        "data_mmt.tail()"
      ],
      "execution_count": 26,
      "outputs": [
        {
          "output_type": "execute_result",
          "data": {
            "text/html": [
              "<div>\n",
              "<style scoped>\n",
              "    .dataframe tbody tr th:only-of-type {\n",
              "        vertical-align: middle;\n",
              "    }\n",
              "\n",
              "    .dataframe tbody tr th {\n",
              "        vertical-align: top;\n",
              "    }\n",
              "\n",
              "    .dataframe thead th {\n",
              "        text-align: right;\n",
              "    }\n",
              "</style>\n",
              "<table border=\"1\" class=\"dataframe\">\n",
              "  <thead>\n",
              "    <tr style=\"text-align: right;\">\n",
              "      <th></th>\n",
              "      <th>area</th>\n",
              "      <th>city</th>\n",
              "      <th>country</th>\n",
              "      <th>crawl_date</th>\n",
              "      <th>highlight_value</th>\n",
              "      <th>hotel_overview</th>\n",
              "      <th>hotel_star_rating</th>\n",
              "      <th>image_urls</th>\n",
              "      <th>in_your_room</th>\n",
              "      <th>is_value_plus</th>\n",
              "      <th>latitude</th>\n",
              "      <th>longitude</th>\n",
              "      <th>mmt_holidayiq_review_count</th>\n",
              "      <th>mmt_review_count</th>\n",
              "      <th>mmt_review_score</th>\n",
              "      <th>mmt_tripadvisor_count</th>\n",
              "      <th>pageurl</th>\n",
              "      <th>property_address</th>\n",
              "      <th>property_id</th>\n",
              "      <th>property_name</th>\n",
              "      <th>property_type</th>\n",
              "      <th>query_time_stamp</th>\n",
              "      <th>room_types</th>\n",
              "      <th>sitename</th>\n",
              "      <th>uniq_id</th>\n",
              "      <th>mmt_loc_rating</th>\n",
              "      <th>mmt_review_rating_Excellent</th>\n",
              "      <th>mmt_review_rating_VeryGood</th>\n",
              "      <th>mmt_review_rating_Average</th>\n",
              "      <th>mmt_review_rating_Poor</th>\n",
              "      <th>mmt_review_rating_Terrible</th>\n",
              "      <th>mmt_traveller_type_review_count_Families</th>\n",
              "      <th>mmt_traveller_type_review_count_Couples</th>\n",
              "      <th>mmt_traveller_type_review_count_Business</th>\n",
              "      <th>mmt_traveller_type_review_count_Solo</th>\n",
              "      <th>mmt_traveller_type_review_count_Friends</th>\n",
              "      <th>traveller_rating_Location</th>\n",
              "      <th>traveller_rating_Hospitality</th>\n",
              "      <th>traveller_rating_Facilities</th>\n",
              "      <th>traveller_rating_Cleanliness</th>\n",
              "      <th>traveller_rating_Money</th>\n",
              "      <th>traveller_rating_Food</th>\n",
              "    </tr>\n",
              "  </thead>\n",
              "  <tbody>\n",
              "    <tr>\n",
              "      <th>17809</th>\n",
              "      <td>Thonichal, Mananthavady</td>\n",
              "      <td>Wayanad</td>\n",
              "      <td>India</td>\n",
              "      <td>Unspecified</td>\n",
              "      <td>Conference Hall|Doctor on Call|Room Service|Tr...</td>\n",
              "      <td>|Abhirami Farm Resorts is a budget property, s...</td>\n",
              "      <td>1.0</td>\n",
              "      <td>//imghtlak.mmtcdn.com/images/hotels/2014121816...</td>\n",
              "      <td>Telephone | Bathroom Toiletries | Television |...</td>\n",
              "      <td>0.0</td>\n",
              "      <td>11.769778</td>\n",
              "      <td>76.001652</td>\n",
              "      <td>0.0</td>\n",
              "      <td>0.0</td>\n",
              "      <td>0.0</td>\n",
              "      <td>3.0</td>\n",
              "      <td>http://hotelz.makemytrip.com/makemytrip/site/h...</td>\n",
              "      <td>Thonichal, Mananthavady , Thonichal, Mananthavady</td>\n",
              "      <td>201412181611103798&amp;i=</td>\n",
              "      <td>Abhirami Farm Resorts</td>\n",
              "      <td>Hotel</td>\n",
              "      <td>2016-04-17 11:08:24 +0000</td>\n",
              "      <td>Cottage (Standard Cottage)</td>\n",
              "      <td>makemytrip</td>\n",
              "      <td>f3c6e1f4c4d37a4193f6446d3421c0d4</td>\n",
              "      <td>5.0</td>\n",
              "      <td>0.0</td>\n",
              "      <td>0.0</td>\n",
              "      <td>0.0</td>\n",
              "      <td>0.0</td>\n",
              "      <td>0.0</td>\n",
              "      <td>0.0</td>\n",
              "      <td>0.0</td>\n",
              "      <td>0.0</td>\n",
              "      <td>0.0</td>\n",
              "      <td>0.0</td>\n",
              "      <td>5.0</td>\n",
              "      <td>5.0</td>\n",
              "      <td>4.0</td>\n",
              "      <td>5.0</td>\n",
              "      <td>5.0</td>\n",
              "      <td>4.0</td>\n",
              "    </tr>\n",
              "    <tr>\n",
              "      <th>17810</th>\n",
              "      <td>Unspecified</td>\n",
              "      <td>Varanasi</td>\n",
              "      <td>India</td>\n",
              "      <td>Unspecified</td>\n",
              "      <td>24 Hour Doctor On Call.|Laundry Service (At a ...</td>\n",
              "      <td>|Located in the Holy City of Varanasi, Hotel G...</td>\n",
              "      <td>1.0</td>\n",
              "      <td>//imghtlak.mmtcdn.com/images/hotels/2014102213...</td>\n",
              "      <td>Unspecified</td>\n",
              "      <td>0.0</td>\n",
              "      <td>25.310400</td>\n",
              "      <td>83.010200</td>\n",
              "      <td>3.0</td>\n",
              "      <td>1.0</td>\n",
              "      <td>2.9</td>\n",
              "      <td>32.0</td>\n",
              "      <td>http://hotelz.makemytrip.com/makemytrip/site/h...</td>\n",
              "      <td>D 8/35, Kalika Gali, Near Kashi Vishvenath Tem...</td>\n",
              "      <td>201410221340043424&amp;i=</td>\n",
              "      <td>Golden LodgeVaranasi</td>\n",
              "      <td>Lodge</td>\n",
              "      <td>2016-04-17 11:08:24 +0000</td>\n",
              "      <td>Ac Single Room|Ac Double Room</td>\n",
              "      <td>makemytrip</td>\n",
              "      <td>51760b0acd99c150c6d64584cf029542</td>\n",
              "      <td>5.0</td>\n",
              "      <td>0.0</td>\n",
              "      <td>0.0</td>\n",
              "      <td>0.0</td>\n",
              "      <td>1.0</td>\n",
              "      <td>0.0</td>\n",
              "      <td>0.0</td>\n",
              "      <td>0.0</td>\n",
              "      <td>0.0</td>\n",
              "      <td>0.0</td>\n",
              "      <td>0.0</td>\n",
              "      <td>4.0</td>\n",
              "      <td>2.0</td>\n",
              "      <td>3.0</td>\n",
              "      <td>3.0</td>\n",
              "      <td>2.0</td>\n",
              "      <td>3.0</td>\n",
              "    </tr>\n",
              "    <tr>\n",
              "      <th>17811</th>\n",
              "      <td>Central Mysore,Nazarbad Road</td>\n",
              "      <td>WeekendGetawaysAroundChennai</td>\n",
              "      <td>India</td>\n",
              "      <td>Unspecified</td>\n",
              "      <td>Airport/Rlwy Stn Transfer|Business Centre|Conf...</td>\n",
              "      <td>|Ginger Hotel is nestled in Mysore which is ca...</td>\n",
              "      <td>3.0</td>\n",
              "      <td>//imghtlak.mmtcdn.com/images/hotels/2007011716...</td>\n",
              "      <td>Electronic Key | Tea/Coffee Maker | Telephone ...</td>\n",
              "      <td>0.0</td>\n",
              "      <td>12.307097</td>\n",
              "      <td>76.667002</td>\n",
              "      <td>219.0</td>\n",
              "      <td>359.0</td>\n",
              "      <td>4.0</td>\n",
              "      <td>553.0</td>\n",
              "      <td>http://hotelz.makemytrip.com/makemytrip/site/h...</td>\n",
              "      <td>Vasanth Mahal Road, Nazarbad , Mysore</td>\n",
              "      <td>200701171638057267&amp;i=</td>\n",
              "      <td>Ginger Hotel - Mysore</td>\n",
              "      <td>Hotel</td>\n",
              "      <td>2016-04-17 11:08:24 +0000</td>\n",
              "      <td>Single|Double</td>\n",
              "      <td>makemytrip</td>\n",
              "      <td>26791dbfec7bf141a326fcc169841596</td>\n",
              "      <td>5.0</td>\n",
              "      <td>132.0</td>\n",
              "      <td>97.0</td>\n",
              "      <td>91.0</td>\n",
              "      <td>34.0</td>\n",
              "      <td>5.0</td>\n",
              "      <td>160.0</td>\n",
              "      <td>41.0</td>\n",
              "      <td>2.0</td>\n",
              "      <td>5.0</td>\n",
              "      <td>2.0</td>\n",
              "      <td>4.4</td>\n",
              "      <td>4.1</td>\n",
              "      <td>3.8</td>\n",
              "      <td>4.1</td>\n",
              "      <td>4.1</td>\n",
              "      <td>3.7</td>\n",
              "    </tr>\n",
              "    <tr>\n",
              "      <th>17812</th>\n",
              "      <td>Wayanad</td>\n",
              "      <td>Wayanad</td>\n",
              "      <td>India</td>\n",
              "      <td>Unspecified</td>\n",
              "      <td>Unspecified</td>\n",
              "      <td>Homestay is situated at Korram, in Wayanad Dis...</td>\n",
              "      <td>1.0</td>\n",
              "      <td>http://www.tripvillas.com/media/origin/1049657...</td>\n",
              "      <td>Television | Linen Provided | Hot Water | Show...</td>\n",
              "      <td>0.0</td>\n",
              "      <td>11.607579</td>\n",
              "      <td>76.082773</td>\n",
              "      <td>0.0</td>\n",
              "      <td>0.0</td>\n",
              "      <td>0.0</td>\n",
              "      <td>1.0</td>\n",
              "      <td>http://hotelz.makemytrip.com/makemytrip/site/h...</td>\n",
              "      <td>Near Town Koram , Wayanad</td>\n",
              "      <td>3274006741488222&amp;i=</td>\n",
              "      <td>Private 2 room Homestay in Kalpetta</td>\n",
              "      <td>Hotel</td>\n",
              "      <td>2016-04-17 11:08:24 +0000</td>\n",
              "      <td>Standard Room</td>\n",
              "      <td>makemytrip</td>\n",
              "      <td>6a862c717678f0e6cfcd1e3daa28e31d</td>\n",
              "      <td>5.0</td>\n",
              "      <td>0.0</td>\n",
              "      <td>0.0</td>\n",
              "      <td>0.0</td>\n",
              "      <td>0.0</td>\n",
              "      <td>0.0</td>\n",
              "      <td>0.0</td>\n",
              "      <td>0.0</td>\n",
              "      <td>0.0</td>\n",
              "      <td>0.0</td>\n",
              "      <td>0.0</td>\n",
              "      <td>5.0</td>\n",
              "      <td>5.0</td>\n",
              "      <td>4.0</td>\n",
              "      <td>5.0</td>\n",
              "      <td>5.0</td>\n",
              "      <td>4.0</td>\n",
              "    </tr>\n",
              "    <tr>\n",
              "      <th>17813</th>\n",
              "      <td>Opp. APSEB Sub Station,Behind Bezwada Home Foo...</td>\n",
              "      <td>Vishakhapatnam</td>\n",
              "      <td>India</td>\n",
              "      <td>Unspecified</td>\n",
              "      <td>Conference Hall|Dining Hall|Internet Facility|...</td>\n",
              "      <td>|4.4 km from Ramkrishna Beach, 4.2 km from Al ...</td>\n",
              "      <td>1.0</td>\n",
              "      <td>//imghtlak.mmtcdn.com/images/hotels/2011021211...</td>\n",
              "      <td>Telephone | Mineral Water | Daily Newspaper | ...</td>\n",
              "      <td>1.0</td>\n",
              "      <td>17.739367</td>\n",
              "      <td>83.307634</td>\n",
              "      <td>14.0</td>\n",
              "      <td>26.0</td>\n",
              "      <td>4.3</td>\n",
              "      <td>25.0</td>\n",
              "      <td>http://hotelz.makemytrip.com/makemytrip/site/h...</td>\n",
              "      <td>D.No:50-50-20/A, T.P.T Colony , Opp: APSEB Sub...</td>\n",
              "      <td>201102121107212980&amp;i=</td>\n",
              "      <td>White Villa</td>\n",
              "      <td>Hotel</td>\n",
              "      <td>2016-04-17 11:08:24 +0000</td>\n",
              "      <td>Bollywood|Hollywood</td>\n",
              "      <td>makemytrip</td>\n",
              "      <td>e116d87dd4480e8398604e54097a6153</td>\n",
              "      <td>5.0</td>\n",
              "      <td>11.0</td>\n",
              "      <td>10.0</td>\n",
              "      <td>4.0</td>\n",
              "      <td>1.0</td>\n",
              "      <td>0.0</td>\n",
              "      <td>5.0</td>\n",
              "      <td>5.0</td>\n",
              "      <td>1.0</td>\n",
              "      <td>3.0</td>\n",
              "      <td>1.0</td>\n",
              "      <td>4.2</td>\n",
              "      <td>4.2</td>\n",
              "      <td>4.3</td>\n",
              "      <td>4.3</td>\n",
              "      <td>4.3</td>\n",
              "      <td>4.1</td>\n",
              "    </tr>\n",
              "  </tbody>\n",
              "</table>\n",
              "</div>"
            ],
            "text/plain": [
              "                                                    area  ... traveller_rating_Food\n",
              "17809                            Thonichal, Mananthavady  ...                   4.0\n",
              "17810                                        Unspecified  ...                   3.0\n",
              "17811                       Central Mysore,Nazarbad Road  ...                   3.7\n",
              "17812                                            Wayanad  ...                   4.0\n",
              "17813  Opp. APSEB Sub Station,Behind Bezwada Home Foo...  ...                   4.1\n",
              "\n",
              "[5 rows x 42 columns]"
            ]
          },
          "metadata": {
            "tags": []
          },
          "execution_count": 26
        }
      ]
    },
    {
      "cell_type": "code",
      "metadata": {
        "colab": {
          "base_uri": "https://localhost:8080/"
        },
        "id": "_hS3XcunxSce",
        "outputId": "553f928c-4332-41b8-906b-18009bc57fb4"
      },
      "source": [
        "data_mmt.shape"
      ],
      "execution_count": 27,
      "outputs": [
        {
          "output_type": "execute_result",
          "data": {
            "text/plain": [
              "(17814, 42)"
            ]
          },
          "metadata": {
            "tags": []
          },
          "execution_count": 27
        }
      ]
    },
    {
      "cell_type": "code",
      "metadata": {
        "colab": {
          "base_uri": "https://localhost:8080/",
          "height": 304
        },
        "id": "jq5h7b1GQycB",
        "outputId": "6a71debc-ed19-49b8-ad15-8647c0828cf2"
      },
      "source": [
        "data_mmt.describe()"
      ],
      "execution_count": 28,
      "outputs": [
        {
          "output_type": "execute_result",
          "data": {
            "text/html": [
              "<div>\n",
              "<style scoped>\n",
              "    .dataframe tbody tr th:only-of-type {\n",
              "        vertical-align: middle;\n",
              "    }\n",
              "\n",
              "    .dataframe tbody tr th {\n",
              "        vertical-align: top;\n",
              "    }\n",
              "\n",
              "    .dataframe thead th {\n",
              "        text-align: right;\n",
              "    }\n",
              "</style>\n",
              "<table border=\"1\" class=\"dataframe\">\n",
              "  <thead>\n",
              "    <tr style=\"text-align: right;\">\n",
              "      <th></th>\n",
              "      <th>hotel_star_rating</th>\n",
              "      <th>is_value_plus</th>\n",
              "      <th>latitude</th>\n",
              "      <th>longitude</th>\n",
              "      <th>mmt_holidayiq_review_count</th>\n",
              "      <th>mmt_review_count</th>\n",
              "      <th>mmt_review_score</th>\n",
              "      <th>mmt_tripadvisor_count</th>\n",
              "      <th>mmt_loc_rating</th>\n",
              "      <th>mmt_review_rating_Excellent</th>\n",
              "      <th>mmt_review_rating_VeryGood</th>\n",
              "      <th>mmt_review_rating_Average</th>\n",
              "      <th>mmt_review_rating_Poor</th>\n",
              "      <th>mmt_review_rating_Terrible</th>\n",
              "      <th>mmt_traveller_type_review_count_Families</th>\n",
              "      <th>mmt_traveller_type_review_count_Couples</th>\n",
              "      <th>mmt_traveller_type_review_count_Business</th>\n",
              "      <th>mmt_traveller_type_review_count_Solo</th>\n",
              "      <th>mmt_traveller_type_review_count_Friends</th>\n",
              "      <th>traveller_rating_Location</th>\n",
              "      <th>traveller_rating_Hospitality</th>\n",
              "      <th>traveller_rating_Facilities</th>\n",
              "      <th>traveller_rating_Cleanliness</th>\n",
              "      <th>traveller_rating_Money</th>\n",
              "      <th>traveller_rating_Food</th>\n",
              "    </tr>\n",
              "  </thead>\n",
              "  <tbody>\n",
              "    <tr>\n",
              "      <th>count</th>\n",
              "      <td>17814.000000</td>\n",
              "      <td>17814.000000</td>\n",
              "      <td>17814.000000</td>\n",
              "      <td>17814.000000</td>\n",
              "      <td>17814.000000</td>\n",
              "      <td>17814.000000</td>\n",
              "      <td>17814.000000</td>\n",
              "      <td>17814.000000</td>\n",
              "      <td>17814.000000</td>\n",
              "      <td>17814.000000</td>\n",
              "      <td>17814.000000</td>\n",
              "      <td>17814.000000</td>\n",
              "      <td>17814.000000</td>\n",
              "      <td>17814.000000</td>\n",
              "      <td>17814.000000</td>\n",
              "      <td>17814.000000</td>\n",
              "      <td>17814.000000</td>\n",
              "      <td>17814.000000</td>\n",
              "      <td>17814.000000</td>\n",
              "      <td>17814.000000</td>\n",
              "      <td>17814.000000</td>\n",
              "      <td>17814.000000</td>\n",
              "      <td>17814.000000</td>\n",
              "      <td>17814.000000</td>\n",
              "      <td>17814.000000</td>\n",
              "    </tr>\n",
              "    <tr>\n",
              "      <th>mean</th>\n",
              "      <td>1.824745</td>\n",
              "      <td>0.036937</td>\n",
              "      <td>16.644552</td>\n",
              "      <td>59.363062</td>\n",
              "      <td>7.211070</td>\n",
              "      <td>10.265521</td>\n",
              "      <td>1.731144</td>\n",
              "      <td>48.860447</td>\n",
              "      <td>4.884462</td>\n",
              "      <td>4.445212</td>\n",
              "      <td>2.152689</td>\n",
              "      <td>2.091501</td>\n",
              "      <td>1.141069</td>\n",
              "      <td>0.435107</td>\n",
              "      <td>3.467273</td>\n",
              "      <td>2.129617</td>\n",
              "      <td>1.107668</td>\n",
              "      <td>0.366004</td>\n",
              "      <td>0.283934</td>\n",
              "      <td>4.706764</td>\n",
              "      <td>4.627473</td>\n",
              "      <td>3.910683</td>\n",
              "      <td>4.605019</td>\n",
              "      <td>4.638734</td>\n",
              "      <td>3.691888</td>\n",
              "    </tr>\n",
              "    <tr>\n",
              "      <th>std</th>\n",
              "      <td>1.093477</td>\n",
              "      <td>0.188613</td>\n",
              "      <td>11.451249</td>\n",
              "      <td>32.879378</td>\n",
              "      <td>36.565835</td>\n",
              "      <td>36.634736</td>\n",
              "      <td>1.988806</td>\n",
              "      <td>150.056469</td>\n",
              "      <td>0.400714</td>\n",
              "      <td>16.996095</td>\n",
              "      <td>8.414081</td>\n",
              "      <td>8.336064</td>\n",
              "      <td>4.458700</td>\n",
              "      <td>1.880600</td>\n",
              "      <td>13.131985</td>\n",
              "      <td>8.370973</td>\n",
              "      <td>5.504592</td>\n",
              "      <td>1.741242</td>\n",
              "      <td>2.462084</td>\n",
              "      <td>0.645020</td>\n",
              "      <td>0.778947</td>\n",
              "      <td>0.492858</td>\n",
              "      <td>0.777421</td>\n",
              "      <td>0.700845</td>\n",
              "      <td>0.854324</td>\n",
              "    </tr>\n",
              "    <tr>\n",
              "      <th>min</th>\n",
              "      <td>0.000000</td>\n",
              "      <td>0.000000</td>\n",
              "      <td>-8.744480</td>\n",
              "      <td>0.000000</td>\n",
              "      <td>0.000000</td>\n",
              "      <td>0.000000</td>\n",
              "      <td>0.000000</td>\n",
              "      <td>1.000000</td>\n",
              "      <td>0.000000</td>\n",
              "      <td>0.000000</td>\n",
              "      <td>0.000000</td>\n",
              "      <td>0.000000</td>\n",
              "      <td>0.000000</td>\n",
              "      <td>0.000000</td>\n",
              "      <td>0.000000</td>\n",
              "      <td>0.000000</td>\n",
              "      <td>0.000000</td>\n",
              "      <td>0.000000</td>\n",
              "      <td>0.000000</td>\n",
              "      <td>0.000000</td>\n",
              "      <td>0.000000</td>\n",
              "      <td>1.000000</td>\n",
              "      <td>0.000000</td>\n",
              "      <td>0.000000</td>\n",
              "      <td>0.000000</td>\n",
              "    </tr>\n",
              "    <tr>\n",
              "      <th>25%</th>\n",
              "      <td>1.000000</td>\n",
              "      <td>0.000000</td>\n",
              "      <td>9.599008</td>\n",
              "      <td>72.559144</td>\n",
              "      <td>0.000000</td>\n",
              "      <td>0.000000</td>\n",
              "      <td>0.000000</td>\n",
              "      <td>1.000000</td>\n",
              "      <td>5.000000</td>\n",
              "      <td>0.000000</td>\n",
              "      <td>0.000000</td>\n",
              "      <td>0.000000</td>\n",
              "      <td>0.000000</td>\n",
              "      <td>0.000000</td>\n",
              "      <td>0.000000</td>\n",
              "      <td>0.000000</td>\n",
              "      <td>0.000000</td>\n",
              "      <td>0.000000</td>\n",
              "      <td>0.000000</td>\n",
              "      <td>4.700000</td>\n",
              "      <td>4.500000</td>\n",
              "      <td>4.000000</td>\n",
              "      <td>4.500000</td>\n",
              "      <td>4.500000</td>\n",
              "      <td>4.000000</td>\n",
              "    </tr>\n",
              "    <tr>\n",
              "      <th>50%</th>\n",
              "      <td>1.000000</td>\n",
              "      <td>0.000000</td>\n",
              "      <td>17.533300</td>\n",
              "      <td>75.840236</td>\n",
              "      <td>0.000000</td>\n",
              "      <td>0.000000</td>\n",
              "      <td>0.000000</td>\n",
              "      <td>2.000000</td>\n",
              "      <td>5.000000</td>\n",
              "      <td>0.000000</td>\n",
              "      <td>0.000000</td>\n",
              "      <td>0.000000</td>\n",
              "      <td>0.000000</td>\n",
              "      <td>0.000000</td>\n",
              "      <td>0.000000</td>\n",
              "      <td>0.000000</td>\n",
              "      <td>0.000000</td>\n",
              "      <td>0.000000</td>\n",
              "      <td>0.000000</td>\n",
              "      <td>5.000000</td>\n",
              "      <td>5.000000</td>\n",
              "      <td>4.000000</td>\n",
              "      <td>5.000000</td>\n",
              "      <td>5.000000</td>\n",
              "      <td>4.000000</td>\n",
              "    </tr>\n",
              "    <tr>\n",
              "      <th>75%</th>\n",
              "      <td>3.000000</td>\n",
              "      <td>0.000000</td>\n",
              "      <td>26.918231</td>\n",
              "      <td>77.603614</td>\n",
              "      <td>0.000000</td>\n",
              "      <td>3.000000</td>\n",
              "      <td>3.900000</td>\n",
              "      <td>31.000000</td>\n",
              "      <td>5.000000</td>\n",
              "      <td>1.000000</td>\n",
              "      <td>0.000000</td>\n",
              "      <td>0.000000</td>\n",
              "      <td>0.000000</td>\n",
              "      <td>0.000000</td>\n",
              "      <td>1.000000</td>\n",
              "      <td>0.000000</td>\n",
              "      <td>0.000000</td>\n",
              "      <td>0.000000</td>\n",
              "      <td>0.000000</td>\n",
              "      <td>5.000000</td>\n",
              "      <td>5.000000</td>\n",
              "      <td>4.000000</td>\n",
              "      <td>5.000000</td>\n",
              "      <td>5.000000</td>\n",
              "      <td>4.000000</td>\n",
              "    </tr>\n",
              "    <tr>\n",
              "      <th>max</th>\n",
              "      <td>5.000000</td>\n",
              "      <td>1.000000</td>\n",
              "      <td>80.162362</td>\n",
              "      <td>130.000000</td>\n",
              "      <td>1230.000000</td>\n",
              "      <td>1335.000000</td>\n",
              "      <td>5.000000</td>\n",
              "      <td>4481.000000</td>\n",
              "      <td>5.000000</td>\n",
              "      <td>535.000000</td>\n",
              "      <td>320.000000</td>\n",
              "      <td>281.000000</td>\n",
              "      <td>152.000000</td>\n",
              "      <td>54.000000</td>\n",
              "      <td>459.000000</td>\n",
              "      <td>435.000000</td>\n",
              "      <td>163.000000</td>\n",
              "      <td>57.000000</td>\n",
              "      <td>110.000000</td>\n",
              "      <td>5.000000</td>\n",
              "      <td>5.000000</td>\n",
              "      <td>5.000000</td>\n",
              "      <td>5.000000</td>\n",
              "      <td>5.000000</td>\n",
              "      <td>5.000000</td>\n",
              "    </tr>\n",
              "  </tbody>\n",
              "</table>\n",
              "</div>"
            ],
            "text/plain": [
              "       hotel_star_rating  ...  traveller_rating_Food\n",
              "count       17814.000000  ...           17814.000000\n",
              "mean            1.824745  ...               3.691888\n",
              "std             1.093477  ...               0.854324\n",
              "min             0.000000  ...               0.000000\n",
              "25%             1.000000  ...               4.000000\n",
              "50%             1.000000  ...               4.000000\n",
              "75%             3.000000  ...               4.000000\n",
              "max             5.000000  ...               5.000000\n",
              "\n",
              "[8 rows x 25 columns]"
            ]
          },
          "metadata": {
            "tags": []
          },
          "execution_count": 28
        }
      ]
    },
    {
      "cell_type": "code",
      "metadata": {
        "colab": {
          "base_uri": "https://localhost:8080/",
          "height": 298
        },
        "id": "A81SDuMX3zzN",
        "outputId": "958b6746-9d6a-4e79-d56c-89b3cee8d4dd"
      },
      "source": [
        "k=data_mmt.kurt(axis=1)\n",
        "k.hist(color='c')\n",
        "plt.title(\"Histogram of Kurtosis\")\n",
        "plt.ylabel('Frequency')"
      ],
      "execution_count": 29,
      "outputs": [
        {
          "output_type": "execute_result",
          "data": {
            "text/plain": [
              "Text(0, 0.5, 'Frequency')"
            ]
          },
          "metadata": {
            "tags": []
          },
          "execution_count": 29
        },
        {
          "output_type": "display_data",
          "data": {
            "image/png": "[encoded data removed]",
            "text/plain": [
              "<Figure size 432x288 with 1 Axes>"
            ]
          },
          "metadata": {
            "tags": [],
            "needs_background": "light"
          }
        }
      ]
    },
    {
      "cell_type": "code",
      "metadata": {
        "colab": {
          "base_uri": "https://localhost:8080/",
          "height": 298
        },
        "id": "nnPCdiIp35mq",
        "outputId": "d2f8a950-f22e-4834-b6d1-953eb1073be7"
      },
      "source": [
        "s=data_mmt.skew(axis=1)\n",
        "s.hist(color='c')\n",
        "plt.title(\"Histogram of Skewness\")\n",
        "plt.ylabel('Frequency')"
      ],
      "execution_count": 30,
      "outputs": [
        {
          "output_type": "execute_result",
          "data": {
            "text/plain": [
              "Text(0, 0.5, 'Frequency')"
            ]
          },
          "metadata": {
            "tags": []
          },
          "execution_count": 30
        },
        {
          "output_type": "display_data",
          "data": {
            "image/png": "[encoded data removed]",
            "text/plain": [
              "<Figure size 432x288 with 1 Axes>"
            ]
          },
          "metadata": {
            "tags": [],
            "needs_background": "light"
          }
        }
      ]
    },
    {
      "cell_type": "code",
      "metadata": {
        "id": "g2gU601CSZWC"
      },
      "source": [
        "temp=data_mmt.copy()\n",
        "temp=temp.drop(['latitude','longitude','hotel_star_rating','is_value_plus'],axis=1)"
      ],
      "execution_count": 31,
      "outputs": []
    },
    {
      "cell_type": "code",
      "metadata": {
        "colab": {
          "base_uri": "https://localhost:8080/"
        },
        "id": "vaKqveJWg4Li",
        "outputId": "fd4233f2-1b9a-4708-a69e-c16d386440fb"
      },
      "source": [
        "temp.columns"
      ],
      "execution_count": 32,
      "outputs": [
        {
          "output_type": "execute_result",
          "data": {
            "text/plain": [
              "Index(['area', 'city', 'country', 'crawl_date', 'highlight_value',\n",
              "       'hotel_overview', 'image_urls', 'in_your_room',\n",
              "       'mmt_holidayiq_review_count', 'mmt_review_count', 'mmt_review_score',\n",
              "       'mmt_tripadvisor_count', 'pageurl', 'property_address', 'property_id',\n",
              "       'property_name', 'property_type', 'query_time_stamp', 'room_types',\n",
              "       'sitename', 'uniq_id', 'mmt_loc_rating', 'mmt_review_rating_Excellent',\n",
              "       'mmt_review_rating_VeryGood', 'mmt_review_rating_Average',\n",
              "       'mmt_review_rating_Poor', 'mmt_review_rating_Terrible',\n",
              "       'mmt_traveller_type_review_count_Families',\n",
              "       'mmt_traveller_type_review_count_Couples',\n",
              "       'mmt_traveller_type_review_count_Business',\n",
              "       'mmt_traveller_type_review_count_Solo',\n",
              "       'mmt_traveller_type_review_count_Friends', 'traveller_rating_Location',\n",
              "       'traveller_rating_Hospitality', 'traveller_rating_Facilities',\n",
              "       'traveller_rating_Cleanliness', 'traveller_rating_Money',\n",
              "       'traveller_rating_Food'],\n",
              "      dtype='object')"
            ]
          },
          "metadata": {
            "tags": []
          },
          "execution_count": 32
        }
      ]
    },
    {
      "cell_type": "code",
      "metadata": {
        "id": "NxO-B9Nw-IHO"
      },
      "source": [
        "temp=temp.select_dtypes(exclude=['object'])"
      ],
      "execution_count": 33,
      "outputs": []
    },
    {
      "cell_type": "code",
      "metadata": {
        "id": "YpKs3FybSdzP"
      },
      "source": [
        "for col in temp.columns:\n",
        "  if temp[col].dtype!='object' and temp[col].std()>2:\n",
        "    temp[col]=np.sqrt(temp[col])"
      ],
      "execution_count": 34,
      "outputs": []
    },
    {
      "cell_type": "code",
      "metadata": {
        "colab": {
          "base_uri": "https://localhost:8080/",
          "height": 304
        },
        "id": "wvp3KOai8J9w",
        "outputId": "3e5cec49-32ca-4d6f-d9ed-3e56c1857bd5"
      },
      "source": [
        "temp.describe()"
      ],
      "execution_count": 36,
      "outputs": [
        {
          "output_type": "execute_result",
          "data": {
            "text/html": [
              "<div>\n",
              "<style scoped>\n",
              "    .dataframe tbody tr th:only-of-type {\n",
              "        vertical-align: middle;\n",
              "    }\n",
              "\n",
              "    .dataframe tbody tr th {\n",
              "        vertical-align: top;\n",
              "    }\n",
              "\n",
              "    .dataframe thead th {\n",
              "        text-align: right;\n",
              "    }\n",
              "</style>\n",
              "<table border=\"1\" class=\"dataframe\">\n",
              "  <thead>\n",
              "    <tr style=\"text-align: right;\">\n",
              "      <th></th>\n",
              "      <th>mmt_holidayiq_review_count</th>\n",
              "      <th>mmt_review_count</th>\n",
              "      <th>mmt_review_score</th>\n",
              "      <th>mmt_tripadvisor_count</th>\n",
              "      <th>mmt_loc_rating</th>\n",
              "      <th>mmt_review_rating_Excellent</th>\n",
              "      <th>mmt_review_rating_VeryGood</th>\n",
              "      <th>mmt_review_rating_Average</th>\n",
              "      <th>mmt_review_rating_Poor</th>\n",
              "      <th>mmt_review_rating_Terrible</th>\n",
              "      <th>mmt_traveller_type_review_count_Families</th>\n",
              "      <th>mmt_traveller_type_review_count_Couples</th>\n",
              "      <th>mmt_traveller_type_review_count_Business</th>\n",
              "      <th>mmt_traveller_type_review_count_Solo</th>\n",
              "      <th>mmt_traveller_type_review_count_Friends</th>\n",
              "      <th>traveller_rating_Location</th>\n",
              "      <th>traveller_rating_Hospitality</th>\n",
              "      <th>traveller_rating_Facilities</th>\n",
              "      <th>traveller_rating_Cleanliness</th>\n",
              "      <th>traveller_rating_Money</th>\n",
              "      <th>traveller_rating_Food</th>\n",
              "    </tr>\n",
              "  </thead>\n",
              "  <tbody>\n",
              "    <tr>\n",
              "      <th>count</th>\n",
              "      <td>17814.000000</td>\n",
              "      <td>17814.000000</td>\n",
              "      <td>17814.000000</td>\n",
              "      <td>17814.000000</td>\n",
              "      <td>17814.000000</td>\n",
              "      <td>17814.000000</td>\n",
              "      <td>17814.000000</td>\n",
              "      <td>17814.000000</td>\n",
              "      <td>17814.000000</td>\n",
              "      <td>17814.000000</td>\n",
              "      <td>17814.000000</td>\n",
              "      <td>17814.000000</td>\n",
              "      <td>17814.000000</td>\n",
              "      <td>17814.000000</td>\n",
              "      <td>17814.000000</td>\n",
              "      <td>17814.000000</td>\n",
              "      <td>17814.000000</td>\n",
              "      <td>17814.000000</td>\n",
              "      <td>17814.000000</td>\n",
              "      <td>17814.000000</td>\n",
              "      <td>17814.000000</td>\n",
              "    </tr>\n",
              "    <tr>\n",
              "      <th>mean</th>\n",
              "      <td>0.968040</td>\n",
              "      <td>1.430865</td>\n",
              "      <td>1.731144</td>\n",
              "      <td>4.276883</td>\n",
              "      <td>4.884462</td>\n",
              "      <td>0.874754</td>\n",
              "      <td>0.581666</td>\n",
              "      <td>0.582672</td>\n",
              "      <td>0.423177</td>\n",
              "      <td>0.435107</td>\n",
              "      <td>0.766781</td>\n",
              "      <td>0.592281</td>\n",
              "      <td>0.334553</td>\n",
              "      <td>0.366004</td>\n",
              "      <td>0.118555</td>\n",
              "      <td>4.706764</td>\n",
              "      <td>4.627473</td>\n",
              "      <td>3.910683</td>\n",
              "      <td>4.605019</td>\n",
              "      <td>4.638734</td>\n",
              "      <td>3.691888</td>\n",
              "    </tr>\n",
              "    <tr>\n",
              "      <th>std</th>\n",
              "      <td>2.504859</td>\n",
              "      <td>2.866811</td>\n",
              "      <td>1.988806</td>\n",
              "      <td>5.529054</td>\n",
              "      <td>0.400714</td>\n",
              "      <td>1.918391</td>\n",
              "      <td>1.347017</td>\n",
              "      <td>1.323666</td>\n",
              "      <td>0.980839</td>\n",
              "      <td>1.880600</td>\n",
              "      <td>1.696904</td>\n",
              "      <td>1.333762</td>\n",
              "      <td>0.997897</td>\n",
              "      <td>1.741242</td>\n",
              "      <td>0.519513</td>\n",
              "      <td>0.645020</td>\n",
              "      <td>0.778947</td>\n",
              "      <td>0.492858</td>\n",
              "      <td>0.777421</td>\n",
              "      <td>0.700845</td>\n",
              "      <td>0.854324</td>\n",
              "    </tr>\n",
              "    <tr>\n",
              "      <th>min</th>\n",
              "      <td>0.000000</td>\n",
              "      <td>0.000000</td>\n",
              "      <td>0.000000</td>\n",
              "      <td>1.000000</td>\n",
              "      <td>0.000000</td>\n",
              "      <td>0.000000</td>\n",
              "      <td>0.000000</td>\n",
              "      <td>0.000000</td>\n",
              "      <td>0.000000</td>\n",
              "      <td>0.000000</td>\n",
              "      <td>0.000000</td>\n",
              "      <td>0.000000</td>\n",
              "      <td>0.000000</td>\n",
              "      <td>0.000000</td>\n",
              "      <td>0.000000</td>\n",
              "      <td>0.000000</td>\n",
              "      <td>0.000000</td>\n",
              "      <td>1.000000</td>\n",
              "      <td>0.000000</td>\n",
              "      <td>0.000000</td>\n",
              "      <td>0.000000</td>\n",
              "    </tr>\n",
              "    <tr>\n",
              "      <th>25%</th>\n",
              "      <td>0.000000</td>\n",
              "      <td>0.000000</td>\n",
              "      <td>0.000000</td>\n",
              "      <td>1.000000</td>\n",
              "      <td>5.000000</td>\n",
              "      <td>0.000000</td>\n",
              "      <td>0.000000</td>\n",
              "      <td>0.000000</td>\n",
              "      <td>0.000000</td>\n",
              "      <td>0.000000</td>\n",
              "      <td>0.000000</td>\n",
              "      <td>0.000000</td>\n",
              "      <td>0.000000</td>\n",
              "      <td>0.000000</td>\n",
              "      <td>0.000000</td>\n",
              "      <td>4.700000</td>\n",
              "      <td>4.500000</td>\n",
              "      <td>4.000000</td>\n",
              "      <td>4.500000</td>\n",
              "      <td>4.500000</td>\n",
              "      <td>4.000000</td>\n",
              "    </tr>\n",
              "    <tr>\n",
              "      <th>50%</th>\n",
              "      <td>0.000000</td>\n",
              "      <td>0.000000</td>\n",
              "      <td>0.000000</td>\n",
              "      <td>1.414214</td>\n",
              "      <td>5.000000</td>\n",
              "      <td>0.000000</td>\n",
              "      <td>0.000000</td>\n",
              "      <td>0.000000</td>\n",
              "      <td>0.000000</td>\n",
              "      <td>0.000000</td>\n",
              "      <td>0.000000</td>\n",
              "      <td>0.000000</td>\n",
              "      <td>0.000000</td>\n",
              "      <td>0.000000</td>\n",
              "      <td>0.000000</td>\n",
              "      <td>5.000000</td>\n",
              "      <td>5.000000</td>\n",
              "      <td>4.000000</td>\n",
              "      <td>5.000000</td>\n",
              "      <td>5.000000</td>\n",
              "      <td>4.000000</td>\n",
              "    </tr>\n",
              "    <tr>\n",
              "      <th>75%</th>\n",
              "      <td>0.000000</td>\n",
              "      <td>1.732051</td>\n",
              "      <td>3.900000</td>\n",
              "      <td>5.567764</td>\n",
              "      <td>5.000000</td>\n",
              "      <td>1.000000</td>\n",
              "      <td>0.000000</td>\n",
              "      <td>0.000000</td>\n",
              "      <td>0.000000</td>\n",
              "      <td>0.000000</td>\n",
              "      <td>1.000000</td>\n",
              "      <td>0.000000</td>\n",
              "      <td>0.000000</td>\n",
              "      <td>0.000000</td>\n",
              "      <td>0.000000</td>\n",
              "      <td>5.000000</td>\n",
              "      <td>5.000000</td>\n",
              "      <td>4.000000</td>\n",
              "      <td>5.000000</td>\n",
              "      <td>5.000000</td>\n",
              "      <td>4.000000</td>\n",
              "    </tr>\n",
              "    <tr>\n",
              "      <th>max</th>\n",
              "      <td>35.071356</td>\n",
              "      <td>36.537652</td>\n",
              "      <td>5.000000</td>\n",
              "      <td>66.940272</td>\n",
              "      <td>5.000000</td>\n",
              "      <td>23.130067</td>\n",
              "      <td>17.888544</td>\n",
              "      <td>16.763055</td>\n",
              "      <td>12.328828</td>\n",
              "      <td>54.000000</td>\n",
              "      <td>21.424285</td>\n",
              "      <td>20.856654</td>\n",
              "      <td>12.767145</td>\n",
              "      <td>57.000000</td>\n",
              "      <td>10.488088</td>\n",
              "      <td>5.000000</td>\n",
              "      <td>5.000000</td>\n",
              "      <td>5.000000</td>\n",
              "      <td>5.000000</td>\n",
              "      <td>5.000000</td>\n",
              "      <td>5.000000</td>\n",
              "    </tr>\n",
              "  </tbody>\n",
              "</table>\n",
              "</div>"
            ],
            "text/plain": [
              "       mmt_holidayiq_review_count  ...  traveller_rating_Food\n",
              "count                17814.000000  ...           17814.000000\n",
              "mean                     0.968040  ...               3.691888\n",
              "std                      2.504859  ...               0.854324\n",
              "min                      0.000000  ...               0.000000\n",
              "25%                      0.000000  ...               4.000000\n",
              "50%                      0.000000  ...               4.000000\n",
              "75%                      0.000000  ...               4.000000\n",
              "max                     35.071356  ...               5.000000\n",
              "\n",
              "[8 rows x 21 columns]"
            ]
          },
          "metadata": {
            "tags": []
          },
          "execution_count": 36
        }
      ]
    },
    {
      "cell_type": "markdown",
      "metadata": {
        "id": "O55Z-EPFSy8-"
      },
      "source": [
        "#Analysis : Measure of Dispersion"
      ]
    },
    {
      "cell_type": "code",
      "metadata": {
        "colab": {
          "base_uri": "https://localhost:8080/",
          "height": 298
        },
        "id": "asJEgUIHS1GZ",
        "outputId": "da3069ad-beb9-43de-945e-1ec14d972b0a"
      },
      "source": [
        "k=temp.kurt(axis=1)\n",
        "k.hist(color='c')\n",
        "plt.title(\"Histogram of Kurtosis\")\n",
        "plt.ylabel('Frequency')"
      ],
      "execution_count": 37,
      "outputs": [
        {
          "output_type": "execute_result",
          "data": {
            "text/plain": [
              "Text(0, 0.5, 'Frequency')"
            ]
          },
          "metadata": {
            "tags": []
          },
          "execution_count": 37
        },
        {
          "output_type": "display_data",
          "data": {
            "image/png": "[encoded data removed]",
            "text/plain": [
              "<Figure size 432x288 with 1 Axes>"
            ]
          },
          "metadata": {
            "tags": [],
            "needs_background": "light"
          }
        }
      ]
    },
    {
      "cell_type": "code",
      "metadata": {
        "colab": {
          "base_uri": "https://localhost:8080/",
          "height": 298
        },
        "id": "_sBC8AqSS20P",
        "outputId": "242b3d23-9d90-40e3-84c0-50bd32194d6d"
      },
      "source": [
        "s=temp.skew(axis=1)\n",
        "s.hist(color='c')\n",
        "plt.title(\"Histogram of Skewness\")\n",
        "plt.ylabel('Frequency')"
      ],
      "execution_count": 38,
      "outputs": [
        {
          "output_type": "execute_result",
          "data": {
            "text/plain": [
              "Text(0, 0.5, 'Frequency')"
            ]
          },
          "metadata": {
            "tags": []
          },
          "execution_count": 38
        },
        {
          "output_type": "display_data",
          "data": {
            "image/png": "[encoded data removed]",
            "text/plain": [
              "<Figure size 432x288 with 1 Axes>"
            ]
          },
          "metadata": {
            "tags": [],
            "needs_background": "light"
          }
        }
      ]
    },
    {
      "cell_type": "code",
      "metadata": {
        "colab": {
          "base_uri": "https://localhost:8080/",
          "height": 304
        },
        "id": "QaJI8bnO_GWg",
        "outputId": "648d510f-c7f1-4769-e032-2cd714dadb1c"
      },
      "source": [
        "temp.describe()"
      ],
      "execution_count": 39,
      "outputs": [
        {
          "output_type": "execute_result",
          "data": {
            "text/html": [
              "<div>\n",
              "<style scoped>\n",
              "    .dataframe tbody tr th:only-of-type {\n",
              "        vertical-align: middle;\n",
              "    }\n",
              "\n",
              "    .dataframe tbody tr th {\n",
              "        vertical-align: top;\n",
              "    }\n",
              "\n",
              "    .dataframe thead th {\n",
              "        text-align: right;\n",
              "    }\n",
              "</style>\n",
              "<table border=\"1\" class=\"dataframe\">\n",
              "  <thead>\n",
              "    <tr style=\"text-align: right;\">\n",
              "      <th></th>\n",
              "      <th>mmt_holidayiq_review_count</th>\n",
              "      <th>mmt_review_count</th>\n",
              "      <th>mmt_review_score</th>\n",
              "      <th>mmt_tripadvisor_count</th>\n",
              "      <th>mmt_loc_rating</th>\n",
              "      <th>mmt_review_rating_Excellent</th>\n",
              "      <th>mmt_review_rating_VeryGood</th>\n",
              "      <th>mmt_review_rating_Average</th>\n",
              "      <th>mmt_review_rating_Poor</th>\n",
              "      <th>mmt_review_rating_Terrible</th>\n",
              "      <th>mmt_traveller_type_review_count_Families</th>\n",
              "      <th>mmt_traveller_type_review_count_Couples</th>\n",
              "      <th>mmt_traveller_type_review_count_Business</th>\n",
              "      <th>mmt_traveller_type_review_count_Solo</th>\n",
              "      <th>mmt_traveller_type_review_count_Friends</th>\n",
              "      <th>traveller_rating_Location</th>\n",
              "      <th>traveller_rating_Hospitality</th>\n",
              "      <th>traveller_rating_Facilities</th>\n",
              "      <th>traveller_rating_Cleanliness</th>\n",
              "      <th>traveller_rating_Money</th>\n",
              "      <th>traveller_rating_Food</th>\n",
              "    </tr>\n",
              "  </thead>\n",
              "  <tbody>\n",
              "    <tr>\n",
              "      <th>count</th>\n",
              "      <td>17814.000000</td>\n",
              "      <td>17814.000000</td>\n",
              "      <td>17814.000000</td>\n",
              "      <td>17814.000000</td>\n",
              "      <td>17814.000000</td>\n",
              "      <td>17814.000000</td>\n",
              "      <td>17814.000000</td>\n",
              "      <td>17814.000000</td>\n",
              "      <td>17814.000000</td>\n",
              "      <td>17814.000000</td>\n",
              "      <td>17814.000000</td>\n",
              "      <td>17814.000000</td>\n",
              "      <td>17814.000000</td>\n",
              "      <td>17814.000000</td>\n",
              "      <td>17814.000000</td>\n",
              "      <td>17814.000000</td>\n",
              "      <td>17814.000000</td>\n",
              "      <td>17814.000000</td>\n",
              "      <td>17814.000000</td>\n",
              "      <td>17814.000000</td>\n",
              "      <td>17814.000000</td>\n",
              "    </tr>\n",
              "    <tr>\n",
              "      <th>mean</th>\n",
              "      <td>0.968040</td>\n",
              "      <td>1.430865</td>\n",
              "      <td>1.731144</td>\n",
              "      <td>4.276883</td>\n",
              "      <td>4.884462</td>\n",
              "      <td>0.874754</td>\n",
              "      <td>0.581666</td>\n",
              "      <td>0.582672</td>\n",
              "      <td>0.423177</td>\n",
              "      <td>0.435107</td>\n",
              "      <td>0.766781</td>\n",
              "      <td>0.592281</td>\n",
              "      <td>0.334553</td>\n",
              "      <td>0.366004</td>\n",
              "      <td>0.118555</td>\n",
              "      <td>4.706764</td>\n",
              "      <td>4.627473</td>\n",
              "      <td>3.910683</td>\n",
              "      <td>4.605019</td>\n",
              "      <td>4.638734</td>\n",
              "      <td>3.691888</td>\n",
              "    </tr>\n",
              "    <tr>\n",
              "      <th>std</th>\n",
              "      <td>2.504859</td>\n",
              "      <td>2.866811</td>\n",
              "      <td>1.988806</td>\n",
              "      <td>5.529054</td>\n",
              "      <td>0.400714</td>\n",
              "      <td>1.918391</td>\n",
              "      <td>1.347017</td>\n",
              "      <td>1.323666</td>\n",
              "      <td>0.980839</td>\n",
              "      <td>1.880600</td>\n",
              "      <td>1.696904</td>\n",
              "      <td>1.333762</td>\n",
              "      <td>0.997897</td>\n",
              "      <td>1.741242</td>\n",
              "      <td>0.519513</td>\n",
              "      <td>0.645020</td>\n",
              "      <td>0.778947</td>\n",
              "      <td>0.492858</td>\n",
              "      <td>0.777421</td>\n",
              "      <td>0.700845</td>\n",
              "      <td>0.854324</td>\n",
              "    </tr>\n",
              "    <tr>\n",
              "      <th>min</th>\n",
              "      <td>0.000000</td>\n",
              "      <td>0.000000</td>\n",
              "      <td>0.000000</td>\n",
              "      <td>1.000000</td>\n",
              "      <td>0.000000</td>\n",
              "      <td>0.000000</td>\n",
              "      <td>0.000000</td>\n",
              "      <td>0.000000</td>\n",
              "      <td>0.000000</td>\n",
              "      <td>0.000000</td>\n",
              "      <td>0.000000</td>\n",
              "      <td>0.000000</td>\n",
              "      <td>0.000000</td>\n",
              "      <td>0.000000</td>\n",
              "      <td>0.000000</td>\n",
              "      <td>0.000000</td>\n",
              "      <td>0.000000</td>\n",
              "      <td>1.000000</td>\n",
              "      <td>0.000000</td>\n",
              "      <td>0.000000</td>\n",
              "      <td>0.000000</td>\n",
              "    </tr>\n",
              "    <tr>\n",
              "      <th>25%</th>\n",
              "      <td>0.000000</td>\n",
              "      <td>0.000000</td>\n",
              "      <td>0.000000</td>\n",
              "      <td>1.000000</td>\n",
              "      <td>5.000000</td>\n",
              "      <td>0.000000</td>\n",
              "      <td>0.000000</td>\n",
              "      <td>0.000000</td>\n",
              "      <td>0.000000</td>\n",
              "      <td>0.000000</td>\n",
              "      <td>0.000000</td>\n",
              "      <td>0.000000</td>\n",
              "      <td>0.000000</td>\n",
              "      <td>0.000000</td>\n",
              "      <td>0.000000</td>\n",
              "      <td>4.700000</td>\n",
              "      <td>4.500000</td>\n",
              "      <td>4.000000</td>\n",
              "      <td>4.500000</td>\n",
              "      <td>4.500000</td>\n",
              "      <td>4.000000</td>\n",
              "    </tr>\n",
              "    <tr>\n",
              "      <th>50%</th>\n",
              "      <td>0.000000</td>\n",
              "      <td>0.000000</td>\n",
              "      <td>0.000000</td>\n",
              "      <td>1.414214</td>\n",
              "      <td>5.000000</td>\n",
              "      <td>0.000000</td>\n",
              "      <td>0.000000</td>\n",
              "      <td>0.000000</td>\n",
              "      <td>0.000000</td>\n",
              "      <td>0.000000</td>\n",
              "      <td>0.000000</td>\n",
              "      <td>0.000000</td>\n",
              "      <td>0.000000</td>\n",
              "      <td>0.000000</td>\n",
              "      <td>0.000000</td>\n",
              "      <td>5.000000</td>\n",
              "      <td>5.000000</td>\n",
              "      <td>4.000000</td>\n",
              "      <td>5.000000</td>\n",
              "      <td>5.000000</td>\n",
              "      <td>4.000000</td>\n",
              "    </tr>\n",
              "    <tr>\n",
              "      <th>75%</th>\n",
              "      <td>0.000000</td>\n",
              "      <td>1.732051</td>\n",
              "      <td>3.900000</td>\n",
              "      <td>5.567764</td>\n",
              "      <td>5.000000</td>\n",
              "      <td>1.000000</td>\n",
              "      <td>0.000000</td>\n",
              "      <td>0.000000</td>\n",
              "      <td>0.000000</td>\n",
              "      <td>0.000000</td>\n",
              "      <td>1.000000</td>\n",
              "      <td>0.000000</td>\n",
              "      <td>0.000000</td>\n",
              "      <td>0.000000</td>\n",
              "      <td>0.000000</td>\n",
              "      <td>5.000000</td>\n",
              "      <td>5.000000</td>\n",
              "      <td>4.000000</td>\n",
              "      <td>5.000000</td>\n",
              "      <td>5.000000</td>\n",
              "      <td>4.000000</td>\n",
              "    </tr>\n",
              "    <tr>\n",
              "      <th>max</th>\n",
              "      <td>35.071356</td>\n",
              "      <td>36.537652</td>\n",
              "      <td>5.000000</td>\n",
              "      <td>66.940272</td>\n",
              "      <td>5.000000</td>\n",
              "      <td>23.130067</td>\n",
              "      <td>17.888544</td>\n",
              "      <td>16.763055</td>\n",
              "      <td>12.328828</td>\n",
              "      <td>54.000000</td>\n",
              "      <td>21.424285</td>\n",
              "      <td>20.856654</td>\n",
              "      <td>12.767145</td>\n",
              "      <td>57.000000</td>\n",
              "      <td>10.488088</td>\n",
              "      <td>5.000000</td>\n",
              "      <td>5.000000</td>\n",
              "      <td>5.000000</td>\n",
              "      <td>5.000000</td>\n",
              "      <td>5.000000</td>\n",
              "      <td>5.000000</td>\n",
              "    </tr>\n",
              "  </tbody>\n",
              "</table>\n",
              "</div>"
            ],
            "text/plain": [
              "       mmt_holidayiq_review_count  ...  traveller_rating_Food\n",
              "count                17814.000000  ...           17814.000000\n",
              "mean                     0.968040  ...               3.691888\n",
              "std                      2.504859  ...               0.854324\n",
              "min                      0.000000  ...               0.000000\n",
              "25%                      0.000000  ...               4.000000\n",
              "50%                      0.000000  ...               4.000000\n",
              "75%                      0.000000  ...               4.000000\n",
              "max                     35.071356  ...               5.000000\n",
              "\n",
              "[8 rows x 21 columns]"
            ]
          },
          "metadata": {
            "tags": []
          },
          "execution_count": 39
        }
      ]
    },
    {
      "cell_type": "markdown",
      "metadata": {
        "id": "-YGOC7gmu5W3"
      },
      "source": [
        "#Power tranformation = Box-cox"
      ]
    },
    {
      "cell_type": "code",
      "metadata": {
        "id": "iLrWuN1LNpy4"
      },
      "source": [
        "temp=temp.select_dtypes(exclude=['object'])"
      ],
      "execution_count": 40,
      "outputs": []
    },
    {
      "cell_type": "code",
      "metadata": {
        "colab": {
          "base_uri": "https://localhost:8080/"
        },
        "id": "NCx1nQoENxRL",
        "outputId": "3030f360-895b-450b-bec5-ba3a51436e0b"
      },
      "source": [
        "for col in temp.columns:\n",
        "  i=temp.columns.get_loc(col)\n",
        "  print(i,col)"
      ],
      "execution_count": 41,
      "outputs": [
        {
          "output_type": "stream",
          "text": [
            "0 mmt_holidayiq_review_count\n",
            "1 mmt_review_count\n",
            "2 mmt_review_score\n",
            "3 mmt_tripadvisor_count\n",
            "4 mmt_loc_rating\n",
            "5 mmt_review_rating_Excellent\n",
            "6 mmt_review_rating_VeryGood\n",
            "7 mmt_review_rating_Average\n",
            "8 mmt_review_rating_Poor\n",
            "9 mmt_review_rating_Terrible\n",
            "10 mmt_traveller_type_review_count_Families\n",
            "11 mmt_traveller_type_review_count_Couples\n",
            "12 mmt_traveller_type_review_count_Business\n",
            "13 mmt_traveller_type_review_count_Solo\n",
            "14 mmt_traveller_type_review_count_Friends\n",
            "15 traveller_rating_Location\n",
            "16 traveller_rating_Hospitality\n",
            "17 traveller_rating_Facilities\n",
            "18 traveller_rating_Cleanliness\n",
            "19 traveller_rating_Money\n",
            "20 traveller_rating_Food\n"
          ],
          "name": "stdout"
        }
      ]
    },
    {
      "cell_type": "code",
      "metadata": {
        "id": "CXR1FEaBT5Ah"
      },
      "source": [
        "colname=temp.columns"
      ],
      "execution_count": 42,
      "outputs": []
    },
    {
      "cell_type": "code",
      "metadata": {
        "colab": {
          "base_uri": "https://localhost:8080/",
          "height": 444
        },
        "id": "R3T7sb0TQSGa",
        "outputId": "76cee5e7-46de-481a-9ab2-fb035e8e8db0"
      },
      "source": [
        "temp.hist(color='c',figsize=(14,7))\n",
        "plt.show()"
      ],
      "execution_count": 43,
      "outputs": [
        {
          "output_type": "display_data",
          "data": {
            "image/png": "[encoded data removed]",
            "text/plain": [
              "<Figure size 1008x504 with 25 Axes>"
            ]
          },
          "metadata": {
            "tags": [],
            "needs_background": "light"
          }
        }
      ]
    },
    {
      "cell_type": "code",
      "metadata": {
        "id": "WA9UesPmH8Kk"
      },
      "source": [
        "# perform a box-cox transform of the dataset\n",
        "from sklearn.preprocessing import PowerTransformer\n",
        "from sklearn.preprocessing import MinMaxScaler\n",
        "from sklearn.pipeline import Pipeline\n",
        "scaler = MinMaxScaler(feature_range=(1,2))\n",
        "power = PowerTransformer(method='box-cox')\n",
        "pipeline = Pipeline(steps=[('s', scaler),('p', power)])\n",
        "temp = pipeline.fit_transform(temp)"
      ],
      "execution_count": 44,
      "outputs": []
    },
    {
      "cell_type": "code",
      "metadata": {
        "id": "CWUHKgKP_Gq-"
      },
      "source": [
        "temp=pd.DataFrame(temp,columns=colname)"
      ],
      "execution_count": 45,
      "outputs": []
    },
    {
      "cell_type": "code",
      "metadata": {
        "colab": {
          "base_uri": "https://localhost:8080/",
          "height": 298
        },
        "id": "qfZuKZ5oO1g2",
        "outputId": "6c15c55f-72c7-43d5-c089-60598cf63c1f"
      },
      "source": [
        "s=temp.skew(axis=1)\n",
        "s.hist(color='c')\n",
        "plt.title(\"Histogram of skewness\")\n",
        "plt.ylabel('Frequency')"
      ],
      "execution_count": 46,
      "outputs": [
        {
          "output_type": "execute_result",
          "data": {
            "text/plain": [
              "Text(0, 0.5, 'Frequency')"
            ]
          },
          "metadata": {
            "tags": []
          },
          "execution_count": 46
        },
        {
          "output_type": "display_data",
          "data": {
            "image/png": "[encoded data removed]",
            "text/plain": [
              "<Figure size 432x288 with 1 Axes>"
            ]
          },
          "metadata": {
            "tags": [],
            "needs_background": "light"
          }
        }
      ]
    },
    {
      "cell_type": "code",
      "metadata": {
        "colab": {
          "base_uri": "https://localhost:8080/",
          "height": 298
        },
        "id": "aDUfqLlpPyI5",
        "outputId": "eeaba9bc-508d-48ba-ccb7-bc289191d6e6"
      },
      "source": [
        "k=temp.kurt(axis=1)\n",
        "k.hist(color='c')\n",
        "plt.title(\"Histogram of kurtosis\")\n",
        "plt.ylabel('Frequency')"
      ],
      "execution_count": 47,
      "outputs": [
        {
          "output_type": "execute_result",
          "data": {
            "text/plain": [
              "Text(0, 0.5, 'Frequency')"
            ]
          },
          "metadata": {
            "tags": []
          },
          "execution_count": 47
        },
        {
          "output_type": "display_data",
          "data": {
            "image/png": "[encoded data removed]",
            "text/plain": [
              "<Figure size 432x288 with 1 Axes>"
            ]
          },
          "metadata": {
            "tags": [],
            "needs_background": "light"
          }
        }
      ]
    },
    {
      "cell_type": "code",
      "metadata": {
        "colab": {
          "base_uri": "https://localhost:8080/"
        },
        "id": "blhymSXES5f_",
        "outputId": "8276089f-dc1f-4f26-ed0d-2c74f30d32c0"
      },
      "source": [
        "temp.shape"
      ],
      "execution_count": 49,
      "outputs": [
        {
          "output_type": "execute_result",
          "data": {
            "text/plain": [
              "(17814, 21)"
            ]
          },
          "metadata": {
            "tags": []
          },
          "execution_count": 49
        }
      ]
    },
    {
      "cell_type": "markdown",
      "metadata": {
        "id": "0VMb_tT1TUYJ"
      },
      "source": [
        "#Conclusion on measure of dispersion:\n",
        "\n",
        "powertranformation is applied for normal distribution\n"
      ]
    },
    {
      "cell_type": "code",
      "metadata": {
        "colab": {
          "base_uri": "https://localhost:8080/"
        },
        "id": "a5ARxJQpSyu2",
        "outputId": "48d0a102-6b7b-46d6-bee5-fed9ae276f2b"
      },
      "source": [
        "old_cols=data_mmt.columns\n",
        "new_cols=temp.columns\n",
        "commonColumns=old_cols.intersection(new_cols)\n",
        "commonColumns.shape "
      ],
      "execution_count": 50,
      "outputs": [
        {
          "output_type": "execute_result",
          "data": {
            "text/plain": [
              "(21,)"
            ]
          },
          "metadata": {
            "tags": []
          },
          "execution_count": 50
        }
      ]
    },
    {
      "cell_type": "code",
      "metadata": {
        "id": "Uzo6iuccdQ9Z"
      },
      "source": [
        "for col in commonColumns:\n",
        "  data_mmt[col]=temp[col]"
      ],
      "execution_count": 51,
      "outputs": []
    },
    {
      "cell_type": "code",
      "metadata": {
        "colab": {
          "base_uri": "https://localhost:8080/"
        },
        "id": "RAJi9FTkUa6f",
        "outputId": "633323e9-0180-4fa5-9fac-5f90eface660"
      },
      "source": [
        "data_mmt.shape"
      ],
      "execution_count": 52,
      "outputs": [
        {
          "output_type": "execute_result",
          "data": {
            "text/plain": [
              "(17814, 42)"
            ]
          },
          "metadata": {
            "tags": []
          },
          "execution_count": 52
        }
      ]
    },
    {
      "cell_type": "code",
      "metadata": {
        "colab": {
          "base_uri": "https://localhost:8080/",
          "height": 304
        },
        "id": "EWLG2BwkdWaK",
        "outputId": "f4cea629-54ee-4cd1-ebd4-236e6d77976c"
      },
      "source": [
        "data_mmt.describe()"
      ],
      "execution_count": 53,
      "outputs": [
        {
          "output_type": "execute_result",
          "data": {
            "text/html": [
              "<div>\n",
              "<style scoped>\n",
              "    .dataframe tbody tr th:only-of-type {\n",
              "        vertical-align: middle;\n",
              "    }\n",
              "\n",
              "    .dataframe tbody tr th {\n",
              "        vertical-align: top;\n",
              "    }\n",
              "\n",
              "    .dataframe thead th {\n",
              "        text-align: right;\n",
              "    }\n",
              "</style>\n",
              "<table border=\"1\" class=\"dataframe\">\n",
              "  <thead>\n",
              "    <tr style=\"text-align: right;\">\n",
              "      <th></th>\n",
              "      <th>hotel_star_rating</th>\n",
              "      <th>is_value_plus</th>\n",
              "      <th>latitude</th>\n",
              "      <th>longitude</th>\n",
              "      <th>mmt_holidayiq_review_count</th>\n",
              "      <th>mmt_review_count</th>\n",
              "      <th>mmt_review_score</th>\n",
              "      <th>mmt_tripadvisor_count</th>\n",
              "      <th>mmt_loc_rating</th>\n",
              "      <th>mmt_review_rating_Excellent</th>\n",
              "      <th>mmt_review_rating_VeryGood</th>\n",
              "      <th>mmt_review_rating_Average</th>\n",
              "      <th>mmt_review_rating_Poor</th>\n",
              "      <th>mmt_review_rating_Terrible</th>\n",
              "      <th>mmt_traveller_type_review_count_Families</th>\n",
              "      <th>mmt_traveller_type_review_count_Couples</th>\n",
              "      <th>mmt_traveller_type_review_count_Business</th>\n",
              "      <th>mmt_traveller_type_review_count_Solo</th>\n",
              "      <th>mmt_traveller_type_review_count_Friends</th>\n",
              "      <th>traveller_rating_Location</th>\n",
              "      <th>traveller_rating_Hospitality</th>\n",
              "      <th>traveller_rating_Facilities</th>\n",
              "      <th>traveller_rating_Cleanliness</th>\n",
              "      <th>traveller_rating_Money</th>\n",
              "      <th>traveller_rating_Food</th>\n",
              "    </tr>\n",
              "  </thead>\n",
              "  <tbody>\n",
              "    <tr>\n",
              "      <th>count</th>\n",
              "      <td>17814.000000</td>\n",
              "      <td>17814.000000</td>\n",
              "      <td>17814.000000</td>\n",
              "      <td>17814.000000</td>\n",
              "      <td>1.781400e+04</td>\n",
              "      <td>1.781400e+04</td>\n",
              "      <td>1.781400e+04</td>\n",
              "      <td>1.781400e+04</td>\n",
              "      <td>1.781400e+04</td>\n",
              "      <td>1.781400e+04</td>\n",
              "      <td>1.781400e+04</td>\n",
              "      <td>1.781400e+04</td>\n",
              "      <td>1.781400e+04</td>\n",
              "      <td>1.781400e+04</td>\n",
              "      <td>1.781400e+04</td>\n",
              "      <td>1.781400e+04</td>\n",
              "      <td>1.781400e+04</td>\n",
              "      <td>1.781400e+04</td>\n",
              "      <td>1.781400e+04</td>\n",
              "      <td>1.781400e+04</td>\n",
              "      <td>1.781400e+04</td>\n",
              "      <td>1.781400e+04</td>\n",
              "      <td>1.781400e+04</td>\n",
              "      <td>1.781400e+04</td>\n",
              "      <td>1.781400e+04</td>\n",
              "    </tr>\n",
              "    <tr>\n",
              "      <th>mean</th>\n",
              "      <td>1.824745</td>\n",
              "      <td>0.036937</td>\n",
              "      <td>16.644552</td>\n",
              "      <td>59.363062</td>\n",
              "      <td>1.116455e-15</td>\n",
              "      <td>1.710768e-16</td>\n",
              "      <td>-4.332325e-16</td>\n",
              "      <td>1.197432e-15</td>\n",
              "      <td>1.903290e-15</td>\n",
              "      <td>-5.641110e-16</td>\n",
              "      <td>1.365000e-15</td>\n",
              "      <td>1.269346e-15</td>\n",
              "      <td>5.937643e-16</td>\n",
              "      <td>-2.191971e-15</td>\n",
              "      <td>-4.014228e-16</td>\n",
              "      <td>-1.240279e-15</td>\n",
              "      <td>3.388380e-15</td>\n",
              "      <td>5.008531e-16</td>\n",
              "      <td>2.169790e-15</td>\n",
              "      <td>-4.095124e-16</td>\n",
              "      <td>3.035220e-15</td>\n",
              "      <td>3.480182e-16</td>\n",
              "      <td>-3.091211e-15</td>\n",
              "      <td>-1.005595e-15</td>\n",
              "      <td>-2.837644e-15</td>\n",
              "    </tr>\n",
              "    <tr>\n",
              "      <th>std</th>\n",
              "      <td>1.093477</td>\n",
              "      <td>0.188613</td>\n",
              "      <td>11.451249</td>\n",
              "      <td>32.879378</td>\n",
              "      <td>1.000028e+00</td>\n",
              "      <td>1.000028e+00</td>\n",
              "      <td>1.000028e+00</td>\n",
              "      <td>1.000028e+00</td>\n",
              "      <td>1.000028e+00</td>\n",
              "      <td>1.000028e+00</td>\n",
              "      <td>1.000028e+00</td>\n",
              "      <td>1.000028e+00</td>\n",
              "      <td>1.000028e+00</td>\n",
              "      <td>1.000028e+00</td>\n",
              "      <td>1.000028e+00</td>\n",
              "      <td>1.000028e+00</td>\n",
              "      <td>1.000028e+00</td>\n",
              "      <td>1.000028e+00</td>\n",
              "      <td>1.000028e+00</td>\n",
              "      <td>1.000028e+00</td>\n",
              "      <td>1.000028e+00</td>\n",
              "      <td>1.000028e+00</td>\n",
              "      <td>1.000028e+00</td>\n",
              "      <td>1.000028e+00</td>\n",
              "      <td>1.000028e+00</td>\n",
              "    </tr>\n",
              "    <tr>\n",
              "      <th>min</th>\n",
              "      <td>0.000000</td>\n",
              "      <td>0.000000</td>\n",
              "      <td>-8.744480</td>\n",
              "      <td>0.000000</td>\n",
              "      <td>-5.361387e-01</td>\n",
              "      <td>-6.752211e-01</td>\n",
              "      <td>-8.881000e-01</td>\n",
              "      <td>-8.670664e-01</td>\n",
              "      <td>-2.747248e+00</td>\n",
              "      <td>-6.040519e-01</td>\n",
              "      <td>-5.439161e-01</td>\n",
              "      <td>-5.555927e-01</td>\n",
              "      <td>-5.191244e-01</td>\n",
              "      <td>-4.069420e-01</td>\n",
              "      <td>-5.855277e-01</td>\n",
              "      <td>-5.561155e-01</td>\n",
              "      <td>-4.180201e-01</td>\n",
              "      <td>-3.616444e-01</td>\n",
              "      <td>-2.790566e-01</td>\n",
              "      <td>-2.046459e+00</td>\n",
              "      <td>-2.016248e+00</td>\n",
              "      <td>-3.226402e+00</td>\n",
              "      <td>-1.959700e+00</td>\n",
              "      <td>-1.938088e+00</td>\n",
              "      <td>-2.365951e+00</td>\n",
              "    </tr>\n",
              "    <tr>\n",
              "      <th>25%</th>\n",
              "      <td>1.000000</td>\n",
              "      <td>0.000000</td>\n",
              "      <td>9.599008</td>\n",
              "      <td>72.559144</td>\n",
              "      <td>-5.361387e-01</td>\n",
              "      <td>-6.752211e-01</td>\n",
              "      <td>-8.881000e-01</td>\n",
              "      <td>-8.670664e-01</td>\n",
              "      <td>3.800276e-01</td>\n",
              "      <td>-6.040519e-01</td>\n",
              "      <td>-5.439161e-01</td>\n",
              "      <td>-5.555927e-01</td>\n",
              "      <td>-5.191244e-01</td>\n",
              "      <td>-4.069420e-01</td>\n",
              "      <td>-5.855277e-01</td>\n",
              "      <td>-5.561155e-01</td>\n",
              "      <td>-4.180201e-01</td>\n",
              "      <td>-3.616444e-01</td>\n",
              "      <td>-2.790566e-01</td>\n",
              "      <td>-7.448351e-01</td>\n",
              "      <td>-9.860417e-01</td>\n",
              "      <td>7.019400e-02</td>\n",
              "      <td>-9.232316e-01</td>\n",
              "      <td>-1.006441e+00</td>\n",
              "      <td>2.759899e-01</td>\n",
              "    </tr>\n",
              "    <tr>\n",
              "      <th>50%</th>\n",
              "      <td>1.000000</td>\n",
              "      <td>0.000000</td>\n",
              "      <td>17.533300</td>\n",
              "      <td>75.840236</td>\n",
              "      <td>-5.361387e-01</td>\n",
              "      <td>-6.752211e-01</td>\n",
              "      <td>-8.881000e-01</td>\n",
              "      <td>-6.144939e-01</td>\n",
              "      <td>3.800276e-01</td>\n",
              "      <td>-6.040519e-01</td>\n",
              "      <td>-5.439161e-01</td>\n",
              "      <td>-5.555927e-01</td>\n",
              "      <td>-5.191244e-01</td>\n",
              "      <td>-4.069420e-01</td>\n",
              "      <td>-5.855277e-01</td>\n",
              "      <td>-5.561155e-01</td>\n",
              "      <td>-4.180201e-01</td>\n",
              "      <td>-3.616444e-01</td>\n",
              "      <td>-2.790566e-01</td>\n",
              "      <td>6.149916e-01</td>\n",
              "      <td>6.162571e-01</td>\n",
              "      <td>7.019400e-02</td>\n",
              "      <td>6.222900e-01</td>\n",
              "      <td>6.231970e-01</td>\n",
              "      <td>2.759899e-01</td>\n",
              "    </tr>\n",
              "    <tr>\n",
              "      <th>75%</th>\n",
              "      <td>3.000000</td>\n",
              "      <td>0.000000</td>\n",
              "      <td>26.918231</td>\n",
              "      <td>77.603614</td>\n",
              "      <td>-5.361387e-01</td>\n",
              "      <td>9.542248e-01</td>\n",
              "      <td>1.128427e+00</td>\n",
              "      <td>9.195921e-01</td>\n",
              "      <td>3.800276e-01</td>\n",
              "      <td>1.004523e+00</td>\n",
              "      <td>-5.439161e-01</td>\n",
              "      <td>-5.555927e-01</td>\n",
              "      <td>-5.191244e-01</td>\n",
              "      <td>-4.069420e-01</td>\n",
              "      <td>1.151100e+00</td>\n",
              "      <td>-5.561155e-01</td>\n",
              "      <td>-4.180201e-01</td>\n",
              "      <td>-3.616444e-01</td>\n",
              "      <td>-2.790566e-01</td>\n",
              "      <td>6.149916e-01</td>\n",
              "      <td>6.162571e-01</td>\n",
              "      <td>7.019400e-02</td>\n",
              "      <td>6.222900e-01</td>\n",
              "      <td>6.231970e-01</td>\n",
              "      <td>2.759899e-01</td>\n",
              "    </tr>\n",
              "    <tr>\n",
              "      <th>max</th>\n",
              "      <td>5.000000</td>\n",
              "      <td>1.000000</td>\n",
              "      <td>80.162362</td>\n",
              "      <td>130.000000</td>\n",
              "      <td>2.122089e+00</td>\n",
              "      <td>1.938168e+00</td>\n",
              "      <td>1.370077e+00</td>\n",
              "      <td>1.954193e+00</td>\n",
              "      <td>3.800276e-01</td>\n",
              "      <td>1.983328e+00</td>\n",
              "      <td>2.032646e+00</td>\n",
              "      <td>2.002165e+00</td>\n",
              "      <td>2.041251e+00</td>\n",
              "      <td>2.617377e+00</td>\n",
              "      <td>1.987289e+00</td>\n",
              "      <td>2.004848e+00</td>\n",
              "      <td>2.442677e+00</td>\n",
              "      <td>2.866402e+00</td>\n",
              "      <td>3.583773e+00</td>\n",
              "      <td>6.149916e-01</td>\n",
              "      <td>6.162571e-01</td>\n",
              "      <td>3.520426e+00</td>\n",
              "      <td>6.222900e-01</td>\n",
              "      <td>6.231970e-01</td>\n",
              "      <td>3.543856e+00</td>\n",
              "    </tr>\n",
              "  </tbody>\n",
              "</table>\n",
              "</div>"
            ],
            "text/plain": [
              "       hotel_star_rating  ...  traveller_rating_Food\n",
              "count       17814.000000  ...           1.781400e+04\n",
              "mean            1.824745  ...          -2.837644e-15\n",
              "std             1.093477  ...           1.000028e+00\n",
              "min             0.000000  ...          -2.365951e+00\n",
              "25%             1.000000  ...           2.759899e-01\n",
              "50%             1.000000  ...           2.759899e-01\n",
              "75%             3.000000  ...           2.759899e-01\n",
              "max             5.000000  ...           3.543856e+00\n",
              "\n",
              "[8 rows x 25 columns]"
            ]
          },
          "metadata": {
            "tags": []
          },
          "execution_count": 53
        }
      ]
    },
    {
      "cell_type": "code",
      "metadata": {
        "id": "HJe8v4DyEx3p"
      },
      "source": [
        "cleaned_df=data_mmt.copy()"
      ],
      "execution_count": 54,
      "outputs": []
    },
    {
      "cell_type": "code",
      "metadata": {
        "colab": {
          "base_uri": "https://localhost:8080/",
          "height": 304
        },
        "id": "2jLOss1tpwnv",
        "outputId": "b2b72a36-96b7-4660-e274-d417cfcc13d6"
      },
      "source": [
        "cleaned_df.describe()"
      ],
      "execution_count": 55,
      "outputs": [
        {
          "output_type": "execute_result",
          "data": {
            "text/html": [
              "<div>\n",
              "<style scoped>\n",
              "    .dataframe tbody tr th:only-of-type {\n",
              "        vertical-align: middle;\n",
              "    }\n",
              "\n",
              "    .dataframe tbody tr th {\n",
              "        vertical-align: top;\n",
              "    }\n",
              "\n",
              "    .dataframe thead th {\n",
              "        text-align: right;\n",
              "    }\n",
              "</style>\n",
              "<table border=\"1\" class=\"dataframe\">\n",
              "  <thead>\n",
              "    <tr style=\"text-align: right;\">\n",
              "      <th></th>\n",
              "      <th>hotel_star_rating</th>\n",
              "      <th>is_value_plus</th>\n",
              "      <th>latitude</th>\n",
              "      <th>longitude</th>\n",
              "      <th>mmt_holidayiq_review_count</th>\n",
              "      <th>mmt_review_count</th>\n",
              "      <th>mmt_review_score</th>\n",
              "      <th>mmt_tripadvisor_count</th>\n",
              "      <th>mmt_loc_rating</th>\n",
              "      <th>mmt_review_rating_Excellent</th>\n",
              "      <th>mmt_review_rating_VeryGood</th>\n",
              "      <th>mmt_review_rating_Average</th>\n",
              "      <th>mmt_review_rating_Poor</th>\n",
              "      <th>mmt_review_rating_Terrible</th>\n",
              "      <th>mmt_traveller_type_review_count_Families</th>\n",
              "      <th>mmt_traveller_type_review_count_Couples</th>\n",
              "      <th>mmt_traveller_type_review_count_Business</th>\n",
              "      <th>mmt_traveller_type_review_count_Solo</th>\n",
              "      <th>mmt_traveller_type_review_count_Friends</th>\n",
              "      <th>traveller_rating_Location</th>\n",
              "      <th>traveller_rating_Hospitality</th>\n",
              "      <th>traveller_rating_Facilities</th>\n",
              "      <th>traveller_rating_Cleanliness</th>\n",
              "      <th>traveller_rating_Money</th>\n",
              "      <th>traveller_rating_Food</th>\n",
              "    </tr>\n",
              "  </thead>\n",
              "  <tbody>\n",
              "    <tr>\n",
              "      <th>count</th>\n",
              "      <td>17814.000000</td>\n",
              "      <td>17814.000000</td>\n",
              "      <td>17814.000000</td>\n",
              "      <td>17814.000000</td>\n",
              "      <td>1.781400e+04</td>\n",
              "      <td>1.781400e+04</td>\n",
              "      <td>1.781400e+04</td>\n",
              "      <td>1.781400e+04</td>\n",
              "      <td>1.781400e+04</td>\n",
              "      <td>1.781400e+04</td>\n",
              "      <td>1.781400e+04</td>\n",
              "      <td>1.781400e+04</td>\n",
              "      <td>1.781400e+04</td>\n",
              "      <td>1.781400e+04</td>\n",
              "      <td>1.781400e+04</td>\n",
              "      <td>1.781400e+04</td>\n",
              "      <td>1.781400e+04</td>\n",
              "      <td>1.781400e+04</td>\n",
              "      <td>1.781400e+04</td>\n",
              "      <td>1.781400e+04</td>\n",
              "      <td>1.781400e+04</td>\n",
              "      <td>1.781400e+04</td>\n",
              "      <td>1.781400e+04</td>\n",
              "      <td>1.781400e+04</td>\n",
              "      <td>1.781400e+04</td>\n",
              "    </tr>\n",
              "    <tr>\n",
              "      <th>mean</th>\n",
              "      <td>1.824745</td>\n",
              "      <td>0.036937</td>\n",
              "      <td>16.644552</td>\n",
              "      <td>59.363062</td>\n",
              "      <td>1.116455e-15</td>\n",
              "      <td>1.710768e-16</td>\n",
              "      <td>-4.332325e-16</td>\n",
              "      <td>1.197432e-15</td>\n",
              "      <td>1.903290e-15</td>\n",
              "      <td>-5.641110e-16</td>\n",
              "      <td>1.365000e-15</td>\n",
              "      <td>1.269346e-15</td>\n",
              "      <td>5.937643e-16</td>\n",
              "      <td>-2.191971e-15</td>\n",
              "      <td>-4.014228e-16</td>\n",
              "      <td>-1.240279e-15</td>\n",
              "      <td>3.388380e-15</td>\n",
              "      <td>5.008531e-16</td>\n",
              "      <td>2.169790e-15</td>\n",
              "      <td>-4.095124e-16</td>\n",
              "      <td>3.035220e-15</td>\n",
              "      <td>3.480182e-16</td>\n",
              "      <td>-3.091211e-15</td>\n",
              "      <td>-1.005595e-15</td>\n",
              "      <td>-2.837644e-15</td>\n",
              "    </tr>\n",
              "    <tr>\n",
              "      <th>std</th>\n",
              "      <td>1.093477</td>\n",
              "      <td>0.188613</td>\n",
              "      <td>11.451249</td>\n",
              "      <td>32.879378</td>\n",
              "      <td>1.000028e+00</td>\n",
              "      <td>1.000028e+00</td>\n",
              "      <td>1.000028e+00</td>\n",
              "      <td>1.000028e+00</td>\n",
              "      <td>1.000028e+00</td>\n",
              "      <td>1.000028e+00</td>\n",
              "      <td>1.000028e+00</td>\n",
              "      <td>1.000028e+00</td>\n",
              "      <td>1.000028e+00</td>\n",
              "      <td>1.000028e+00</td>\n",
              "      <td>1.000028e+00</td>\n",
              "      <td>1.000028e+00</td>\n",
              "      <td>1.000028e+00</td>\n",
              "      <td>1.000028e+00</td>\n",
              "      <td>1.000028e+00</td>\n",
              "      <td>1.000028e+00</td>\n",
              "      <td>1.000028e+00</td>\n",
              "      <td>1.000028e+00</td>\n",
              "      <td>1.000028e+00</td>\n",
              "      <td>1.000028e+00</td>\n",
              "      <td>1.000028e+00</td>\n",
              "    </tr>\n",
              "    <tr>\n",
              "      <th>min</th>\n",
              "      <td>0.000000</td>\n",
              "      <td>0.000000</td>\n",
              "      <td>-8.744480</td>\n",
              "      <td>0.000000</td>\n",
              "      <td>-5.361387e-01</td>\n",
              "      <td>-6.752211e-01</td>\n",
              "      <td>-8.881000e-01</td>\n",
              "      <td>-8.670664e-01</td>\n",
              "      <td>-2.747248e+00</td>\n",
              "      <td>-6.040519e-01</td>\n",
              "      <td>-5.439161e-01</td>\n",
              "      <td>-5.555927e-01</td>\n",
              "      <td>-5.191244e-01</td>\n",
              "      <td>-4.069420e-01</td>\n",
              "      <td>-5.855277e-01</td>\n",
              "      <td>-5.561155e-01</td>\n",
              "      <td>-4.180201e-01</td>\n",
              "      <td>-3.616444e-01</td>\n",
              "      <td>-2.790566e-01</td>\n",
              "      <td>-2.046459e+00</td>\n",
              "      <td>-2.016248e+00</td>\n",
              "      <td>-3.226402e+00</td>\n",
              "      <td>-1.959700e+00</td>\n",
              "      <td>-1.938088e+00</td>\n",
              "      <td>-2.365951e+00</td>\n",
              "    </tr>\n",
              "    <tr>\n",
              "      <th>25%</th>\n",
              "      <td>1.000000</td>\n",
              "      <td>0.000000</td>\n",
              "      <td>9.599008</td>\n",
              "      <td>72.559144</td>\n",
              "      <td>-5.361387e-01</td>\n",
              "      <td>-6.752211e-01</td>\n",
              "      <td>-8.881000e-01</td>\n",
              "      <td>-8.670664e-01</td>\n",
              "      <td>3.800276e-01</td>\n",
              "      <td>-6.040519e-01</td>\n",
              "      <td>-5.439161e-01</td>\n",
              "      <td>-5.555927e-01</td>\n",
              "      <td>-5.191244e-01</td>\n",
              "      <td>-4.069420e-01</td>\n",
              "      <td>-5.855277e-01</td>\n",
              "      <td>-5.561155e-01</td>\n",
              "      <td>-4.180201e-01</td>\n",
              "      <td>-3.616444e-01</td>\n",
              "      <td>-2.790566e-01</td>\n",
              "      <td>-7.448351e-01</td>\n",
              "      <td>-9.860417e-01</td>\n",
              "      <td>7.019400e-02</td>\n",
              "      <td>-9.232316e-01</td>\n",
              "      <td>-1.006441e+00</td>\n",
              "      <td>2.759899e-01</td>\n",
              "    </tr>\n",
              "    <tr>\n",
              "      <th>50%</th>\n",
              "      <td>1.000000</td>\n",
              "      <td>0.000000</td>\n",
              "      <td>17.533300</td>\n",
              "      <td>75.840236</td>\n",
              "      <td>-5.361387e-01</td>\n",
              "      <td>-6.752211e-01</td>\n",
              "      <td>-8.881000e-01</td>\n",
              "      <td>-6.144939e-01</td>\n",
              "      <td>3.800276e-01</td>\n",
              "      <td>-6.040519e-01</td>\n",
              "      <td>-5.439161e-01</td>\n",
              "      <td>-5.555927e-01</td>\n",
              "      <td>-5.191244e-01</td>\n",
              "      <td>-4.069420e-01</td>\n",
              "      <td>-5.855277e-01</td>\n",
              "      <td>-5.561155e-01</td>\n",
              "      <td>-4.180201e-01</td>\n",
              "      <td>-3.616444e-01</td>\n",
              "      <td>-2.790566e-01</td>\n",
              "      <td>6.149916e-01</td>\n",
              "      <td>6.162571e-01</td>\n",
              "      <td>7.019400e-02</td>\n",
              "      <td>6.222900e-01</td>\n",
              "      <td>6.231970e-01</td>\n",
              "      <td>2.759899e-01</td>\n",
              "    </tr>\n",
              "    <tr>\n",
              "      <th>75%</th>\n",
              "      <td>3.000000</td>\n",
              "      <td>0.000000</td>\n",
              "      <td>26.918231</td>\n",
              "      <td>77.603614</td>\n",
              "      <td>-5.361387e-01</td>\n",
              "      <td>9.542248e-01</td>\n",
              "      <td>1.128427e+00</td>\n",
              "      <td>9.195921e-01</td>\n",
              "      <td>3.800276e-01</td>\n",
              "      <td>1.004523e+00</td>\n",
              "      <td>-5.439161e-01</td>\n",
              "      <td>-5.555927e-01</td>\n",
              "      <td>-5.191244e-01</td>\n",
              "      <td>-4.069420e-01</td>\n",
              "      <td>1.151100e+00</td>\n",
              "      <td>-5.561155e-01</td>\n",
              "      <td>-4.180201e-01</td>\n",
              "      <td>-3.616444e-01</td>\n",
              "      <td>-2.790566e-01</td>\n",
              "      <td>6.149916e-01</td>\n",
              "      <td>6.162571e-01</td>\n",
              "      <td>7.019400e-02</td>\n",
              "      <td>6.222900e-01</td>\n",
              "      <td>6.231970e-01</td>\n",
              "      <td>2.759899e-01</td>\n",
              "    </tr>\n",
              "    <tr>\n",
              "      <th>max</th>\n",
              "      <td>5.000000</td>\n",
              "      <td>1.000000</td>\n",
              "      <td>80.162362</td>\n",
              "      <td>130.000000</td>\n",
              "      <td>2.122089e+00</td>\n",
              "      <td>1.938168e+00</td>\n",
              "      <td>1.370077e+00</td>\n",
              "      <td>1.954193e+00</td>\n",
              "      <td>3.800276e-01</td>\n",
              "      <td>1.983328e+00</td>\n",
              "      <td>2.032646e+00</td>\n",
              "      <td>2.002165e+00</td>\n",
              "      <td>2.041251e+00</td>\n",
              "      <td>2.617377e+00</td>\n",
              "      <td>1.987289e+00</td>\n",
              "      <td>2.004848e+00</td>\n",
              "      <td>2.442677e+00</td>\n",
              "      <td>2.866402e+00</td>\n",
              "      <td>3.583773e+00</td>\n",
              "      <td>6.149916e-01</td>\n",
              "      <td>6.162571e-01</td>\n",
              "      <td>3.520426e+00</td>\n",
              "      <td>6.222900e-01</td>\n",
              "      <td>6.231970e-01</td>\n",
              "      <td>3.543856e+00</td>\n",
              "    </tr>\n",
              "  </tbody>\n",
              "</table>\n",
              "</div>"
            ],
            "text/plain": [
              "       hotel_star_rating  ...  traveller_rating_Food\n",
              "count       17814.000000  ...           1.781400e+04\n",
              "mean            1.824745  ...          -2.837644e-15\n",
              "std             1.093477  ...           1.000028e+00\n",
              "min             0.000000  ...          -2.365951e+00\n",
              "25%             1.000000  ...           2.759899e-01\n",
              "50%             1.000000  ...           2.759899e-01\n",
              "75%             3.000000  ...           2.759899e-01\n",
              "max             5.000000  ...           3.543856e+00\n",
              "\n",
              "[8 rows x 25 columns]"
            ]
          },
          "metadata": {
            "tags": []
          },
          "execution_count": 55
        }
      ]
    },
    {
      "cell_type": "markdown",
      "metadata": {
        "id": "LskL3IDqmahu"
      },
      "source": [
        "#cleaned_df columns and indices"
      ]
    },
    {
      "cell_type": "code",
      "metadata": {
        "colab": {
          "base_uri": "https://localhost:8080/"
        },
        "id": "GBUr7aRtmaHb",
        "outputId": "e79a8484-2f34-48f2-ce21-4b767cb948b7"
      },
      "source": [
        "for i in cleaned_df.columns:\n",
        "  print(cleaned_df.columns.get_loc(i),i)"
      ],
      "execution_count": 56,
      "outputs": [
        {
          "output_type": "stream",
          "text": [
            "0 area\n",
            "1 city\n",
            "2 country\n",
            "3 crawl_date\n",
            "4 highlight_value\n",
            "5 hotel_overview\n",
            "6 hotel_star_rating\n",
            "7 image_urls\n",
            "8 in_your_room\n",
            "9 is_value_plus\n",
            "10 latitude\n",
            "11 longitude\n",
            "12 mmt_holidayiq_review_count\n",
            "13 mmt_review_count\n",
            "14 mmt_review_score\n",
            "15 mmt_tripadvisor_count\n",
            "16 pageurl\n",
            "17 property_address\n",
            "18 property_id\n",
            "19 property_name\n",
            "20 property_type\n",
            "21 query_time_stamp\n",
            "22 room_types\n",
            "23 sitename\n",
            "24 uniq_id\n",
            "25 mmt_loc_rating\n",
            "26 mmt_review_rating_Excellent\n",
            "27 mmt_review_rating_VeryGood\n",
            "28 mmt_review_rating_Average\n",
            "29 mmt_review_rating_Poor\n",
            "30 mmt_review_rating_Terrible\n",
            "31 mmt_traveller_type_review_count_Families\n",
            "32 mmt_traveller_type_review_count_Couples\n",
            "33 mmt_traveller_type_review_count_Business\n",
            "34 mmt_traveller_type_review_count_Solo\n",
            "35 mmt_traveller_type_review_count_Friends\n",
            "36 traveller_rating_Location\n",
            "37 traveller_rating_Hospitality\n",
            "38 traveller_rating_Facilities\n",
            "39 traveller_rating_Cleanliness\n",
            "40 traveller_rating_Money\n",
            "41 traveller_rating_Food\n"
          ],
          "name": "stdout"
        }
      ]
    },
    {
      "cell_type": "code",
      "metadata": {
        "colab": {
          "base_uri": "https://localhost:8080/"
        },
        "id": "XbqQ6GKXgFSG",
        "outputId": "ff81c51f-c74b-41c2-a17c-1d266654e4db"
      },
      "source": [
        "cleaned_df.isnull().sum()"
      ],
      "execution_count": 57,
      "outputs": [
        {
          "output_type": "execute_result",
          "data": {
            "text/plain": [
              "area                                        0\n",
              "city                                        0\n",
              "country                                     0\n",
              "crawl_date                                  0\n",
              "highlight_value                             0\n",
              "hotel_overview                              0\n",
              "hotel_star_rating                           0\n",
              "image_urls                                  0\n",
              "in_your_room                                0\n",
              "is_value_plus                               0\n",
              "latitude                                    0\n",
              "longitude                                   0\n",
              "mmt_holidayiq_review_count                  0\n",
              "mmt_review_count                            0\n",
              "mmt_review_score                            0\n",
              "mmt_tripadvisor_count                       0\n",
              "pageurl                                     0\n",
              "property_address                            0\n",
              "property_id                                 0\n",
              "property_name                               0\n",
              "property_type                               0\n",
              "query_time_stamp                            0\n",
              "room_types                                  0\n",
              "sitename                                    0\n",
              "uniq_id                                     0\n",
              "mmt_loc_rating                              0\n",
              "mmt_review_rating_Excellent                 0\n",
              "mmt_review_rating_VeryGood                  0\n",
              "mmt_review_rating_Average                   0\n",
              "mmt_review_rating_Poor                      0\n",
              "mmt_review_rating_Terrible                  0\n",
              "mmt_traveller_type_review_count_Families    0\n",
              "mmt_traveller_type_review_count_Couples     0\n",
              "mmt_traveller_type_review_count_Business    0\n",
              "mmt_traveller_type_review_count_Solo        0\n",
              "mmt_traveller_type_review_count_Friends     0\n",
              "traveller_rating_Location                   0\n",
              "traveller_rating_Hospitality                0\n",
              "traveller_rating_Facilities                 0\n",
              "traveller_rating_Cleanliness                0\n",
              "traveller_rating_Money                      0\n",
              "traveller_rating_Food                       0\n",
              "dtype: int64"
            ]
          },
          "metadata": {
            "tags": []
          },
          "execution_count": 57
        }
      ]
    },
    {
      "cell_type": "markdown",
      "metadata": {
        "id": "9r-68YxUtVIL"
      },
      "source": [
        "#Feature Selection"
      ]
    },
    {
      "cell_type": "code",
      "metadata": {
        "colab": {
          "base_uri": "https://localhost:8080/",
          "height": 640
        },
        "id": "kjsZ9fkltpUX",
        "outputId": "6eff8d5b-3f4b-4b92-e7cb-413b91a68b68"
      },
      "source": [
        "corr=cleaned_df.corr()\n",
        "plt.figure(figsize = (12,7))\n",
        "heat_map = sns.heatmap(corr, annot=True,linewidths=0.5)\n",
        "plt.show()"
      ],
      "execution_count": 58,
      "outputs": [
        {
          "output_type": "display_data",
          "data": {
            "image/png": "[encoded data removed]",
            "text/plain": [
              "<Figure size 864x504 with 2 Axes>"
            ]
          },
          "metadata": {
            "tags": [],
            "needs_background": "light"
          }
        }
      ]
    },
    {
      "cell_type": "markdown",
      "metadata": {
        "id": "33Ks-tJ4F7hZ"
      },
      "source": [
        "Identify columns which are  highly correlated i.e. higher than 0.9. Ignore highly correlated columns"
      ]
    },
    {
      "cell_type": "code",
      "metadata": {
        "id": "x4Q9JgE3ueZM"
      },
      "source": [
        "columns = np.full((corr.shape[0],), True, dtype=bool)\n",
        "for i in range(corr.shape[0]):\n",
        "    for j in range(i+1, corr.shape[0]):\n",
        "        if corr.iloc[i,j] >= 0.9:\n",
        "            if columns[j]:\n",
        "                columns[j] = False\n",
        "selected_columns = corr.columns[columns]\n",
        "corr_data = corr[selected_columns]"
      ],
      "execution_count": 60,
      "outputs": []
    },
    {
      "cell_type": "code",
      "metadata": {
        "colab": {
          "base_uri": "https://localhost:8080/",
          "height": 807
        },
        "id": "5g86iU-1B8Yt",
        "outputId": "3eefd111-5809-42c1-8167-a6696ffcec43"
      },
      "source": [
        "corr"
      ],
      "execution_count": 61,
      "outputs": [
        {
          "output_type": "execute_result",
          "data": {
            "text/html": [
              "<div>\n",
              "<style scoped>\n",
              "    .dataframe tbody tr th:only-of-type {\n",
              "        vertical-align: middle;\n",
              "    }\n",
              "\n",
              "    .dataframe tbody tr th {\n",
              "        vertical-align: top;\n",
              "    }\n",
              "\n",
              "    .dataframe thead th {\n",
              "        text-align: right;\n",
              "    }\n",
              "</style>\n",
              "<table border=\"1\" class=\"dataframe\">\n",
              "  <thead>\n",
              "    <tr style=\"text-align: right;\">\n",
              "      <th></th>\n",
              "      <th>hotel_star_rating</th>\n",
              "      <th>is_value_plus</th>\n",
              "      <th>latitude</th>\n",
              "      <th>longitude</th>\n",
              "      <th>mmt_holidayiq_review_count</th>\n",
              "      <th>mmt_review_count</th>\n",
              "      <th>mmt_review_score</th>\n",
              "      <th>mmt_tripadvisor_count</th>\n",
              "      <th>mmt_loc_rating</th>\n",
              "      <th>mmt_review_rating_Excellent</th>\n",
              "      <th>mmt_review_rating_VeryGood</th>\n",
              "      <th>mmt_review_rating_Average</th>\n",
              "      <th>mmt_review_rating_Poor</th>\n",
              "      <th>mmt_review_rating_Terrible</th>\n",
              "      <th>mmt_traveller_type_review_count_Families</th>\n",
              "      <th>mmt_traveller_type_review_count_Couples</th>\n",
              "      <th>mmt_traveller_type_review_count_Business</th>\n",
              "      <th>mmt_traveller_type_review_count_Solo</th>\n",
              "      <th>mmt_traveller_type_review_count_Friends</th>\n",
              "      <th>traveller_rating_Location</th>\n",
              "      <th>traveller_rating_Hospitality</th>\n",
              "      <th>traveller_rating_Facilities</th>\n",
              "      <th>traveller_rating_Cleanliness</th>\n",
              "      <th>traveller_rating_Money</th>\n",
              "      <th>traveller_rating_Food</th>\n",
              "    </tr>\n",
              "  </thead>\n",
              "  <tbody>\n",
              "    <tr>\n",
              "      <th>hotel_star_rating</th>\n",
              "      <td>1.000000</td>\n",
              "      <td>0.074940</td>\n",
              "      <td>0.255350</td>\n",
              "      <td>0.289537</td>\n",
              "      <td>0.152588</td>\n",
              "      <td>0.407252</td>\n",
              "      <td>0.470199</td>\n",
              "      <td>0.535156</td>\n",
              "      <td>-0.204185</td>\n",
              "      <td>0.419704</td>\n",
              "      <td>0.396194</td>\n",
              "      <td>0.376772</td>\n",
              "      <td>0.324993</td>\n",
              "      <td>0.242676</td>\n",
              "      <td>0.403000</td>\n",
              "      <td>0.403410</td>\n",
              "      <td>0.309288</td>\n",
              "      <td>0.287922</td>\n",
              "      <td>0.270592</td>\n",
              "      <td>-0.305338</td>\n",
              "      <td>-0.284128</td>\n",
              "      <td>0.099209</td>\n",
              "      <td>-0.278476</td>\n",
              "      <td>-0.298248</td>\n",
              "      <td>-0.066698</td>\n",
              "    </tr>\n",
              "    <tr>\n",
              "      <th>is_value_plus</th>\n",
              "      <td>0.074940</td>\n",
              "      <td>1.000000</td>\n",
              "      <td>0.092868</td>\n",
              "      <td>0.100263</td>\n",
              "      <td>0.069788</td>\n",
              "      <td>0.177038</td>\n",
              "      <td>0.172637</td>\n",
              "      <td>0.126729</td>\n",
              "      <td>-0.075983</td>\n",
              "      <td>0.176327</td>\n",
              "      <td>0.173595</td>\n",
              "      <td>0.176092</td>\n",
              "      <td>0.170079</td>\n",
              "      <td>0.138152</td>\n",
              "      <td>0.166363</td>\n",
              "      <td>0.173625</td>\n",
              "      <td>0.129322</td>\n",
              "      <td>0.157390</td>\n",
              "      <td>0.105146</td>\n",
              "      <td>-0.155561</td>\n",
              "      <td>-0.155247</td>\n",
              "      <td>-0.043534</td>\n",
              "      <td>-0.156577</td>\n",
              "      <td>-0.157919</td>\n",
              "      <td>-0.077701</td>\n",
              "    </tr>\n",
              "    <tr>\n",
              "      <th>latitude</th>\n",
              "      <td>0.255350</td>\n",
              "      <td>0.092868</td>\n",
              "      <td>1.000000</td>\n",
              "      <td>0.781857</td>\n",
              "      <td>0.198950</td>\n",
              "      <td>0.260081</td>\n",
              "      <td>0.315751</td>\n",
              "      <td>0.314386</td>\n",
              "      <td>-0.144786</td>\n",
              "      <td>0.231137</td>\n",
              "      <td>0.201334</td>\n",
              "      <td>0.210385</td>\n",
              "      <td>0.207822</td>\n",
              "      <td>0.161757</td>\n",
              "      <td>0.219553</td>\n",
              "      <td>0.207772</td>\n",
              "      <td>0.154592</td>\n",
              "      <td>0.126949</td>\n",
              "      <td>0.092017</td>\n",
              "      <td>-0.251760</td>\n",
              "      <td>-0.242231</td>\n",
              "      <td>-0.044399</td>\n",
              "      <td>-0.249890</td>\n",
              "      <td>-0.245602</td>\n",
              "      <td>-0.095897</td>\n",
              "    </tr>\n",
              "    <tr>\n",
              "      <th>longitude</th>\n",
              "      <td>0.289537</td>\n",
              "      <td>0.100263</td>\n",
              "      <td>0.781857</td>\n",
              "      <td>1.000000</td>\n",
              "      <td>0.231048</td>\n",
              "      <td>0.338272</td>\n",
              "      <td>0.431579</td>\n",
              "      <td>0.431276</td>\n",
              "      <td>-0.188346</td>\n",
              "      <td>0.307414</td>\n",
              "      <td>0.283281</td>\n",
              "      <td>0.284795</td>\n",
              "      <td>0.266331</td>\n",
              "      <td>0.208418</td>\n",
              "      <td>0.298726</td>\n",
              "      <td>0.280619</td>\n",
              "      <td>0.220836</td>\n",
              "      <td>0.192230</td>\n",
              "      <td>0.147085</td>\n",
              "      <td>-0.295067</td>\n",
              "      <td>-0.302150</td>\n",
              "      <td>-0.031642</td>\n",
              "      <td>-0.306398</td>\n",
              "      <td>-0.307024</td>\n",
              "      <td>-0.134831</td>\n",
              "    </tr>\n",
              "    <tr>\n",
              "      <th>mmt_holidayiq_review_count</th>\n",
              "      <td>0.152588</td>\n",
              "      <td>0.069788</td>\n",
              "      <td>0.198950</td>\n",
              "      <td>0.231048</td>\n",
              "      <td>1.000000</td>\n",
              "      <td>0.389880</td>\n",
              "      <td>0.275438</td>\n",
              "      <td>0.303592</td>\n",
              "      <td>0.203748</td>\n",
              "      <td>0.344302</td>\n",
              "      <td>0.332205</td>\n",
              "      <td>0.344161</td>\n",
              "      <td>0.300029</td>\n",
              "      <td>0.262554</td>\n",
              "      <td>0.355786</td>\n",
              "      <td>0.329234</td>\n",
              "      <td>0.102525</td>\n",
              "      <td>0.201183</td>\n",
              "      <td>0.166888</td>\n",
              "      <td>-0.349924</td>\n",
              "      <td>-0.363479</td>\n",
              "      <td>-0.064337</td>\n",
              "      <td>-0.341649</td>\n",
              "      <td>-0.372809</td>\n",
              "      <td>0.031107</td>\n",
              "    </tr>\n",
              "    <tr>\n",
              "      <th>mmt_review_count</th>\n",
              "      <td>0.407252</td>\n",
              "      <td>0.177038</td>\n",
              "      <td>0.260081</td>\n",
              "      <td>0.338272</td>\n",
              "      <td>0.389880</td>\n",
              "      <td>1.000000</td>\n",
              "      <td>0.731286</td>\n",
              "      <td>0.563430</td>\n",
              "      <td>-0.568472</td>\n",
              "      <td>0.933389</td>\n",
              "      <td>0.879694</td>\n",
              "      <td>0.886326</td>\n",
              "      <td>0.824398</td>\n",
              "      <td>0.667039</td>\n",
              "      <td>0.918263</td>\n",
              "      <td>0.881460</td>\n",
              "      <td>0.676340</td>\n",
              "      <td>0.619294</td>\n",
              "      <td>0.490937</td>\n",
              "      <td>-0.851163</td>\n",
              "      <td>-0.864001</td>\n",
              "      <td>-0.102012</td>\n",
              "      <td>-0.874347</td>\n",
              "      <td>-0.880995</td>\n",
              "      <td>-0.411974</td>\n",
              "    </tr>\n",
              "    <tr>\n",
              "      <th>mmt_review_score</th>\n",
              "      <td>0.470199</td>\n",
              "      <td>0.172637</td>\n",
              "      <td>0.315751</td>\n",
              "      <td>0.431579</td>\n",
              "      <td>0.275438</td>\n",
              "      <td>0.731286</td>\n",
              "      <td>1.000000</td>\n",
              "      <td>0.650330</td>\n",
              "      <td>-0.388236</td>\n",
              "      <td>0.684077</td>\n",
              "      <td>0.600740</td>\n",
              "      <td>0.601762</td>\n",
              "      <td>0.536336</td>\n",
              "      <td>0.401707</td>\n",
              "      <td>0.643022</td>\n",
              "      <td>0.611926</td>\n",
              "      <td>0.453252</td>\n",
              "      <td>0.397293</td>\n",
              "      <td>0.310778</td>\n",
              "      <td>-0.602637</td>\n",
              "      <td>-0.645523</td>\n",
              "      <td>0.020926</td>\n",
              "      <td>-0.655077</td>\n",
              "      <td>-0.655062</td>\n",
              "      <td>-0.253193</td>\n",
              "    </tr>\n",
              "    <tr>\n",
              "      <th>mmt_tripadvisor_count</th>\n",
              "      <td>0.535156</td>\n",
              "      <td>0.126729</td>\n",
              "      <td>0.314386</td>\n",
              "      <td>0.431276</td>\n",
              "      <td>0.303592</td>\n",
              "      <td>0.563430</td>\n",
              "      <td>0.650330</td>\n",
              "      <td>1.000000</td>\n",
              "      <td>-0.277658</td>\n",
              "      <td>0.563369</td>\n",
              "      <td>0.540285</td>\n",
              "      <td>0.519618</td>\n",
              "      <td>0.460748</td>\n",
              "      <td>0.378667</td>\n",
              "      <td>0.555604</td>\n",
              "      <td>0.539719</td>\n",
              "      <td>0.380224</td>\n",
              "      <td>0.407746</td>\n",
              "      <td>0.349173</td>\n",
              "      <td>-0.435923</td>\n",
              "      <td>-0.426988</td>\n",
              "      <td>0.036583</td>\n",
              "      <td>-0.428592</td>\n",
              "      <td>-0.447623</td>\n",
              "      <td>-0.116360</td>\n",
              "    </tr>\n",
              "    <tr>\n",
              "      <th>mmt_loc_rating</th>\n",
              "      <td>-0.204185</td>\n",
              "      <td>-0.075983</td>\n",
              "      <td>-0.144786</td>\n",
              "      <td>-0.188346</td>\n",
              "      <td>0.203748</td>\n",
              "      <td>-0.568472</td>\n",
              "      <td>-0.388236</td>\n",
              "      <td>-0.277658</td>\n",
              "      <td>1.000000</td>\n",
              "      <td>-0.518952</td>\n",
              "      <td>-0.496580</td>\n",
              "      <td>-0.505222</td>\n",
              "      <td>-0.517429</td>\n",
              "      <td>-0.396722</td>\n",
              "      <td>-0.513018</td>\n",
              "      <td>-0.495761</td>\n",
              "      <td>-0.559293</td>\n",
              "      <td>-0.370355</td>\n",
              "      <td>-0.280256</td>\n",
              "      <td>0.564962</td>\n",
              "      <td>0.516966</td>\n",
              "      <td>0.126452</td>\n",
              "      <td>0.546304</td>\n",
              "      <td>0.522904</td>\n",
              "      <td>0.489948</td>\n",
              "    </tr>\n",
              "    <tr>\n",
              "      <th>mmt_review_rating_Excellent</th>\n",
              "      <td>0.419704</td>\n",
              "      <td>0.176327</td>\n",
              "      <td>0.231137</td>\n",
              "      <td>0.307414</td>\n",
              "      <td>0.344302</td>\n",
              "      <td>0.933389</td>\n",
              "      <td>0.684077</td>\n",
              "      <td>0.563369</td>\n",
              "      <td>-0.518952</td>\n",
              "      <td>1.000000</td>\n",
              "      <td>0.825817</td>\n",
              "      <td>0.816719</td>\n",
              "      <td>0.734514</td>\n",
              "      <td>0.584642</td>\n",
              "      <td>0.886393</td>\n",
              "      <td>0.858715</td>\n",
              "      <td>0.657748</td>\n",
              "      <td>0.599463</td>\n",
              "      <td>0.483921</td>\n",
              "      <td>-0.709263</td>\n",
              "      <td>-0.701973</td>\n",
              "      <td>0.127072</td>\n",
              "      <td>-0.718757</td>\n",
              "      <td>-0.723244</td>\n",
              "      <td>-0.264324</td>\n",
              "    </tr>\n",
              "    <tr>\n",
              "      <th>mmt_review_rating_VeryGood</th>\n",
              "      <td>0.396194</td>\n",
              "      <td>0.173595</td>\n",
              "      <td>0.201334</td>\n",
              "      <td>0.283281</td>\n",
              "      <td>0.332205</td>\n",
              "      <td>0.879694</td>\n",
              "      <td>0.600740</td>\n",
              "      <td>0.540285</td>\n",
              "      <td>-0.496580</td>\n",
              "      <td>0.825817</td>\n",
              "      <td>1.000000</td>\n",
              "      <td>0.820733</td>\n",
              "      <td>0.752585</td>\n",
              "      <td>0.622999</td>\n",
              "      <td>0.847261</td>\n",
              "      <td>0.823903</td>\n",
              "      <td>0.636311</td>\n",
              "      <td>0.614385</td>\n",
              "      <td>0.506623</td>\n",
              "      <td>-0.718725</td>\n",
              "      <td>-0.724071</td>\n",
              "      <td>-0.091233</td>\n",
              "      <td>-0.730663</td>\n",
              "      <td>-0.745184</td>\n",
              "      <td>-0.350102</td>\n",
              "    </tr>\n",
              "    <tr>\n",
              "      <th>mmt_review_rating_Average</th>\n",
              "      <td>0.376772</td>\n",
              "      <td>0.176092</td>\n",
              "      <td>0.210385</td>\n",
              "      <td>0.284795</td>\n",
              "      <td>0.344161</td>\n",
              "      <td>0.886326</td>\n",
              "      <td>0.601762</td>\n",
              "      <td>0.519618</td>\n",
              "      <td>-0.505222</td>\n",
              "      <td>0.816719</td>\n",
              "      <td>0.820733</td>\n",
              "      <td>1.000000</td>\n",
              "      <td>0.762285</td>\n",
              "      <td>0.635960</td>\n",
              "      <td>0.842950</td>\n",
              "      <td>0.819601</td>\n",
              "      <td>0.637982</td>\n",
              "      <td>0.620185</td>\n",
              "      <td>0.494338</td>\n",
              "      <td>-0.761914</td>\n",
              "      <td>-0.787407</td>\n",
              "      <td>-0.195846</td>\n",
              "      <td>-0.789063</td>\n",
              "      <td>-0.807356</td>\n",
              "      <td>-0.418035</td>\n",
              "    </tr>\n",
              "    <tr>\n",
              "      <th>mmt_review_rating_Poor</th>\n",
              "      <td>0.324993</td>\n",
              "      <td>0.170079</td>\n",
              "      <td>0.207822</td>\n",
              "      <td>0.266331</td>\n",
              "      <td>0.300029</td>\n",
              "      <td>0.824398</td>\n",
              "      <td>0.536336</td>\n",
              "      <td>0.460748</td>\n",
              "      <td>-0.517429</td>\n",
              "      <td>0.734514</td>\n",
              "      <td>0.752585</td>\n",
              "      <td>0.762285</td>\n",
              "      <td>1.000000</td>\n",
              "      <td>0.645245</td>\n",
              "      <td>0.782601</td>\n",
              "      <td>0.755363</td>\n",
              "      <td>0.600740</td>\n",
              "      <td>0.587474</td>\n",
              "      <td>0.464977</td>\n",
              "      <td>-0.769281</td>\n",
              "      <td>-0.800130</td>\n",
              "      <td>-0.353178</td>\n",
              "      <td>-0.793538</td>\n",
              "      <td>-0.810445</td>\n",
              "      <td>-0.475685</td>\n",
              "    </tr>\n",
              "    <tr>\n",
              "      <th>mmt_review_rating_Terrible</th>\n",
              "      <td>0.242676</td>\n",
              "      <td>0.138152</td>\n",
              "      <td>0.161757</td>\n",
              "      <td>0.208418</td>\n",
              "      <td>0.262554</td>\n",
              "      <td>0.667039</td>\n",
              "      <td>0.401707</td>\n",
              "      <td>0.378667</td>\n",
              "      <td>-0.396722</td>\n",
              "      <td>0.584642</td>\n",
              "      <td>0.622999</td>\n",
              "      <td>0.635960</td>\n",
              "      <td>0.645245</td>\n",
              "      <td>1.000000</td>\n",
              "      <td>0.636416</td>\n",
              "      <td>0.611530</td>\n",
              "      <td>0.496403</td>\n",
              "      <td>0.530219</td>\n",
              "      <td>0.431548</td>\n",
              "      <td>-0.666009</td>\n",
              "      <td>-0.652752</td>\n",
              "      <td>-0.366832</td>\n",
              "      <td>-0.653965</td>\n",
              "      <td>-0.660669</td>\n",
              "      <td>-0.419073</td>\n",
              "    </tr>\n",
              "    <tr>\n",
              "      <th>mmt_traveller_type_review_count_Families</th>\n",
              "      <td>0.403000</td>\n",
              "      <td>0.166363</td>\n",
              "      <td>0.219553</td>\n",
              "      <td>0.298726</td>\n",
              "      <td>0.355786</td>\n",
              "      <td>0.918263</td>\n",
              "      <td>0.643022</td>\n",
              "      <td>0.555604</td>\n",
              "      <td>-0.513018</td>\n",
              "      <td>0.886393</td>\n",
              "      <td>0.847261</td>\n",
              "      <td>0.842950</td>\n",
              "      <td>0.782601</td>\n",
              "      <td>0.636416</td>\n",
              "      <td>1.000000</td>\n",
              "      <td>0.829860</td>\n",
              "      <td>0.612231</td>\n",
              "      <td>0.595309</td>\n",
              "      <td>0.483574</td>\n",
              "      <td>-0.751990</td>\n",
              "      <td>-0.759742</td>\n",
              "      <td>-0.077257</td>\n",
              "      <td>-0.766029</td>\n",
              "      <td>-0.780537</td>\n",
              "      <td>-0.353799</td>\n",
              "    </tr>\n",
              "    <tr>\n",
              "      <th>mmt_traveller_type_review_count_Couples</th>\n",
              "      <td>0.403410</td>\n",
              "      <td>0.173625</td>\n",
              "      <td>0.207772</td>\n",
              "      <td>0.280619</td>\n",
              "      <td>0.329234</td>\n",
              "      <td>0.881460</td>\n",
              "      <td>0.611926</td>\n",
              "      <td>0.539719</td>\n",
              "      <td>-0.495761</td>\n",
              "      <td>0.858715</td>\n",
              "      <td>0.823903</td>\n",
              "      <td>0.819601</td>\n",
              "      <td>0.755363</td>\n",
              "      <td>0.611530</td>\n",
              "      <td>0.829860</td>\n",
              "      <td>1.000000</td>\n",
              "      <td>0.596915</td>\n",
              "      <td>0.587339</td>\n",
              "      <td>0.481752</td>\n",
              "      <td>-0.711955</td>\n",
              "      <td>-0.727781</td>\n",
              "      <td>-0.070590</td>\n",
              "      <td>-0.732675</td>\n",
              "      <td>-0.745344</td>\n",
              "      <td>-0.341552</td>\n",
              "    </tr>\n",
              "    <tr>\n",
              "      <th>mmt_traveller_type_review_count_Business</th>\n",
              "      <td>0.309288</td>\n",
              "      <td>0.129322</td>\n",
              "      <td>0.154592</td>\n",
              "      <td>0.220836</td>\n",
              "      <td>0.102525</td>\n",
              "      <td>0.676340</td>\n",
              "      <td>0.453252</td>\n",
              "      <td>0.380224</td>\n",
              "      <td>-0.559293</td>\n",
              "      <td>0.657748</td>\n",
              "      <td>0.636311</td>\n",
              "      <td>0.637982</td>\n",
              "      <td>0.600740</td>\n",
              "      <td>0.496403</td>\n",
              "      <td>0.612231</td>\n",
              "      <td>0.596915</td>\n",
              "      <td>1.000000</td>\n",
              "      <td>0.563069</td>\n",
              "      <td>0.452860</td>\n",
              "      <td>-0.547445</td>\n",
              "      <td>-0.552889</td>\n",
              "      <td>-0.048767</td>\n",
              "      <td>-0.569096</td>\n",
              "      <td>-0.562234</td>\n",
              "      <td>-0.376363</td>\n",
              "    </tr>\n",
              "    <tr>\n",
              "      <th>mmt_traveller_type_review_count_Solo</th>\n",
              "      <td>0.287922</td>\n",
              "      <td>0.157390</td>\n",
              "      <td>0.126949</td>\n",
              "      <td>0.192230</td>\n",
              "      <td>0.201183</td>\n",
              "      <td>0.619294</td>\n",
              "      <td>0.397293</td>\n",
              "      <td>0.407746</td>\n",
              "      <td>-0.370355</td>\n",
              "      <td>0.599463</td>\n",
              "      <td>0.614385</td>\n",
              "      <td>0.620185</td>\n",
              "      <td>0.587474</td>\n",
              "      <td>0.530219</td>\n",
              "      <td>0.595309</td>\n",
              "      <td>0.587339</td>\n",
              "      <td>0.563069</td>\n",
              "      <td>1.000000</td>\n",
              "      <td>0.422426</td>\n",
              "      <td>-0.502055</td>\n",
              "      <td>-0.503795</td>\n",
              "      <td>-0.086474</td>\n",
              "      <td>-0.504378</td>\n",
              "      <td>-0.516112</td>\n",
              "      <td>-0.256355</td>\n",
              "    </tr>\n",
              "    <tr>\n",
              "      <th>mmt_traveller_type_review_count_Friends</th>\n",
              "      <td>0.270592</td>\n",
              "      <td>0.105146</td>\n",
              "      <td>0.092017</td>\n",
              "      <td>0.147085</td>\n",
              "      <td>0.166888</td>\n",
              "      <td>0.490937</td>\n",
              "      <td>0.310778</td>\n",
              "      <td>0.349173</td>\n",
              "      <td>-0.280256</td>\n",
              "      <td>0.483921</td>\n",
              "      <td>0.506623</td>\n",
              "      <td>0.494338</td>\n",
              "      <td>0.464977</td>\n",
              "      <td>0.431548</td>\n",
              "      <td>0.483574</td>\n",
              "      <td>0.481752</td>\n",
              "      <td>0.452860</td>\n",
              "      <td>0.422426</td>\n",
              "      <td>1.000000</td>\n",
              "      <td>-0.392410</td>\n",
              "      <td>-0.391402</td>\n",
              "      <td>-0.037700</td>\n",
              "      <td>-0.386928</td>\n",
              "      <td>-0.400510</td>\n",
              "      <td>-0.192250</td>\n",
              "    </tr>\n",
              "    <tr>\n",
              "      <th>traveller_rating_Location</th>\n",
              "      <td>-0.305338</td>\n",
              "      <td>-0.155561</td>\n",
              "      <td>-0.251760</td>\n",
              "      <td>-0.295067</td>\n",
              "      <td>-0.349924</td>\n",
              "      <td>-0.851163</td>\n",
              "      <td>-0.602637</td>\n",
              "      <td>-0.435923</td>\n",
              "      <td>0.564962</td>\n",
              "      <td>-0.709263</td>\n",
              "      <td>-0.718725</td>\n",
              "      <td>-0.761914</td>\n",
              "      <td>-0.769281</td>\n",
              "      <td>-0.666009</td>\n",
              "      <td>-0.751990</td>\n",
              "      <td>-0.711955</td>\n",
              "      <td>-0.547445</td>\n",
              "      <td>-0.502055</td>\n",
              "      <td>-0.392410</td>\n",
              "      <td>1.000000</td>\n",
              "      <td>0.865184</td>\n",
              "      <td>0.352530</td>\n",
              "      <td>0.862866</td>\n",
              "      <td>0.875195</td>\n",
              "      <td>0.473989</td>\n",
              "    </tr>\n",
              "    <tr>\n",
              "      <th>traveller_rating_Hospitality</th>\n",
              "      <td>-0.284128</td>\n",
              "      <td>-0.155247</td>\n",
              "      <td>-0.242231</td>\n",
              "      <td>-0.302150</td>\n",
              "      <td>-0.363479</td>\n",
              "      <td>-0.864001</td>\n",
              "      <td>-0.645523</td>\n",
              "      <td>-0.426988</td>\n",
              "      <td>0.516966</td>\n",
              "      <td>-0.701973</td>\n",
              "      <td>-0.724071</td>\n",
              "      <td>-0.787407</td>\n",
              "      <td>-0.800130</td>\n",
              "      <td>-0.652752</td>\n",
              "      <td>-0.759742</td>\n",
              "      <td>-0.727781</td>\n",
              "      <td>-0.552889</td>\n",
              "      <td>-0.503795</td>\n",
              "      <td>-0.391402</td>\n",
              "      <td>0.865184</td>\n",
              "      <td>1.000000</td>\n",
              "      <td>0.438497</td>\n",
              "      <td>0.931111</td>\n",
              "      <td>0.986779</td>\n",
              "      <td>0.590986</td>\n",
              "    </tr>\n",
              "    <tr>\n",
              "      <th>traveller_rating_Facilities</th>\n",
              "      <td>0.099209</td>\n",
              "      <td>-0.043534</td>\n",
              "      <td>-0.044399</td>\n",
              "      <td>-0.031642</td>\n",
              "      <td>-0.064337</td>\n",
              "      <td>-0.102012</td>\n",
              "      <td>0.020926</td>\n",
              "      <td>0.036583</td>\n",
              "      <td>0.126452</td>\n",
              "      <td>0.127072</td>\n",
              "      <td>-0.091233</td>\n",
              "      <td>-0.195846</td>\n",
              "      <td>-0.353178</td>\n",
              "      <td>-0.366832</td>\n",
              "      <td>-0.077257</td>\n",
              "      <td>-0.070590</td>\n",
              "      <td>-0.048767</td>\n",
              "      <td>-0.086474</td>\n",
              "      <td>-0.037700</td>\n",
              "      <td>0.352530</td>\n",
              "      <td>0.438497</td>\n",
              "      <td>1.000000</td>\n",
              "      <td>0.407309</td>\n",
              "      <td>0.430621</td>\n",
              "      <td>0.498898</td>\n",
              "    </tr>\n",
              "    <tr>\n",
              "      <th>traveller_rating_Cleanliness</th>\n",
              "      <td>-0.278476</td>\n",
              "      <td>-0.156577</td>\n",
              "      <td>-0.249890</td>\n",
              "      <td>-0.306398</td>\n",
              "      <td>-0.341649</td>\n",
              "      <td>-0.874347</td>\n",
              "      <td>-0.655077</td>\n",
              "      <td>-0.428592</td>\n",
              "      <td>0.546304</td>\n",
              "      <td>-0.718757</td>\n",
              "      <td>-0.730663</td>\n",
              "      <td>-0.789063</td>\n",
              "      <td>-0.793538</td>\n",
              "      <td>-0.653965</td>\n",
              "      <td>-0.766029</td>\n",
              "      <td>-0.732675</td>\n",
              "      <td>-0.569096</td>\n",
              "      <td>-0.504378</td>\n",
              "      <td>-0.386928</td>\n",
              "      <td>0.862866</td>\n",
              "      <td>0.931111</td>\n",
              "      <td>0.407309</td>\n",
              "      <td>1.000000</td>\n",
              "      <td>0.938546</td>\n",
              "      <td>0.595163</td>\n",
              "    </tr>\n",
              "    <tr>\n",
              "      <th>traveller_rating_Money</th>\n",
              "      <td>-0.298248</td>\n",
              "      <td>-0.157919</td>\n",
              "      <td>-0.245602</td>\n",
              "      <td>-0.307024</td>\n",
              "      <td>-0.372809</td>\n",
              "      <td>-0.880995</td>\n",
              "      <td>-0.655062</td>\n",
              "      <td>-0.447623</td>\n",
              "      <td>0.522904</td>\n",
              "      <td>-0.723244</td>\n",
              "      <td>-0.745184</td>\n",
              "      <td>-0.807356</td>\n",
              "      <td>-0.810445</td>\n",
              "      <td>-0.660669</td>\n",
              "      <td>-0.780537</td>\n",
              "      <td>-0.745344</td>\n",
              "      <td>-0.562234</td>\n",
              "      <td>-0.516112</td>\n",
              "      <td>-0.400510</td>\n",
              "      <td>0.875195</td>\n",
              "      <td>0.986779</td>\n",
              "      <td>0.430621</td>\n",
              "      <td>0.938546</td>\n",
              "      <td>1.000000</td>\n",
              "      <td>0.563673</td>\n",
              "    </tr>\n",
              "    <tr>\n",
              "      <th>traveller_rating_Food</th>\n",
              "      <td>-0.066698</td>\n",
              "      <td>-0.077701</td>\n",
              "      <td>-0.095897</td>\n",
              "      <td>-0.134831</td>\n",
              "      <td>0.031107</td>\n",
              "      <td>-0.411974</td>\n",
              "      <td>-0.253193</td>\n",
              "      <td>-0.116360</td>\n",
              "      <td>0.489948</td>\n",
              "      <td>-0.264324</td>\n",
              "      <td>-0.350102</td>\n",
              "      <td>-0.418035</td>\n",
              "      <td>-0.475685</td>\n",
              "      <td>-0.419073</td>\n",
              "      <td>-0.353799</td>\n",
              "      <td>-0.341552</td>\n",
              "      <td>-0.376363</td>\n",
              "      <td>-0.256355</td>\n",
              "      <td>-0.192250</td>\n",
              "      <td>0.473989</td>\n",
              "      <td>0.590986</td>\n",
              "      <td>0.498898</td>\n",
              "      <td>0.595163</td>\n",
              "      <td>0.563673</td>\n",
              "      <td>1.000000</td>\n",
              "    </tr>\n",
              "  </tbody>\n",
              "</table>\n",
              "</div>"
            ],
            "text/plain": [
              "                                          hotel_star_rating  ...  traveller_rating_Food\n",
              "hotel_star_rating                                  1.000000  ...              -0.066698\n",
              "is_value_plus                                      0.074940  ...              -0.077701\n",
              "latitude                                           0.255350  ...              -0.095897\n",
              "longitude                                          0.289537  ...              -0.134831\n",
              "mmt_holidayiq_review_count                         0.152588  ...               0.031107\n",
              "mmt_review_count                                   0.407252  ...              -0.411974\n",
              "mmt_review_score                                   0.470199  ...              -0.253193\n",
              "mmt_tripadvisor_count                              0.535156  ...              -0.116360\n",
              "mmt_loc_rating                                    -0.204185  ...               0.489948\n",
              "mmt_review_rating_Excellent                        0.419704  ...              -0.264324\n",
              "mmt_review_rating_VeryGood                         0.396194  ...              -0.350102\n",
              "mmt_review_rating_Average                          0.376772  ...              -0.418035\n",
              "mmt_review_rating_Poor                             0.324993  ...              -0.475685\n",
              "mmt_review_rating_Terrible                         0.242676  ...              -0.419073\n",
              "mmt_traveller_type_review_count_Families           0.403000  ...              -0.353799\n",
              "mmt_traveller_type_review_count_Couples            0.403410  ...              -0.341552\n",
              "mmt_traveller_type_review_count_Business           0.309288  ...              -0.376363\n",
              "mmt_traveller_type_review_count_Solo               0.287922  ...              -0.256355\n",
              "mmt_traveller_type_review_count_Friends            0.270592  ...              -0.192250\n",
              "traveller_rating_Location                         -0.305338  ...               0.473989\n",
              "traveller_rating_Hospitality                      -0.284128  ...               0.590986\n",
              "traveller_rating_Facilities                        0.099209  ...               0.498898\n",
              "traveller_rating_Cleanliness                      -0.278476  ...               0.595163\n",
              "traveller_rating_Money                            -0.298248  ...               0.563673\n",
              "traveller_rating_Food                             -0.066698  ...               1.000000\n",
              "\n",
              "[25 rows x 25 columns]"
            ]
          },
          "metadata": {
            "tags": []
          },
          "execution_count": 61
        }
      ]
    },
    {
      "cell_type": "code",
      "metadata": {
        "colab": {
          "base_uri": "https://localhost:8080/"
        },
        "id": "YBrSEnz2x8hT",
        "outputId": "abdb947a-65ea-4684-9410-2c248b716113"
      },
      "source": [
        "corr_data.columns"
      ],
      "execution_count": 63,
      "outputs": [
        {
          "output_type": "execute_result",
          "data": {
            "text/plain": [
              "Index(['hotel_star_rating', 'is_value_plus', 'latitude', 'longitude',\n",
              "       'mmt_holidayiq_review_count', 'mmt_review_count', 'mmt_review_score',\n",
              "       'mmt_tripadvisor_count', 'mmt_loc_rating', 'mmt_review_rating_VeryGood',\n",
              "       'mmt_review_rating_Average', 'mmt_review_rating_Poor',\n",
              "       'mmt_review_rating_Terrible', 'mmt_traveller_type_review_count_Couples',\n",
              "       'mmt_traveller_type_review_count_Business',\n",
              "       'mmt_traveller_type_review_count_Solo',\n",
              "       'mmt_traveller_type_review_count_Friends', 'traveller_rating_Location',\n",
              "       'traveller_rating_Hospitality', 'traveller_rating_Facilities',\n",
              "       'traveller_rating_Food'],\n",
              "      dtype='object')"
            ]
          },
          "metadata": {
            "tags": []
          },
          "execution_count": 63
        }
      ]
    },
    {
      "cell_type": "markdown",
      "metadata": {
        "id": "1tHlhZxuB4B4"
      },
      "source": [
        "Target Variable Hotel Star Rating "
      ]
    },
    {
      "cell_type": "markdown",
      "metadata": {
        "id": "86Leu7eXWqDT"
      },
      "source": [
        "#Conclusion #1\n",
        "Top 4 correlated features with mmt_loc_rating"
      ]
    },
    {
      "cell_type": "code",
      "metadata": {
        "colab": {
          "base_uri": "https://localhost:8080/"
        },
        "id": "_jx5a3LVWxAK",
        "outputId": "a3814228-2d66-4c59-930a-bce0ac0e56cd"
      },
      "source": [
        "non_multicollinear1 = corr_data.corr()\n",
        "print (non_multicollinear1['mmt_loc_rating'].sort_values(ascending=False)[:5])"
      ],
      "execution_count": 68,
      "outputs": [
        {
          "output_type": "stream",
          "text": [
            "mmt_loc_rating                  1.000000\n",
            "traveller_rating_Location       0.932873\n",
            "traveller_rating_Hospitality    0.923638\n",
            "traveller_rating_Food           0.916882\n",
            "traveller_rating_Facilities     0.645106\n",
            "Name: mmt_loc_rating, dtype: float64\n"
          ],
          "name": "stdout"
        }
      ]
    },
    {
      "cell_type": "markdown",
      "metadata": {
        "id": "cA6ahlSPN3F-"
      },
      "source": [
        "#Conclusion #2\n",
        "Top 10 features correlated to hotel_star_rating"
      ]
    },
    {
      "cell_type": "code",
      "metadata": {
        "colab": {
          "base_uri": "https://localhost:8080/"
        },
        "id": "hmZJX3FaFXRw",
        "outputId": "83f5af5d-ac7c-4b32-d1d7-b8e41a0f9a64"
      },
      "source": [
        "non_multicollinear2= corr_data.corr()\n",
        "print (non_multicollinear2['hotel_star_rating'].sort_values(ascending=False)[:11])"
      ],
      "execution_count": 69,
      "outputs": [
        {
          "output_type": "stream",
          "text": [
            "hotel_star_rating                           1.000000\n",
            "mmt_tripadvisor_count                       0.907424\n",
            "mmt_review_score                            0.884030\n",
            "mmt_review_count                            0.838761\n",
            "mmt_traveller_type_review_count_Couples     0.836689\n",
            "mmt_review_rating_VeryGood                  0.833362\n",
            "mmt_review_rating_Average                   0.828708\n",
            "mmt_review_rating_Poor                      0.814385\n",
            "mmt_traveller_type_review_count_Business    0.805768\n",
            "mmt_traveller_type_review_count_Solo        0.787839\n",
            "mmt_review_rating_Terrible                  0.777985\n",
            "Name: hotel_star_rating, dtype: float64\n"
          ],
          "name": "stdout"
        }
      ]
    },
    {
      "cell_type": "markdown",
      "metadata": {
        "id": "oO9HiCe4UeMM"
      },
      "source": [
        "\n",
        "\n",
        "\n",
        "\n",
        "#Analysis #1\n",
        "#Creation of Clusters based on Location,Hospitality,Facilities,Food\n"
      ]
    },
    {
      "cell_type": "code",
      "metadata": {
        "colab": {
          "base_uri": "https://localhost:8080/"
        },
        "id": "aHvRewOfUhzh",
        "outputId": "a2d46bb9-7c95-4a01-8800-82a46daa6c46"
      },
      "source": [
        "cols=[1,19,20,25,36,37,38,41]\n",
        "analysis1_df=cleaned_df.iloc[:,cols]\n",
        "analysis1_df.columns"
      ],
      "execution_count": 70,
      "outputs": [
        {
          "output_type": "execute_result",
          "data": {
            "text/plain": [
              "Index(['city', 'property_name', 'property_type', 'mmt_loc_rating',\n",
              "       'traveller_rating_Location', 'traveller_rating_Hospitality',\n",
              "       'traveller_rating_Facilities', 'traveller_rating_Food'],\n",
              "      dtype='object')"
            ]
          },
          "metadata": {
            "tags": []
          },
          "execution_count": 70
        }
      ]
    },
    {
      "cell_type": "code",
      "metadata": {
        "id": "sdILXXXUIaFT"
      },
      "source": [
        "from sklearn import cluster\n",
        "data = analysis1_df.drop(['property_name','city','property_type'],axis=1)\n",
        "k_means = cluster.KMeans(n_clusters=5, max_iter=50, random_state=1)"
      ],
      "execution_count": 74,
      "outputs": []
    },
    {
      "cell_type": "code",
      "metadata": {
        "id": "AdnfRAmYHvRT"
      },
      "source": [
        "k_means.fit(data) \n",
        "labels = k_means.labels_"
      ],
      "execution_count": 75,
      "outputs": []
    },
    {
      "cell_type": "code",
      "metadata": {
        "colab": {
          "base_uri": "https://localhost:8080/"
        },
        "id": "mopLJWUY1BII",
        "outputId": "e7c1a2af-acc0-4206-9f52-09c6439342d2"
      },
      "source": [
        "k_means.predict(data)"
      ],
      "execution_count": 76,
      "outputs": [
        {
          "output_type": "execute_result",
          "data": {
            "text/plain": [
              "array([0, 0, 0, ..., 4, 0, 4], dtype=int32)"
            ]
          },
          "metadata": {
            "tags": []
          },
          "execution_count": 76
        }
      ]
    },
    {
      "cell_type": "code",
      "metadata": {
        "colab": {
          "base_uri": "https://localhost:8080/"
        },
        "id": "Cd2kh4AB1bSJ",
        "outputId": "db191b2c-b6eb-420f-c932-cfb195673f66"
      },
      "source": [
        "from sklearn.metrics import silhouette_score\n",
        "score = silhouette_score(data, k_means.labels_, metric='euclidean')\n",
        "score"
      ],
      "execution_count": 77,
      "outputs": [
        {
          "output_type": "execute_result",
          "data": {
            "text/plain": [
              "0.7636688027068027"
            ]
          },
          "metadata": {
            "tags": []
          },
          "execution_count": 77
        }
      ]
    },
    {
      "cell_type": "code",
      "metadata": {
        "id": "i-KWb82ZFqH4"
      },
      "source": [
        "col1=analysis1_df['city']\n",
        "col2=analysis1_df['property_type']\n",
        "col3=analysis1_df['traveller_rating_Location']\n",
        "col4=analysis1_df['traveller_rating_Hospitality']\n",
        "col5=analysis1_df['traveller_rating_Facilities']\n",
        "col6=analysis1_df['traveller_rating_Food']\n",
        "combine_columns=zip(col1,col2,col3,col4,col5,col6,labels)"
      ],
      "execution_count": 79,
      "outputs": []
    },
    {
      "cell_type": "code",
      "metadata": {
        "colab": {
          "base_uri": "https://localhost:8080/",
          "height": 431
        },
        "id": "AVhZpaX7Fsaj",
        "outputId": "0ae3c27e-a41a-485e-f8b1-fc04c1088823"
      },
      "source": [
        "cluster_analysis=pd.DataFrame(combine_columns, index=analysis1_df['property_name'], columns=['city','property_type','location','Hospitality','facilities','food','ClusterID'])\n",
        "cluster_analysis.tail(n=300)"
      ],
      "execution_count": 80,
      "outputs": [
        {
          "output_type": "execute_result",
          "data": {
            "text/html": [
              "<div>\n",
              "<style scoped>\n",
              "    .dataframe tbody tr th:only-of-type {\n",
              "        vertical-align: middle;\n",
              "    }\n",
              "\n",
              "    .dataframe tbody tr th {\n",
              "        vertical-align: top;\n",
              "    }\n",
              "\n",
              "    .dataframe thead th {\n",
              "        text-align: right;\n",
              "    }\n",
              "</style>\n",
              "<table border=\"1\" class=\"dataframe\">\n",
              "  <thead>\n",
              "    <tr style=\"text-align: right;\">\n",
              "      <th></th>\n",
              "      <th>city</th>\n",
              "      <th>property_type</th>\n",
              "      <th>location</th>\n",
              "      <th>Hospitality</th>\n",
              "      <th>facilities</th>\n",
              "      <th>food</th>\n",
              "      <th>ClusterID</th>\n",
              "    </tr>\n",
              "    <tr>\n",
              "      <th>property_name</th>\n",
              "      <th></th>\n",
              "      <th></th>\n",
              "      <th></th>\n",
              "      <th></th>\n",
              "      <th></th>\n",
              "      <th></th>\n",
              "      <th></th>\n",
              "    </tr>\n",
              "  </thead>\n",
              "  <tbody>\n",
              "    <tr>\n",
              "      <th>Villa Brook Homestay in Kerala</th>\n",
              "      <td>Allepey</td>\n",
              "      <td>Hotel</td>\n",
              "      <td>0.614992</td>\n",
              "      <td>0.616257</td>\n",
              "      <td>0.070194</td>\n",
              "      <td>0.275990</td>\n",
              "      <td>0</td>\n",
              "    </tr>\n",
              "    <tr>\n",
              "      <th>Hotel Mayura Vijayanagara TB Dam - KSTDC</th>\n",
              "      <td>Hampi</td>\n",
              "      <td>Hotel</td>\n",
              "      <td>0.614992</td>\n",
              "      <td>0.616257</td>\n",
              "      <td>3.520426</td>\n",
              "      <td>3.543856</td>\n",
              "      <td>1</td>\n",
              "    </tr>\n",
              "    <tr>\n",
              "      <th>Tourist Complex</th>\n",
              "      <td>Bharatpur</td>\n",
              "      <td>Hotel</td>\n",
              "      <td>-2.032352</td>\n",
              "      <td>-1.633034</td>\n",
              "      <td>-1.551954</td>\n",
              "      <td>0.275990</td>\n",
              "      <td>3</td>\n",
              "    </tr>\n",
              "    <tr>\n",
              "      <th>Khatana Residency</th>\n",
              "      <td>Bhiwadi</td>\n",
              "      <td>Hotel</td>\n",
              "      <td>0.614992</td>\n",
              "      <td>0.616257</td>\n",
              "      <td>0.070194</td>\n",
              "      <td>0.275990</td>\n",
              "      <td>0</td>\n",
              "    </tr>\n",
              "    <tr>\n",
              "      <th>Hotel Prakash</th>\n",
              "      <td>Ludhiana</td>\n",
              "      <td>Hotel</td>\n",
              "      <td>0.614992</td>\n",
              "      <td>0.616257</td>\n",
              "      <td>0.070194</td>\n",
              "      <td>0.275990</td>\n",
              "      <td>0</td>\n",
              "    </tr>\n",
              "    <tr>\n",
              "      <th>...</th>\n",
              "      <td>...</td>\n",
              "      <td>...</td>\n",
              "      <td>...</td>\n",
              "      <td>...</td>\n",
              "      <td>...</td>\n",
              "      <td>...</td>\n",
              "      <td>...</td>\n",
              "    </tr>\n",
              "    <tr>\n",
              "      <th>Abhirami Farm Resorts</th>\n",
              "      <td>Wayanad</td>\n",
              "      <td>Hotel</td>\n",
              "      <td>0.614992</td>\n",
              "      <td>0.616257</td>\n",
              "      <td>0.070194</td>\n",
              "      <td>0.275990</td>\n",
              "      <td>0</td>\n",
              "    </tr>\n",
              "    <tr>\n",
              "      <th>Golden LodgeVaranasi</th>\n",
              "      <td>Varanasi</td>\n",
              "      <td>Lodge</td>\n",
              "      <td>-1.822268</td>\n",
              "      <td>-2.012391</td>\n",
              "      <td>-1.842362</td>\n",
              "      <td>-1.302412</td>\n",
              "      <td>3</td>\n",
              "    </tr>\n",
              "    <tr>\n",
              "      <th>Ginger Hotel - Mysore</th>\n",
              "      <td>WeekendGetawaysAroundChennai</td>\n",
              "      <td>Hotel</td>\n",
              "      <td>-1.424026</td>\n",
              "      <td>-1.547201</td>\n",
              "      <td>-0.413752</td>\n",
              "      <td>-0.329755</td>\n",
              "      <td>4</td>\n",
              "    </tr>\n",
              "    <tr>\n",
              "      <th>Private 2 room Homestay in Kalpetta</th>\n",
              "      <td>Wayanad</td>\n",
              "      <td>Hotel</td>\n",
              "      <td>0.614992</td>\n",
              "      <td>0.616257</td>\n",
              "      <td>0.070194</td>\n",
              "      <td>0.275990</td>\n",
              "      <td>0</td>\n",
              "    </tr>\n",
              "    <tr>\n",
              "      <th>White Villa</th>\n",
              "      <td>Vishakhapatnam</td>\n",
              "      <td>Hotel</td>\n",
              "      <td>-1.670824</td>\n",
              "      <td>-1.443411</td>\n",
              "      <td>0.911930</td>\n",
              "      <td>0.509524</td>\n",
              "      <td>4</td>\n",
              "    </tr>\n",
              "  </tbody>\n",
              "</table>\n",
              "<p>300 rows × 7 columns</p>\n",
              "</div>"
            ],
            "text/plain": [
              "                                                                  city  ... ClusterID\n",
              "property_name                                                           ...          \n",
              "Villa Brook Homestay in Kerala                                 Allepey  ...         0\n",
              "Hotel Mayura Vijayanagara TB Dam - KSTDC                         Hampi  ...         1\n",
              "Tourist Complex                                              Bharatpur  ...         3\n",
              "Khatana Residency                                              Bhiwadi  ...         0\n",
              "Hotel Prakash                                                 Ludhiana  ...         0\n",
              "...                                                                ...  ...       ...\n",
              "Abhirami Farm Resorts                                          Wayanad  ...         0\n",
              "Golden LodgeVaranasi                                          Varanasi  ...         3\n",
              "Ginger Hotel - Mysore                     WeekendGetawaysAroundChennai  ...         4\n",
              "Private 2 room Homestay in Kalpetta                            Wayanad  ...         0\n",
              "White Villa                                             Vishakhapatnam  ...         4\n",
              "\n",
              "[300 rows x 7 columns]"
            ]
          },
          "metadata": {
            "tags": []
          },
          "execution_count": 80
        }
      ]
    },
    {
      "cell_type": "code",
      "metadata": {
        "colab": {
          "base_uri": "https://localhost:8080/"
        },
        "id": "svwrjRJsli-Z",
        "outputId": "d000e511-4889-4e05-9589-2961f6638ac5"
      },
      "source": [
        "cluster_analysis.shape"
      ],
      "execution_count": 81,
      "outputs": [
        {
          "output_type": "execute_result",
          "data": {
            "text/plain": [
              "(17814, 7)"
            ]
          },
          "metadata": {
            "tags": []
          },
          "execution_count": 81
        }
      ]
    },
    {
      "cell_type": "code",
      "metadata": {
        "colab": {
          "base_uri": "https://localhost:8080/",
          "height": 195
        },
        "id": "u_UQ2wYPWygD",
        "outputId": "c62e61ce-f16c-4980-8ac3-45661947c3a4"
      },
      "source": [
        "from sklearn import cluster\n",
        "centroids = k_means.cluster_centers_\n",
        "centroid_df=pd.DataFrame(centroids,columns=data.columns)\n",
        "centroid_df"
      ],
      "execution_count": 82,
      "outputs": [
        {
          "output_type": "execute_result",
          "data": {
            "text/html": [
              "<div>\n",
              "<style scoped>\n",
              "    .dataframe tbody tr th:only-of-type {\n",
              "        vertical-align: middle;\n",
              "    }\n",
              "\n",
              "    .dataframe tbody tr th {\n",
              "        vertical-align: top;\n",
              "    }\n",
              "\n",
              "    .dataframe thead th {\n",
              "        text-align: right;\n",
              "    }\n",
              "</style>\n",
              "<table border=\"1\" class=\"dataframe\">\n",
              "  <thead>\n",
              "    <tr style=\"text-align: right;\">\n",
              "      <th></th>\n",
              "      <th>mmt_loc_rating</th>\n",
              "      <th>traveller_rating_Location</th>\n",
              "      <th>traveller_rating_Hospitality</th>\n",
              "      <th>traveller_rating_Facilities</th>\n",
              "      <th>traveller_rating_Food</th>\n",
              "    </tr>\n",
              "  </thead>\n",
              "  <tbody>\n",
              "    <tr>\n",
              "      <th>0</th>\n",
              "      <td>0.375989</td>\n",
              "      <td>0.612114</td>\n",
              "      <td>0.606226</td>\n",
              "      <td>0.104324</td>\n",
              "      <td>0.243941</td>\n",
              "    </tr>\n",
              "    <tr>\n",
              "      <th>1</th>\n",
              "      <td>0.118674</td>\n",
              "      <td>-0.193203</td>\n",
              "      <td>0.188143</td>\n",
              "      <td>2.653195</td>\n",
              "      <td>2.606353</td>\n",
              "    </tr>\n",
              "    <tr>\n",
              "      <th>2</th>\n",
              "      <td>-2.622662</td>\n",
              "      <td>-1.467638</td>\n",
              "      <td>-1.399357</td>\n",
              "      <td>-0.381944</td>\n",
              "      <td>-1.427446</td>\n",
              "    </tr>\n",
              "    <tr>\n",
              "      <th>3</th>\n",
              "      <td>0.378925</td>\n",
              "      <td>-1.523423</td>\n",
              "      <td>-1.837658</td>\n",
              "      <td>-1.708771</td>\n",
              "      <td>-1.340236</td>\n",
              "    </tr>\n",
              "    <tr>\n",
              "      <th>4</th>\n",
              "      <td>0.331119</td>\n",
              "      <td>-1.289893</td>\n",
              "      <td>-1.190640</td>\n",
              "      <td>0.262010</td>\n",
              "      <td>0.298429</td>\n",
              "    </tr>\n",
              "  </tbody>\n",
              "</table>\n",
              "</div>"
            ],
            "text/plain": [
              "   mmt_loc_rating  ...  traveller_rating_Food\n",
              "0        0.375989  ...               0.243941\n",
              "1        0.118674  ...               2.606353\n",
              "2       -2.622662  ...              -1.427446\n",
              "3        0.378925  ...              -1.340236\n",
              "4        0.331119  ...               0.298429\n",
              "\n",
              "[5 rows x 5 columns]"
            ]
          },
          "metadata": {
            "tags": []
          },
          "execution_count": 82
        }
      ]
    },
    {
      "cell_type": "code",
      "metadata": {
        "colab": {
          "base_uri": "https://localhost:8080/"
        },
        "id": "YRfselr4W1Y0",
        "outputId": "a9ebc668-a474-47b7-8bea-268abac49735"
      },
      "source": [
        "cluster_analysis.value_counts()"
      ],
      "execution_count": 83,
      "outputs": [
        {
          "output_type": "execute_result",
          "data": {
            "text/plain": [
              "city            property_type  location   Hospitality  facilities  food       ClusterID\n",
              "NewDelhiAndNCR  Hotel           0.614992   0.616257     0.070194    0.275990  0            757\n",
              "Goa             Hotel           0.614992   0.616257     0.070194    0.275990  0            492\n",
              "Mumbai          Hotel           0.614992   0.616257     0.070194    0.275990  0            331\n",
              "Jaipur          Hotel           0.614992   0.616257     0.070194    0.275990  0            323\n",
              "Bangalore       Hotel           0.614992   0.616257     0.070194    0.275990  0            305\n",
              "                                                                                          ... \n",
              "Mangalore       Hotel          -0.390366  -1.810119    -1.391438   -1.655021  3              1\n",
              "                                          -0.768570     1.226232    1.630069  4              1\n",
              "Thalasserry     Hotel          -1.822268   0.616257     0.070194   -2.365951  2              1\n",
              "Mangalore       Hotel           0.614992   0.616257     3.520426   -2.365951  0              1\n",
              "Kumbakonam      Hotel          -1.248441   0.616257     0.070194    0.275990  2              1\n",
              "Length: 6301, dtype: int64"
            ]
          },
          "metadata": {
            "tags": []
          },
          "execution_count": 83
        }
      ]
    },
    {
      "cell_type": "code",
      "metadata": {
        "colab": {
          "base_uri": "https://localhost:8080/"
        },
        "id": "UIPU7nRDKSt4",
        "outputId": "869b471a-ae4a-4894-ca88-6305fabb1c87"
      },
      "source": [
        "centroid_average=centroid_df.iloc[:, :].mean(axis=1)\n",
        "centroid_average=centroid_df.iloc[:, :].mean(axis=1)\n",
        "centroid_average"
      ],
      "execution_count": 84,
      "outputs": [
        {
          "output_type": "execute_result",
          "data": {
            "text/plain": [
              "0    0.388519\n",
              "1    1.074632\n",
              "2   -1.459810\n",
              "3   -1.206232\n",
              "4   -0.317795\n",
              "dtype: float64"
            ]
          },
          "metadata": {
            "tags": []
          },
          "execution_count": 84
        }
      ]
    },
    {
      "cell_type": "markdown",
      "metadata": {
        "id": "hh6-_rmTkqDB"
      },
      "source": [
        "#Conclusion:\n",
        "\n",
        "\n",
        "1.   0 cluster = 4 star\n",
        "2.   1 cluster = 5 star\n",
        "3.   2 cluster = 1 star\n",
        "4.   3 cluster = 2 star\n",
        "5.   4 cluster = 3 star\n",
        "\n"
      ]
    },
    {
      "cell_type": "markdown",
      "metadata": {
        "id": "GnMd9JNVVNXl"
      },
      "source": [
        "#Hotel Star Rating Prediction\n"
      ]
    },
    {
      "cell_type": "code",
      "metadata": {
        "id": "64LncLIXpX_2"
      },
      "source": [
        "col='ClusterID'\n",
        "conditions=[cluster_analysis[col]==0,cluster_analysis[col]==1,cluster_analysis[col]==2,cluster_analysis[col]==3,cluster_analysis[col]==4]\n",
        "choices=[4,5,1,2,3]\n",
        "cluster_analysis['Hotel_Star_Ratings']=np.select(conditions,choices)"
      ],
      "execution_count": 85,
      "outputs": []
    },
    {
      "cell_type": "code",
      "metadata": {
        "colab": {
          "base_uri": "https://localhost:8080/",
          "height": 242
        },
        "id": "zlLz99y2qUc8",
        "outputId": "30982183-7058-4faf-d849-153821a16364"
      },
      "source": [
        "cluster_analysis.tail()"
      ],
      "execution_count": 86,
      "outputs": [
        {
          "output_type": "execute_result",
          "data": {
            "text/html": [
              "<div>\n",
              "<style scoped>\n",
              "    .dataframe tbody tr th:only-of-type {\n",
              "        vertical-align: middle;\n",
              "    }\n",
              "\n",
              "    .dataframe tbody tr th {\n",
              "        vertical-align: top;\n",
              "    }\n",
              "\n",
              "    .dataframe thead th {\n",
              "        text-align: right;\n",
              "    }\n",
              "</style>\n",
              "<table border=\"1\" class=\"dataframe\">\n",
              "  <thead>\n",
              "    <tr style=\"text-align: right;\">\n",
              "      <th></th>\n",
              "      <th>city</th>\n",
              "      <th>property_type</th>\n",
              "      <th>location</th>\n",
              "      <th>Hospitality</th>\n",
              "      <th>facilities</th>\n",
              "      <th>food</th>\n",
              "      <th>ClusterID</th>\n",
              "      <th>Hotel_Star_Ratings</th>\n",
              "    </tr>\n",
              "    <tr>\n",
              "      <th>property_name</th>\n",
              "      <th></th>\n",
              "      <th></th>\n",
              "      <th></th>\n",
              "      <th></th>\n",
              "      <th></th>\n",
              "      <th></th>\n",
              "      <th></th>\n",
              "      <th></th>\n",
              "    </tr>\n",
              "  </thead>\n",
              "  <tbody>\n",
              "    <tr>\n",
              "      <th>Abhirami Farm Resorts</th>\n",
              "      <td>Wayanad</td>\n",
              "      <td>Hotel</td>\n",
              "      <td>0.614992</td>\n",
              "      <td>0.616257</td>\n",
              "      <td>0.070194</td>\n",
              "      <td>0.275990</td>\n",
              "      <td>0</td>\n",
              "      <td>4</td>\n",
              "    </tr>\n",
              "    <tr>\n",
              "      <th>Golden LodgeVaranasi</th>\n",
              "      <td>Varanasi</td>\n",
              "      <td>Lodge</td>\n",
              "      <td>-1.822268</td>\n",
              "      <td>-2.012391</td>\n",
              "      <td>-1.842362</td>\n",
              "      <td>-1.302412</td>\n",
              "      <td>3</td>\n",
              "      <td>2</td>\n",
              "    </tr>\n",
              "    <tr>\n",
              "      <th>Ginger Hotel - Mysore</th>\n",
              "      <td>WeekendGetawaysAroundChennai</td>\n",
              "      <td>Hotel</td>\n",
              "      <td>-1.424026</td>\n",
              "      <td>-1.547201</td>\n",
              "      <td>-0.413752</td>\n",
              "      <td>-0.329755</td>\n",
              "      <td>4</td>\n",
              "      <td>3</td>\n",
              "    </tr>\n",
              "    <tr>\n",
              "      <th>Private 2 room Homestay in Kalpetta</th>\n",
              "      <td>Wayanad</td>\n",
              "      <td>Hotel</td>\n",
              "      <td>0.614992</td>\n",
              "      <td>0.616257</td>\n",
              "      <td>0.070194</td>\n",
              "      <td>0.275990</td>\n",
              "      <td>0</td>\n",
              "      <td>4</td>\n",
              "    </tr>\n",
              "    <tr>\n",
              "      <th>White Villa</th>\n",
              "      <td>Vishakhapatnam</td>\n",
              "      <td>Hotel</td>\n",
              "      <td>-1.670824</td>\n",
              "      <td>-1.443411</td>\n",
              "      <td>0.911930</td>\n",
              "      <td>0.509524</td>\n",
              "      <td>4</td>\n",
              "      <td>3</td>\n",
              "    </tr>\n",
              "  </tbody>\n",
              "</table>\n",
              "</div>"
            ],
            "text/plain": [
              "                                                             city  ... Hotel_Star_Ratings\n",
              "property_name                                                      ...                   \n",
              "Abhirami Farm Resorts                                     Wayanad  ...                  4\n",
              "Golden LodgeVaranasi                                     Varanasi  ...                  2\n",
              "Ginger Hotel - Mysore                WeekendGetawaysAroundChennai  ...                  3\n",
              "Private 2 room Homestay in Kalpetta                       Wayanad  ...                  4\n",
              "White Villa                                        Vishakhapatnam  ...                  3\n",
              "\n",
              "[5 rows x 8 columns]"
            ]
          },
          "metadata": {
            "tags": []
          },
          "execution_count": 86
        }
      ]
    },
    {
      "cell_type": "markdown",
      "metadata": {
        "id": "SMHx3jypMJpD"
      },
      "source": [
        "#Recommendation Model _ City and Rating wise\n",
        "Based on clustering : hotel star prediction and recommendation "
      ]
    },
    {
      "cell_type": "code",
      "metadata": {
        "id": "uLmrclHoq-d5"
      },
      "source": [
        "from scipy.sparse import csr_matrix\n",
        "from sklearn.neighbors import NearestNeighbors\n",
        "\n",
        "def hotel_star_prediction(city,star):\n",
        "  user_choice=cluster_analysis.loc[(cluster_analysis.city==city) & (cluster_analysis['Hotel_Star_Ratings']==star)].sort_values(by='Hotel_Star_Ratings',ascending=False)\n",
        "  user_choice_pvt=user_choice.pivot_table(index=['city','property_name'],columns='property_type',values='Hotel_Star_Ratings').fillna(0)\n",
        "  user_choice_matrix = csr_matrix(user_choice_pvt.values)\n",
        "  d=user_choice_pvt.index.shape[0]\n",
        "  if d<6:\n",
        "    val=d\n",
        "  else:\n",
        "    val=6\n",
        "  model_knn = NearestNeighbors(metric = 'cosine')\n",
        "  model_knn.fit(user_choice_matrix)\n",
        "\n",
        "  query_index = np.random.choice(user_choice_pvt.shape[0])\n",
        "  distances, indices = model_knn.kneighbors(user_choice_pvt.iloc[query_index,:].values.reshape(1, -1), n_neighbors = val)\n",
        "  \n",
        "  for i in range(0, len(distances.flatten())):\n",
        "    if i == 0:\n",
        "        print('Recommendations for {0}:\\n'.format(user_choice_pvt.index[query_index]))\n",
        "    else:\n",
        "        print('{0} : {1}'.format(i, user_choice_pvt.index[indices.flatten()[i]]))\n",
        "  \n"
      ],
      "execution_count": 87,
      "outputs": []
    },
    {
      "cell_type": "code",
      "metadata": {
        "colab": {
          "base_uri": "https://localhost:8080/"
        },
        "id": "0ceyDmENtLne",
        "outputId": "25b79cb2-5f91-4e40-f102-f281ea1e7397"
      },
      "source": [
        "hotel_star_prediction('Munnar',3)"
      ],
      "execution_count": 91,
      "outputs": [
        {
          "output_type": "stream",
          "text": [
            "Recommendations for ('Munnar', 'Tea Castle Resort'):\n",
            "\n",
            "1 : ('Munnar', 'Tea Valley Resort')\n",
            "2 : ('Munnar', 'Spice Country Resort')\n",
            "3 : ('Munnar', 'Tea County')\n",
            "4 : ('Munnar', 'Nature Zone Resorts')\n",
            "5 : ('Munnar', 'Swiss County')\n"
          ],
          "name": "stdout"
        }
      ]
    },
    {
      "cell_type": "code",
      "metadata": {
        "colab": {
          "base_uri": "https://localhost:8080/",
          "height": 580
        },
        "id": "sofWkmU7q0O4",
        "outputId": "3f3eebf6-6ca2-4b5d-c982-c48f658e16d7"
      },
      "source": [
        "cluster_analysis.loc[(cluster_analysis.Hotel_Star_Ratings==3)&(cluster_analysis.city=='Munnar')]"
      ],
      "execution_count": 92,
      "outputs": [
        {
          "output_type": "execute_result",
          "data": {
            "text/html": [
              "<div>\n",
              "<style scoped>\n",
              "    .dataframe tbody tr th:only-of-type {\n",
              "        vertical-align: middle;\n",
              "    }\n",
              "\n",
              "    .dataframe tbody tr th {\n",
              "        vertical-align: top;\n",
              "    }\n",
              "\n",
              "    .dataframe thead th {\n",
              "        text-align: right;\n",
              "    }\n",
              "</style>\n",
              "<table border=\"1\" class=\"dataframe\">\n",
              "  <thead>\n",
              "    <tr style=\"text-align: right;\">\n",
              "      <th></th>\n",
              "      <th>city</th>\n",
              "      <th>property_type</th>\n",
              "      <th>location</th>\n",
              "      <th>Hospitality</th>\n",
              "      <th>facilities</th>\n",
              "      <th>food</th>\n",
              "      <th>ClusterID</th>\n",
              "      <th>Hotel_Star_Ratings</th>\n",
              "    </tr>\n",
              "    <tr>\n",
              "      <th>property_name</th>\n",
              "      <th></th>\n",
              "      <th></th>\n",
              "      <th></th>\n",
              "      <th></th>\n",
              "      <th></th>\n",
              "      <th></th>\n",
              "      <th></th>\n",
              "      <th></th>\n",
              "    </tr>\n",
              "  </thead>\n",
              "  <tbody>\n",
              "    <tr>\n",
              "      <th>Tea County</th>\n",
              "      <td>Munnar</td>\n",
              "      <td>Hotel</td>\n",
              "      <td>-1.025984</td>\n",
              "      <td>-0.768570</td>\n",
              "      <td>0.614977</td>\n",
              "      <td>0.058921</td>\n",
              "      <td>4</td>\n",
              "      <td>3</td>\n",
              "    </tr>\n",
              "    <tr>\n",
              "      <th>Tea Valley Resort</th>\n",
              "      <td>Munnar</td>\n",
              "      <td>Hotel</td>\n",
              "      <td>-1.670824</td>\n",
              "      <td>-1.318164</td>\n",
              "      <td>-0.413752</td>\n",
              "      <td>-0.142679</td>\n",
              "      <td>4</td>\n",
              "      <td>3</td>\n",
              "    </tr>\n",
              "    <tr>\n",
              "      <th>Swiss County</th>\n",
              "      <td>Munnar</td>\n",
              "      <td>Hotel</td>\n",
              "      <td>-1.248441</td>\n",
              "      <td>-0.986042</td>\n",
              "      <td>0.614977</td>\n",
              "      <td>0.275990</td>\n",
              "      <td>4</td>\n",
              "      <td>3</td>\n",
              "    </tr>\n",
              "    <tr>\n",
              "      <th>Seven Springs Plantation Resort</th>\n",
              "      <td>Munnar</td>\n",
              "      <td>Hotel</td>\n",
              "      <td>-1.025984</td>\n",
              "      <td>-0.986042</td>\n",
              "      <td>-0.179045</td>\n",
              "      <td>1.030227</td>\n",
              "      <td>4</td>\n",
              "      <td>3</td>\n",
              "    </tr>\n",
              "    <tr>\n",
              "      <th>Tea Castle Resort</th>\n",
              "      <td>Munnar</td>\n",
              "      <td>Hotel</td>\n",
              "      <td>-1.822268</td>\n",
              "      <td>-0.986042</td>\n",
              "      <td>0.070194</td>\n",
              "      <td>-0.329755</td>\n",
              "      <td>4</td>\n",
              "      <td>3</td>\n",
              "    </tr>\n",
              "    <tr>\n",
              "      <th>Falling Waters</th>\n",
              "      <td>Munnar</td>\n",
              "      <td>Hotel</td>\n",
              "      <td>-1.424026</td>\n",
              "      <td>-1.167330</td>\n",
              "      <td>-0.179045</td>\n",
              "      <td>0.509524</td>\n",
              "      <td>4</td>\n",
              "      <td>3</td>\n",
              "    </tr>\n",
              "    <tr>\n",
              "      <th>Issacs Residency</th>\n",
              "      <td>Munnar</td>\n",
              "      <td>Hotel</td>\n",
              "      <td>-1.424026</td>\n",
              "      <td>-0.986042</td>\n",
              "      <td>0.070194</td>\n",
              "      <td>0.275990</td>\n",
              "      <td>4</td>\n",
              "      <td>3</td>\n",
              "    </tr>\n",
              "    <tr>\n",
              "      <th>Swiss County</th>\n",
              "      <td>Munnar</td>\n",
              "      <td>Hotel</td>\n",
              "      <td>-1.248441</td>\n",
              "      <td>-0.986042</td>\n",
              "      <td>0.614977</td>\n",
              "      <td>0.275990</td>\n",
              "      <td>4</td>\n",
              "      <td>3</td>\n",
              "    </tr>\n",
              "    <tr>\n",
              "      <th>Birds Valley Resorts</th>\n",
              "      <td>Munnar</td>\n",
              "      <td>Hotel</td>\n",
              "      <td>-1.562266</td>\n",
              "      <td>-1.318164</td>\n",
              "      <td>0.070194</td>\n",
              "      <td>-0.503204</td>\n",
              "      <td>4</td>\n",
              "      <td>3</td>\n",
              "    </tr>\n",
              "    <tr>\n",
              "      <th>Monte Cristo</th>\n",
              "      <td>Munnar</td>\n",
              "      <td>Hotel</td>\n",
              "      <td>-1.424026</td>\n",
              "      <td>-1.443411</td>\n",
              "      <td>-0.842160</td>\n",
              "      <td>0.275990</td>\n",
              "      <td>4</td>\n",
              "      <td>3</td>\n",
              "    </tr>\n",
              "    <tr>\n",
              "      <th>Nature Zone Resorts</th>\n",
              "      <td>Munnar</td>\n",
              "      <td>Hotel</td>\n",
              "      <td>-1.025984</td>\n",
              "      <td>-1.167330</td>\n",
              "      <td>1.226232</td>\n",
              "      <td>0.509524</td>\n",
              "      <td>4</td>\n",
              "      <td>3</td>\n",
              "    </tr>\n",
              "    <tr>\n",
              "      <th>Tea Valley Resort</th>\n",
              "      <td>Munnar</td>\n",
              "      <td>Hotel</td>\n",
              "      <td>-1.670824</td>\n",
              "      <td>-1.318164</td>\n",
              "      <td>-0.413752</td>\n",
              "      <td>-0.142679</td>\n",
              "      <td>4</td>\n",
              "      <td>3</td>\n",
              "    </tr>\n",
              "    <tr>\n",
              "      <th>Spice Country Resort</th>\n",
              "      <td>Munnar</td>\n",
              "      <td>Hotel</td>\n",
              "      <td>-1.424026</td>\n",
              "      <td>-1.167330</td>\n",
              "      <td>0.070194</td>\n",
              "      <td>0.275990</td>\n",
              "      <td>4</td>\n",
              "      <td>3</td>\n",
              "    </tr>\n",
              "    <tr>\n",
              "      <th>Misty Mountain Resort</th>\n",
              "      <td>Munnar</td>\n",
              "      <td>Hotel</td>\n",
              "      <td>-1.025984</td>\n",
              "      <td>-1.167330</td>\n",
              "      <td>0.334637</td>\n",
              "      <td>0.509524</td>\n",
              "      <td>4</td>\n",
              "      <td>3</td>\n",
              "    </tr>\n",
              "    <tr>\n",
              "      <th>Falling Waters</th>\n",
              "      <td>Munnar</td>\n",
              "      <td>Hotel</td>\n",
              "      <td>-1.424026</td>\n",
              "      <td>-1.167330</td>\n",
              "      <td>-0.179045</td>\n",
              "      <td>0.509524</td>\n",
              "      <td>4</td>\n",
              "      <td>3</td>\n",
              "    </tr>\n",
              "    <tr>\n",
              "      <th>Vedanta Wake Up - Devikulam</th>\n",
              "      <td>Munnar</td>\n",
              "      <td>Hotel</td>\n",
              "      <td>-1.025984</td>\n",
              "      <td>-0.986042</td>\n",
              "      <td>1.226232</td>\n",
              "      <td>-1.725899</td>\n",
              "      <td>4</td>\n",
              "      <td>3</td>\n",
              "    </tr>\n",
              "    <tr>\n",
              "      <th>Devonshire Greens</th>\n",
              "      <td>Munnar</td>\n",
              "      <td>Hotel</td>\n",
              "      <td>0.055488</td>\n",
              "      <td>-0.768570</td>\n",
              "      <td>0.614977</td>\n",
              "      <td>-0.142679</td>\n",
              "      <td>4</td>\n",
              "      <td>3</td>\n",
              "    </tr>\n",
              "  </tbody>\n",
              "</table>\n",
              "</div>"
            ],
            "text/plain": [
              "                                   city  ... Hotel_Star_Ratings\n",
              "property_name                            ...                   \n",
              "Tea County                       Munnar  ...                  3\n",
              "Tea Valley Resort                Munnar  ...                  3\n",
              "Swiss County                     Munnar  ...                  3\n",
              "Seven Springs Plantation Resort  Munnar  ...                  3\n",
              "Tea Castle Resort                Munnar  ...                  3\n",
              "Falling Waters                   Munnar  ...                  3\n",
              "Issacs Residency                 Munnar  ...                  3\n",
              "Swiss County                     Munnar  ...                  3\n",
              "Birds Valley Resorts             Munnar  ...                  3\n",
              "Monte Cristo                     Munnar  ...                  3\n",
              "Nature Zone Resorts              Munnar  ...                  3\n",
              "Tea Valley Resort                Munnar  ...                  3\n",
              "Spice Country Resort             Munnar  ...                  3\n",
              "Misty Mountain Resort            Munnar  ...                  3\n",
              "Falling Waters                   Munnar  ...                  3\n",
              "Vedanta Wake Up - Devikulam      Munnar  ...                  3\n",
              "Devonshire Greens                Munnar  ...                  3\n",
              "\n",
              "[17 rows x 8 columns]"
            ]
          },
          "metadata": {
            "tags": []
          },
          "execution_count": 92
        }
      ]
    },
    {
      "cell_type": "markdown",
      "metadata": {
        "id": "9iQPzkEa2bUo"
      },
      "source": [
        "#verify output by comaparing index value"
      ]
    },
    {
      "cell_type": "code",
      "metadata": {
        "colab": {
          "base_uri": "https://localhost:8080/",
          "height": 195
        },
        "id": "v2yvbT1v0MnD",
        "outputId": "85b85a07-bdbe-4197-bd5a-474f4cd58e97"
      },
      "source": [
        "cluster_analysis.loc[(cluster_analysis.index.values=='Misty Mountain Resort') | (cluster_analysis.index.values=='Tea County')|(cluster_analysis.index.values=='Spice Country Resort')]"
      ],
      "execution_count": 93,
      "outputs": [
        {
          "output_type": "execute_result",
          "data": {
            "text/html": [
              "<div>\n",
              "<style scoped>\n",
              "    .dataframe tbody tr th:only-of-type {\n",
              "        vertical-align: middle;\n",
              "    }\n",
              "\n",
              "    .dataframe tbody tr th {\n",
              "        vertical-align: top;\n",
              "    }\n",
              "\n",
              "    .dataframe thead th {\n",
              "        text-align: right;\n",
              "    }\n",
              "</style>\n",
              "<table border=\"1\" class=\"dataframe\">\n",
              "  <thead>\n",
              "    <tr style=\"text-align: right;\">\n",
              "      <th></th>\n",
              "      <th>city</th>\n",
              "      <th>property_type</th>\n",
              "      <th>location</th>\n",
              "      <th>Hospitality</th>\n",
              "      <th>facilities</th>\n",
              "      <th>food</th>\n",
              "      <th>ClusterID</th>\n",
              "      <th>Hotel_Star_Ratings</th>\n",
              "    </tr>\n",
              "    <tr>\n",
              "      <th>property_name</th>\n",
              "      <th></th>\n",
              "      <th></th>\n",
              "      <th></th>\n",
              "      <th></th>\n",
              "      <th></th>\n",
              "      <th></th>\n",
              "      <th></th>\n",
              "      <th></th>\n",
              "    </tr>\n",
              "  </thead>\n",
              "  <tbody>\n",
              "    <tr>\n",
              "      <th>Tea County</th>\n",
              "      <td>Munnar</td>\n",
              "      <td>Hotel</td>\n",
              "      <td>-1.025984</td>\n",
              "      <td>-0.76857</td>\n",
              "      <td>0.614977</td>\n",
              "      <td>0.058921</td>\n",
              "      <td>4</td>\n",
              "      <td>3</td>\n",
              "    </tr>\n",
              "    <tr>\n",
              "      <th>Spice Country Resort</th>\n",
              "      <td>Munnar</td>\n",
              "      <td>Hotel</td>\n",
              "      <td>-1.424026</td>\n",
              "      <td>-1.16733</td>\n",
              "      <td>0.070194</td>\n",
              "      <td>0.275990</td>\n",
              "      <td>4</td>\n",
              "      <td>3</td>\n",
              "    </tr>\n",
              "    <tr>\n",
              "      <th>Misty Mountain Resort</th>\n",
              "      <td>Munnar</td>\n",
              "      <td>Hotel</td>\n",
              "      <td>-1.025984</td>\n",
              "      <td>-1.16733</td>\n",
              "      <td>0.334637</td>\n",
              "      <td>0.509524</td>\n",
              "      <td>4</td>\n",
              "      <td>3</td>\n",
              "    </tr>\n",
              "    <tr>\n",
              "      <th>Spice Country Resort</th>\n",
              "      <td>Munnar</td>\n",
              "      <td>Hotel</td>\n",
              "      <td>-1.248441</td>\n",
              "      <td>-1.16733</td>\n",
              "      <td>-0.179045</td>\n",
              "      <td>-0.663877</td>\n",
              "      <td>2</td>\n",
              "      <td>1</td>\n",
              "    </tr>\n",
              "  </tbody>\n",
              "</table>\n",
              "</div>"
            ],
            "text/plain": [
              "                         city property_type  ...  ClusterID  Hotel_Star_Ratings\n",
              "property_name                                ...                               \n",
              "Tea County             Munnar         Hotel  ...          4                   3\n",
              "Spice Country Resort   Munnar         Hotel  ...          4                   3\n",
              "Misty Mountain Resort  Munnar         Hotel  ...          4                   3\n",
              "Spice Country Resort   Munnar         Hotel  ...          2                   1\n",
              "\n",
              "[4 rows x 8 columns]"
            ]
          },
          "metadata": {
            "tags": []
          },
          "execution_count": 93
        }
      ]
    },
    {
      "cell_type": "markdown",
      "metadata": {
        "id": "CgYCoji6VfhS"
      },
      "source": [
        "#Recommendation Model _ City wise"
      ]
    },
    {
      "cell_type": "code",
      "metadata": {
        "id": "xN-zgXK0NWm7"
      },
      "source": [
        "cols=[0,1,6,19,20,14]\n",
        "recommend=cleaned_df.iloc[:,cols]\n",
        "from scipy.sparse import csr_matrix\n",
        "from sklearn.neighbors import NearestNeighbors\n",
        "\n",
        "def hotel_recommendation(city):\n",
        "  user_choice=recommend.loc[(recommend.city==city)].sort_values(by='hotel_star_rating',ascending=False)\n",
        "  user_choice_pvt=user_choice.pivot_table(index=['hotel_star_rating','property_name'],columns='property_type',values='mmt_review_score').fillna(0)\n",
        "  user_choice_matrix = csr_matrix(user_choice_pvt.values)\n",
        "  d=user_choice_pvt.index.shape[0]\n",
        "  if d<6:\n",
        "    val=d\n",
        "  else:\n",
        "    val=6\n",
        "\n",
        "  model_knn = NearestNeighbors(metric = 'cosine')\n",
        "  model_knn.fit(user_choice_matrix)\n",
        "\n",
        "  query_index = np.random.choice(user_choice_pvt.shape[0])\n",
        "  distances, indices = model_knn.kneighbors(user_choice_pvt.iloc[query_index,:].values.reshape(1, -1), n_neighbors = val)\n",
        "  \n",
        "  for i in range(0, len(distances.flatten())):\n",
        "    if i == 0:\n",
        "        print('Recommendations for {0}:\\n'.format(user_choice_pvt.index[query_index]))\n",
        "    else:\n",
        "        print(user_choice_pvt.index[indices.flatten()[i]])\n"
      ],
      "execution_count": 94,
      "outputs": []
    },
    {
      "cell_type": "code",
      "metadata": {
        "colab": {
          "base_uri": "https://localhost:8080/"
        },
        "id": "jEpu-vxWOCu_",
        "outputId": "0f99de46-0fc8-4244-e099-6dd4e4378ba2"
      },
      "source": [
        "hotel_recommendation('Jaipur')"
      ],
      "execution_count": 95,
      "outputs": [
        {
          "output_type": "stream",
          "text": [
            "Recommendations for (1.0, 'Sanjay Hotel'):\n",
            "\n",
            "(1.0, 'Khandela Paying Guest House')\n",
            "(2.0, 'Jag Niwas A Heritage Home Stay')\n",
            "(1.0, 'Lichana Haveli')\n",
            "(1.0, 'Kriss Residency')\n",
            "(1.0, 'Nahar Singh Haveli')\n"
          ],
          "name": "stdout"
        }
      ]
    },
    {
      "cell_type": "code",
      "metadata": {
        "colab": {
          "base_uri": "https://localhost:8080/",
          "height": 130
        },
        "id": "LDhN5xf7SxWP",
        "outputId": "9f175f66-54fc-4db0-a249-dfea8817216f"
      },
      "source": [
        "cleaned_df.loc[(cleaned_df.city=='Jaipur')&(cleaned_df.property_name=='Khandela Paying Guest House')] "
      ],
      "execution_count": 96,
      "outputs": [
        {
          "output_type": "execute_result",
          "data": {
            "text/html": [
              "<div>\n",
              "<style scoped>\n",
              "    .dataframe tbody tr th:only-of-type {\n",
              "        vertical-align: middle;\n",
              "    }\n",
              "\n",
              "    .dataframe tbody tr th {\n",
              "        vertical-align: top;\n",
              "    }\n",
              "\n",
              "    .dataframe thead th {\n",
              "        text-align: right;\n",
              "    }\n",
              "</style>\n",
              "<table border=\"1\" class=\"dataframe\">\n",
              "  <thead>\n",
              "    <tr style=\"text-align: right;\">\n",
              "      <th></th>\n",
              "      <th>area</th>\n",
              "      <th>city</th>\n",
              "      <th>country</th>\n",
              "      <th>crawl_date</th>\n",
              "      <th>highlight_value</th>\n",
              "      <th>hotel_overview</th>\n",
              "      <th>hotel_star_rating</th>\n",
              "      <th>image_urls</th>\n",
              "      <th>in_your_room</th>\n",
              "      <th>is_value_plus</th>\n",
              "      <th>latitude</th>\n",
              "      <th>longitude</th>\n",
              "      <th>mmt_holidayiq_review_count</th>\n",
              "      <th>mmt_review_count</th>\n",
              "      <th>mmt_review_score</th>\n",
              "      <th>mmt_tripadvisor_count</th>\n",
              "      <th>pageurl</th>\n",
              "      <th>property_address</th>\n",
              "      <th>property_id</th>\n",
              "      <th>property_name</th>\n",
              "      <th>property_type</th>\n",
              "      <th>query_time_stamp</th>\n",
              "      <th>room_types</th>\n",
              "      <th>sitename</th>\n",
              "      <th>uniq_id</th>\n",
              "      <th>mmt_loc_rating</th>\n",
              "      <th>mmt_review_rating_Excellent</th>\n",
              "      <th>mmt_review_rating_VeryGood</th>\n",
              "      <th>mmt_review_rating_Average</th>\n",
              "      <th>mmt_review_rating_Poor</th>\n",
              "      <th>mmt_review_rating_Terrible</th>\n",
              "      <th>mmt_traveller_type_review_count_Families</th>\n",
              "      <th>mmt_traveller_type_review_count_Couples</th>\n",
              "      <th>mmt_traveller_type_review_count_Business</th>\n",
              "      <th>mmt_traveller_type_review_count_Solo</th>\n",
              "      <th>mmt_traveller_type_review_count_Friends</th>\n",
              "      <th>traveller_rating_Location</th>\n",
              "      <th>traveller_rating_Hospitality</th>\n",
              "      <th>traveller_rating_Facilities</th>\n",
              "      <th>traveller_rating_Cleanliness</th>\n",
              "      <th>traveller_rating_Money</th>\n",
              "      <th>traveller_rating_Food</th>\n",
              "    </tr>\n",
              "  </thead>\n",
              "  <tbody>\n",
              "    <tr>\n",
              "      <th>8692</th>\n",
              "      <td>BANI PARK JAIPUR</td>\n",
              "      <td>Jaipur</td>\n",
              "      <td>India</td>\n",
              "      <td>2016-05-29 00:00:00</td>\n",
              "      <td>Unspecified</td>\n",
              "      <td>|less</td>\n",
              "      <td>1.0</td>\n",
              "      <td>Unspecified</td>\n",
              "      <td>Unspecified</td>\n",
              "      <td>0.0</td>\n",
              "      <td>0.0</td>\n",
              "      <td>0.0</td>\n",
              "      <td>-0.536139</td>\n",
              "      <td>-0.675221</td>\n",
              "      <td>-0.8881</td>\n",
              "      <td>-0.867066</td>\n",
              "      <td>http://hotelz.makemytrip.com/makemytrip/site/h...</td>\n",
              "      <td>B -20,NEAR SHIV MARG , BANI PARK JAIPUR</td>\n",
              "      <td>2.02E+17</td>\n",
              "      <td>Khandela Paying Guest House</td>\n",
              "      <td>Hotel</td>\n",
              "      <td>2016-05-29 04:08:03 +0000</td>\n",
              "      <td>Unspecified</td>\n",
              "      <td>makemytrip</td>\n",
              "      <td>397ebc614735c83cca84095d71cd3fdc</td>\n",
              "      <td>0.380028</td>\n",
              "      <td>-0.604052</td>\n",
              "      <td>-0.543916</td>\n",
              "      <td>-0.555593</td>\n",
              "      <td>-0.519124</td>\n",
              "      <td>-0.406942</td>\n",
              "      <td>-0.585528</td>\n",
              "      <td>-0.556116</td>\n",
              "      <td>-0.41802</td>\n",
              "      <td>-0.361644</td>\n",
              "      <td>-0.279057</td>\n",
              "      <td>0.614992</td>\n",
              "      <td>0.616257</td>\n",
              "      <td>0.070194</td>\n",
              "      <td>0.62229</td>\n",
              "      <td>0.623197</td>\n",
              "      <td>0.27599</td>\n",
              "    </tr>\n",
              "  </tbody>\n",
              "</table>\n",
              "</div>"
            ],
            "text/plain": [
              "                  area    city  ... traveller_rating_Money traveller_rating_Food\n",
              "8692  BANI PARK JAIPUR  Jaipur  ...               0.623197               0.27599\n",
              "\n",
              "[1 rows x 42 columns]"
            ]
          },
          "metadata": {
            "tags": []
          },
          "execution_count": 96
        }
      ]
    },
    {
      "cell_type": "markdown",
      "metadata": {
        "id": "jzh_4kZvWAaE"
      },
      "source": [
        "#Recommendation Model _ City and Rating wise\n",
        "hotel_star_rating given in dataset"
      ]
    },
    {
      "cell_type": "code",
      "metadata": {
        "id": "Gejjmp9_OBYi"
      },
      "source": [
        "cols=[0,1,6,19,20,14]\n",
        "recommend=cleaned_df.iloc[:,cols]\n",
        "from scipy.sparse import csr_matrix\n",
        "from sklearn.neighbors import NearestNeighbors\n",
        "\n",
        "def hotel_star_recommendation(city,star):\n",
        "  user_choice=recommend.loc[(recommend.city==city) & (recommend['hotel_star_rating']==star)].sort_values(by='hotel_star_rating',ascending=False)\n",
        "  user_choice_pvt=user_choice.pivot_table(index=['city','property_name'],columns='property_type',values='hotel_star_rating').fillna(0)\n",
        "  user_choice_matrix = csr_matrix(user_choice_pvt.values)\n",
        "  d=user_choice_pvt.index.shape[0]\n",
        "  if d<6:\n",
        "    val=d\n",
        "  else:\n",
        "    val=6\n",
        "  model_knn = NearestNeighbors(metric = 'cosine')\n",
        "  model_knn.fit(user_choice_matrix)\n",
        "\n",
        "  query_index = np.random.choice(user_choice_pvt.shape[0])\n",
        "  distances, indices = model_knn.kneighbors(user_choice_pvt.iloc[query_index,:].values.reshape(1, -1), n_neighbors = val)\n",
        "  \n",
        "  for i in range(0, len(distances.flatten())):\n",
        "    if i == 0:\n",
        "        print('Recommendations for {0}:\\n'.format(user_choice_pvt.index[query_index]))\n",
        "    else:\n",
        "        print('{0} : {1}'.format(i, user_choice_pvt.index[indices.flatten()[i]]))"
      ],
      "execution_count": 97,
      "outputs": []
    },
    {
      "cell_type": "code",
      "metadata": {
        "colab": {
          "base_uri": "https://localhost:8080/"
        },
        "id": "YqVnHvXlOEPa",
        "outputId": "ca2de656-cbf4-4416-85f2-40161833670c"
      },
      "source": [
        "hotel_star_recommendation('Indore',2)"
      ],
      "execution_count": 98,
      "outputs": [
        {
          "output_type": "stream",
          "text": [
            "Recommendations for ('Indore', 'Hotel Signature'):\n",
            "\n",
            "1 : ('Indore', 'Hotel Silver Shed')\n",
            "2 : ('Indore', 'Monarch Hotel')\n",
            "3 : ('Indore', 'MALWA COUNTRY')\n",
            "4 : ('Indore', 'Balwas International')\n",
            "5 : ('Indore', 'Hotel Signature')\n"
          ],
          "name": "stdout"
        }
      ]
    },
    {
      "cell_type": "markdown",
      "metadata": {
        "id": "tdnp1jIyWbaG"
      },
      "source": [
        "#Recommendationi Model _ Related Search\n"
      ]
    },
    {
      "cell_type": "code",
      "metadata": {
        "id": "Y9yXAt2ROyEz"
      },
      "source": [
        "cols=[0,1,6,19,20,14]\n",
        "recommend=cleaned_df.iloc[:,cols]\n",
        "\n",
        "def property_type_Recommendation(city,property_type):\n",
        "  user_choice=recommend.loc[(recommend.city==city)&(recommend.property_type!='Unspecified')].sort_values(by='hotel_star_rating',ascending=False)\n",
        "  user_choice_pvt=user_choice.pivot_table(index=['hotel_star_rating','property_name'],columns='property_type',values='mmt_review_score').fillna(0)\n",
        "  selected_rating=user_choice_pvt[property_type] \n",
        "  selected_rating=selected_rating.sort_values(ascending=False)\n",
        "  sr=pd.DataFrame(selected_rating)\n",
        "  print(sr.head())\n",
        "  similarto=user_choice_pvt.corrwith(selected_rating)\n",
        "\n",
        "  corr_=pd.DataFrame(similarto,columns=['Correlation'])\n",
        "  corr_.dropna(inplace=True)\n",
        "  corr_.sort_values(by='Correlation' ,ascending=False)\n",
        "  print(\"*\"*80)\n",
        "  print(\"Related Search:\")\n",
        "  for i in corr_.index:\n",
        "    print(i)"
      ],
      "execution_count": 99,
      "outputs": []
    },
    {
      "cell_type": "code",
      "metadata": {
        "colab": {
          "base_uri": "https://localhost:8080/"
        },
        "id": "rCQz5QvmO5N0",
        "outputId": "df644196-c986-46c5-d704-46483a89267b"
      },
      "source": [
        "property_type_Recommendation('Jaipur','Hotel')"
      ],
      "execution_count": 100,
      "outputs": [
        {
          "output_type": "stream",
          "text": [
            "                                            Hotel\n",
            "hotel_star_rating property_name                  \n",
            "2.0               Hotel Harsh Paradise   1.370077\n",
            "1.0               Hotel Mother India     1.370077\n",
            "3.0               Om Palace - Janakpuri  1.370077\n",
            "1.0               Hotel Apple 9          1.370077\n",
            "3.0               Aapno Heritage Jaipur  1.370077\n",
            "********************************************************************************\n",
            "Related Search:\n",
            "Homestay\n",
            "Hotel\n",
            "Lodge\n",
            "Palace\n"
          ],
          "name": "stdout"
        }
      ]
    },
    {
      "cell_type": "markdown",
      "metadata": {
        "id": "9ze5dsIZBrsE"
      },
      "source": [
        "City Wise rating Property_name, Property_type"
      ]
    },
    {
      "cell_type": "code",
      "metadata": {
        "id": "zMWkf_YZQKyL"
      },
      "source": [
        "user_choice=recommend.loc[(recommend.city=='Agra')].sort_values(by='hotel_star_rating',ascending=False)"
      ],
      "execution_count": 101,
      "outputs": []
    },
    {
      "cell_type": "code",
      "metadata": {
        "colab": {
          "base_uri": "https://localhost:8080/",
          "height": 195
        },
        "id": "OTyPXWTkRmvR",
        "outputId": "84e06249-1221-478c-80ef-2d35823b2a88"
      },
      "source": [
        "user_choice.head()"
      ],
      "execution_count": 102,
      "outputs": [
        {
          "output_type": "execute_result",
          "data": {
            "text/html": [
              "<div>\n",
              "<style scoped>\n",
              "    .dataframe tbody tr th:only-of-type {\n",
              "        vertical-align: middle;\n",
              "    }\n",
              "\n",
              "    .dataframe tbody tr th {\n",
              "        vertical-align: top;\n",
              "    }\n",
              "\n",
              "    .dataframe thead th {\n",
              "        text-align: right;\n",
              "    }\n",
              "</style>\n",
              "<table border=\"1\" class=\"dataframe\">\n",
              "  <thead>\n",
              "    <tr style=\"text-align: right;\">\n",
              "      <th></th>\n",
              "      <th>area</th>\n",
              "      <th>city</th>\n",
              "      <th>hotel_star_rating</th>\n",
              "      <th>property_name</th>\n",
              "      <th>property_type</th>\n",
              "      <th>mmt_review_score</th>\n",
              "    </tr>\n",
              "  </thead>\n",
              "  <tbody>\n",
              "    <tr>\n",
              "      <th>283</th>\n",
              "      <td>The Agra Fort</td>\n",
              "      <td>Agra</td>\n",
              "      <td>5.0</td>\n",
              "      <td>The Oberoi Amarvilas</td>\n",
              "      <td>Hotel</td>\n",
              "      <td>1.331016</td>\n",
              "    </tr>\n",
              "    <tr>\n",
              "      <th>12761</th>\n",
              "      <td>East Gate Road,Fatehabad Road,East Agra</td>\n",
              "      <td>Agra</td>\n",
              "      <td>5.0</td>\n",
              "      <td>Radisson Blu Agra Taj East Gate</td>\n",
              "      <td>Hotel</td>\n",
              "      <td>1.268655</td>\n",
              "    </tr>\n",
              "    <tr>\n",
              "      <th>10644</th>\n",
              "      <td>Fatehabad Road</td>\n",
              "      <td>Agra</td>\n",
              "      <td>5.0</td>\n",
              "      <td>Ramada Plaza</td>\n",
              "      <td>Hotel</td>\n",
              "      <td>1.350786</td>\n",
              "    </tr>\n",
              "    <tr>\n",
              "      <th>10789</th>\n",
              "      <td>Fatehabad Road</td>\n",
              "      <td>Agra</td>\n",
              "      <td>5.0</td>\n",
              "      <td>Crystal Sarovar Premiere</td>\n",
              "      <td>Hotel</td>\n",
              "      <td>1.289969</td>\n",
              "    </tr>\n",
              "    <tr>\n",
              "      <th>287</th>\n",
              "      <td>Unspecified</td>\n",
              "      <td>Agra</td>\n",
              "      <td>5.0</td>\n",
              "      <td>Courtyard by Marriott Agra</td>\n",
              "      <td>Hotel</td>\n",
              "      <td>1.310749</td>\n",
              "    </tr>\n",
              "  </tbody>\n",
              "</table>\n",
              "</div>"
            ],
            "text/plain": [
              "                                          area  ... mmt_review_score\n",
              "283                              The Agra Fort  ...         1.331016\n",
              "12761  East Gate Road,Fatehabad Road,East Agra  ...         1.268655\n",
              "10644                           Fatehabad Road  ...         1.350786\n",
              "10789                           Fatehabad Road  ...         1.289969\n",
              "287                                Unspecified  ...         1.310749\n",
              "\n",
              "[5 rows x 6 columns]"
            ]
          },
          "metadata": {
            "tags": []
          },
          "execution_count": 102
        }
      ]
    },
    {
      "cell_type": "code",
      "metadata": {
        "colab": {
          "base_uri": "https://localhost:8080/",
          "height": 431
        },
        "id": "m_ZvtLfxRri6",
        "outputId": "cc55e17b-562d-49c0-dc34-99c0549056e8"
      },
      "source": [
        "user_choice_pvt=user_choice.pivot_table(index=['hotel_star_rating','property_name'],columns='property_type',values='mmt_review_score').fillna(0)\n",
        "user_choice_pvt.sort_values(by='hotel_star_rating',ascending=False)"
      ],
      "execution_count": 103,
      "outputs": [
        {
          "output_type": "execute_result",
          "data": {
            "text/html": [
              "<div>\n",
              "<style scoped>\n",
              "    .dataframe tbody tr th:only-of-type {\n",
              "        vertical-align: middle;\n",
              "    }\n",
              "\n",
              "    .dataframe tbody tr th {\n",
              "        vertical-align: top;\n",
              "    }\n",
              "\n",
              "    .dataframe thead th {\n",
              "        text-align: right;\n",
              "    }\n",
              "</style>\n",
              "<table border=\"1\" class=\"dataframe\">\n",
              "  <thead>\n",
              "    <tr style=\"text-align: right;\">\n",
              "      <th></th>\n",
              "      <th>property_type</th>\n",
              "      <th>Homestay</th>\n",
              "      <th>Hotel</th>\n",
              "      <th>Lodge</th>\n",
              "    </tr>\n",
              "    <tr>\n",
              "      <th>hotel_star_rating</th>\n",
              "      <th>property_name</th>\n",
              "      <th></th>\n",
              "      <th></th>\n",
              "      <th></th>\n",
              "    </tr>\n",
              "  </thead>\n",
              "  <tbody>\n",
              "    <tr>\n",
              "      <th rowspan=\"5\" valign=\"top\">5.0</th>\n",
              "      <th>The Oberoi Amarvilas</th>\n",
              "      <td>0.000000</td>\n",
              "      <td>1.331016</td>\n",
              "      <td>0.0</td>\n",
              "    </tr>\n",
              "    <tr>\n",
              "      <th>Ramada Plaza</th>\n",
              "      <td>0.000000</td>\n",
              "      <td>1.350786</td>\n",
              "      <td>0.0</td>\n",
              "    </tr>\n",
              "    <tr>\n",
              "      <th>Radisson Blu Agra Taj East Gate</th>\n",
              "      <td>0.000000</td>\n",
              "      <td>1.268655</td>\n",
              "      <td>0.0</td>\n",
              "    </tr>\n",
              "    <tr>\n",
              "      <th>Hotel Mansingh Palace</th>\n",
              "      <td>0.000000</td>\n",
              "      <td>1.177670</td>\n",
              "      <td>0.0</td>\n",
              "    </tr>\n",
              "    <tr>\n",
              "      <th>Crystal Sarovar Premiere</th>\n",
              "      <td>0.000000</td>\n",
              "      <td>1.289969</td>\n",
              "      <td>0.0</td>\n",
              "    </tr>\n",
              "    <tr>\n",
              "      <th>...</th>\n",
              "      <th>...</th>\n",
              "      <td>...</td>\n",
              "      <td>...</td>\n",
              "      <td>...</td>\n",
              "    </tr>\n",
              "    <tr>\n",
              "      <th rowspan=\"5\" valign=\"top\">1.0</th>\n",
              "      <th>Hotel Seva</th>\n",
              "      <td>0.000000</td>\n",
              "      <td>-0.888100</td>\n",
              "      <td>0.0</td>\n",
              "    </tr>\n",
              "    <tr>\n",
              "      <th>Hotel Sai President</th>\n",
              "      <td>0.000000</td>\n",
              "      <td>0.571007</td>\n",
              "      <td>0.0</td>\n",
              "    </tr>\n",
              "    <tr>\n",
              "      <th>Hotel Sagar</th>\n",
              "      <td>0.000000</td>\n",
              "      <td>-0.888100</td>\n",
              "      <td>0.0</td>\n",
              "    </tr>\n",
              "    <tr>\n",
              "      <th>Hotel Raj Paradise</th>\n",
              "      <td>0.000000</td>\n",
              "      <td>0.992729</td>\n",
              "      <td>0.0</td>\n",
              "    </tr>\n",
              "    <tr>\n",
              "      <th>Awtar Mansion</th>\n",
              "      <td>1.370077</td>\n",
              "      <td>0.000000</td>\n",
              "      <td>0.0</td>\n",
              "    </tr>\n",
              "  </tbody>\n",
              "</table>\n",
              "<p>95 rows × 3 columns</p>\n",
              "</div>"
            ],
            "text/plain": [
              "property_type                                      Homestay     Hotel  Lodge\n",
              "hotel_star_rating property_name                                             \n",
              "5.0               The Oberoi Amarvilas             0.000000  1.331016    0.0\n",
              "                  Ramada Plaza                     0.000000  1.350786    0.0\n",
              "                  Radisson Blu Agra Taj East Gate  0.000000  1.268655    0.0\n",
              "                  Hotel Mansingh Palace            0.000000  1.177670    0.0\n",
              "                  Crystal Sarovar Premiere         0.000000  1.289969    0.0\n",
              "...                                                     ...       ...    ...\n",
              "1.0               Hotel Seva                       0.000000 -0.888100    0.0\n",
              "                  Hotel Sai President              0.000000  0.571007    0.0\n",
              "                  Hotel Sagar                      0.000000 -0.888100    0.0\n",
              "                  Hotel Raj Paradise               0.000000  0.992729    0.0\n",
              "                  Awtar Mansion                    1.370077  0.000000    0.0\n",
              "\n",
              "[95 rows x 3 columns]"
            ]
          },
          "metadata": {
            "tags": []
          },
          "execution_count": 103
        }
      ]
    },
    {
      "cell_type": "markdown",
      "metadata": {
        "id": "6T_cTC5IWuAE"
      },
      "source": [
        "#Visualization of count of ratings based on cities"
      ]
    },
    {
      "cell_type": "code",
      "metadata": {
        "colab": {
          "base_uri": "https://localhost:8080/",
          "height": 433
        },
        "id": "2tia2lGEZfQP",
        "outputId": "a8e97417-8beb-4714-dd1b-b485b781e5bd"
      },
      "source": [
        "cities = ['Kolkata','Goa','Guwahati','Mumbai','Udaipur','Bangalore','Agra','Chennai']\n",
        "city_df = recommend.loc[recommend['city'].isin(cities)]\n",
        "city_plot= pd.crosstab(index=city_df['city'],columns=city_df['hotel_star_rating'])\n",
        "plt = city_plot.plot(kind='bar',figsize=(14,5),title='Count of Ratings based on Cities',fontsize=15)\n",
        "plt"
      ],
      "execution_count": 104,
      "outputs": [
        {
          "output_type": "execute_result",
          "data": {
            "text/plain": [
              "<matplotlib.axes._subplots.AxesSubplot at 0x7fb09919d750>"
            ]
          },
          "metadata": {
            "tags": []
          },
          "execution_count": 104
        },
        {
          "output_type": "display_data",
          "data": {
            "image/png": "[encoded data removed]",
            "text/plain": [
              "<Figure size 1008x360 with 1 Axes>"
            ]
          },
          "metadata": {
            "tags": [],
            "needs_background": "light"
          }
        }
      ]
    },
    {
      "cell_type": "markdown",
      "metadata": {
        "id": "84NokR8CXkKo"
      },
      "source": [
        "#Conclusion:\n",
        "This analysis recommends traveller to choose hotels and other property types that matches their requirements and interests.\n"
      ]
    },
    {
      "cell_type": "markdown",
      "metadata": {
        "id": "hWDF6pgkmrrP"
      },
      "source": [
        "\n",
        "\n",
        "#Analysis #2\n",
        "#KNN classification"
      ]
    },
    {
      "cell_type": "markdown",
      "metadata": {
        "id": "z2AuykxJfwFV"
      },
      "source": [
        "hotel_star_rating as target variable"
      ]
    },
    {
      "cell_type": "code",
      "metadata": {
        "colab": {
          "base_uri": "https://localhost:8080/"
        },
        "id": "Q9u8aEBTmrIV",
        "outputId": "74c095e8-bc57-4450-de24-613eb72da0de"
      },
      "source": [
        "cols=[6,15,14,13,32,27,28,29,33,34,30]\n",
        "classify_df=cleaned_df.iloc[:,cols]\n",
        "classify_df.columns"
      ],
      "execution_count": 105,
      "outputs": [
        {
          "output_type": "execute_result",
          "data": {
            "text/plain": [
              "Index(['hotel_star_rating', 'mmt_tripadvisor_count', 'mmt_review_score',\n",
              "       'mmt_review_count', 'mmt_traveller_type_review_count_Couples',\n",
              "       'mmt_review_rating_VeryGood', 'mmt_review_rating_Average',\n",
              "       'mmt_review_rating_Poor', 'mmt_traveller_type_review_count_Business',\n",
              "       'mmt_traveller_type_review_count_Solo', 'mmt_review_rating_Terrible'],\n",
              "      dtype='object')"
            ]
          },
          "metadata": {
            "tags": []
          },
          "execution_count": 105
        }
      ]
    },
    {
      "cell_type": "code",
      "metadata": {
        "id": "5HWIQia4mvlI"
      },
      "source": [
        "xcol=[1,2,3,4,5]\n",
        "X = classify_df.iloc[:,xcol].values\n",
        "y = classify_df.iloc[:, 0].values"
      ],
      "execution_count": 106,
      "outputs": []
    },
    {
      "cell_type": "code",
      "metadata": {
        "id": "ZXhn7KhWoNQE"
      },
      "source": [
        "from sklearn.model_selection import train_test_split\n",
        "X_train, X_test, y_train, y_test = train_test_split(X, y, test_size = 0.20)"
      ],
      "execution_count": 107,
      "outputs": []
    },
    {
      "cell_type": "code",
      "metadata": {
        "colab": {
          "base_uri": "https://localhost:8080/"
        },
        "id": "mQZ8vrVfo_LF",
        "outputId": "36aba441-e66c-421c-e595-1f7be2e8abeb"
      },
      "source": [
        "from sklearn.neighbors import KNeighborsClassifier\n",
        "classifier = KNeighborsClassifier(n_neighbors = 5)\n",
        "classifier.fit(X_train, y_train)"
      ],
      "execution_count": 116,
      "outputs": [
        {
          "output_type": "execute_result",
          "data": {
            "text/plain": [
              "KNeighborsClassifier(algorithm='auto', leaf_size=30, metric='minkowski',\n",
              "                     metric_params=None, n_jobs=None, n_neighbors=5, p=2,\n",
              "                     weights='uniform')"
            ]
          },
          "metadata": {
            "tags": []
          },
          "execution_count": 116
        }
      ]
    },
    {
      "cell_type": "code",
      "metadata": {
        "id": "3W7i954kpb3E"
      },
      "source": [
        "y_pred = classifier.predict(X_test)"
      ],
      "execution_count": 117,
      "outputs": []
    },
    {
      "cell_type": "code",
      "metadata": {
        "colab": {
          "base_uri": "https://localhost:8080/"
        },
        "id": "-u8yeIENpfJa",
        "outputId": "6d622188-18b3-444a-c94b-99f5c13385bc"
      },
      "source": [
        "from sklearn.metrics import classification_report, confusion_matrix, accuracy_score\n",
        "result = confusion_matrix(y_test, y_pred)\n",
        "print(\"Confusion Matrix:\")\n",
        "print(result)\n",
        "result1 = classification_report(y_test, y_pred)\n",
        "print(\"Classification Report:\",)\n",
        "print (result1)\n",
        "result2 = accuracy_score(y_test,y_pred)\n",
        "print(\"Accuracy:\",result2)"
      ],
      "execution_count": 118,
      "outputs": [
        {
          "output_type": "stream",
          "text": [
            "Confusion Matrix:\n",
            "[[   0    9    0    2    0    0]\n",
            " [   0 1852   79   95   12    0]\n",
            " [   1  313   81   87   13    4]\n",
            " [   0  354   91  240   42   15]\n",
            " [   2   48   20   70   38   12]\n",
            " [   0   17    8   17   13   28]]\n",
            "Classification Report:\n",
            "              precision    recall  f1-score   support\n",
            "\n",
            "         0.0       0.00      0.00      0.00        11\n",
            "         1.0       0.71      0.91      0.80      2038\n",
            "         2.0       0.29      0.16      0.21       499\n",
            "         3.0       0.47      0.32      0.38       742\n",
            "         4.0       0.32      0.20      0.25       190\n",
            "         5.0       0.47      0.34      0.39        83\n",
            "\n",
            "    accuracy                           0.63      3563\n",
            "   macro avg       0.38      0.32      0.34      3563\n",
            "weighted avg       0.58      0.63      0.59      3563\n",
            "\n",
            "Accuracy: 0.6284030311535224\n"
          ],
          "name": "stdout"
        }
      ]
    },
    {
      "cell_type": "markdown",
      "metadata": {
        "id": "ZLV9zI0znCg1"
      },
      "source": [
        "#Conclusion:\n",
        "Accuracy:62.19%\n",
        "\n",
        "\n",
        "#Cross-validation"
      ]
    },
    {
      "cell_type": "code",
      "metadata": {
        "id": "fLqLZ018w-dt"
      },
      "source": [
        "from sklearn.model_selection import cross_val_score"
      ],
      "execution_count": 122,
      "outputs": []
    },
    {
      "cell_type": "code",
      "metadata": {
        "id": "wBEWNZzjdETu"
      },
      "source": [
        "knn = KNeighborsClassifier(n_neighbors=5)\n",
        "scores = cross_val_score(knn, X, y, cv=10, scoring='accuracy')\n",
        "print(scores)\n",
        "print(scores.mean())"
      ],
      "execution_count": null,
      "outputs": []
    },
    {
      "cell_type": "code",
      "metadata": {
        "id": "SqrRdlXpvVqg"
      },
      "source": [
        "k_range = range(1, 31)\n",
        "k_scores = []\n",
        "for k in k_range:\n",
        "    # 1. KNeighborsClassifier with k neighbours\n",
        "    classifier = KNeighborsClassifier(n_neighbors=k)\n",
        "    # 2. obtain cross_val_score for KNeighborsClassifier with k neighbours\n",
        "    scores = cross_val_score(classifier, X, y, cv=10, scoring='accuracy')\n",
        "    # 3. append mean of scores for k neighbors to k_scores list\n",
        "    k_scores.append(scores.mean())\n",
        "\n"
      ],
      "execution_count": 124,
      "outputs": []
    },
    {
      "cell_type": "code",
      "metadata": {
        "colab": {
          "base_uri": "https://localhost:8080/"
        },
        "id": "8eXde1uRdVEo",
        "outputId": "f8acae93-bb6e-4d74-8a07-3bccd37c71f3"
      },
      "source": [
        "print(k_scores)\n",
        "print('Length of list', len(k_scores))\n",
        "print('Max of list', max(k_scores))\n",
        "print(cross_val_score(classifier, X, y, cv=10, scoring='accuracy').mean())"
      ],
      "execution_count": 125,
      "outputs": [
        {
          "output_type": "stream",
          "text": [
            "[0.6083412892415325, 0.616312605120391, 0.6143473540067214, 0.6158058846623324, 0.6217009448153, 0.6233284873187549, 0.620971332893474, 0.6238899696320621, 0.6233287393871336, 0.624170931348547, 0.6263601452165929, 0.6270336404156356, 0.6292229173007762, 0.6283804417624369, 0.6293906057896326, 0.6305700652415981, 0.6299518045260137, 0.6310746116098913, 0.6301206588311212, 0.6321976392536003, 0.6328157109179007, 0.633713389431151, 0.6325910864840305, 0.6338817395995011, 0.6328151122555015, 0.6338816765824065, 0.6325906138558206, 0.6321414595137222, 0.633320351811836, 0.6342745251504376]\n",
            "Length of list 30\n",
            "Max of list 0.6342745251504376\n",
            "0.6342745251504376\n"
          ],
          "name": "stdout"
        }
      ]
    },
    {
      "cell_type": "code",
      "metadata": {
        "colab": {
          "base_uri": "https://localhost:8080/",
          "height": 296
        },
        "id": "3oSxwxUFzSxh",
        "outputId": "003dedec-de8d-4fd9-97c3-91dac4d10294"
      },
      "source": [
        "import matplotlib.pyplot as plt\n",
        "plt.plot(k_range, k_scores)\n",
        "plt.xlabel('Value of K for KNN')\n",
        "plt.ylabel('Cross-Validated Accuracy')"
      ],
      "execution_count": 126,
      "outputs": [
        {
          "output_type": "execute_result",
          "data": {
            "text/plain": [
              "Text(0, 0.5, 'Cross-Validated Accuracy')"
            ]
          },
          "metadata": {
            "tags": []
          },
          "execution_count": 126
        },
        {
          "output_type": "display_data",
          "data": {
            "image/png": "[encoded data removed]",
            "text/plain": [
              "<Figure size 432x288 with 1 Axes>"
            ]
          },
          "metadata": {
            "tags": [],
            "needs_background": "light"
          }
        }
      ]
    },
    {
      "cell_type": "markdown",
      "metadata": {
        "id": "yV6_vza0iVk6"
      },
      "source": [
        "#Conclusion\n",
        "\n",
        "*   cv=10\n",
        "*   k_neighbor = 30\n",
        "*   Accuracy = 63.42%\n",
        "\n",
        "\n",
        "\n",
        "\n",
        "\n"
      ]
    },
    {
      "cell_type": "markdown",
      "metadata": {
        "id": "k9chuotQqD4_"
      },
      "source": [
        "#Random Forest"
      ]
    },
    {
      "cell_type": "code",
      "metadata": {
        "id": "fKw9sp75qSgC"
      },
      "source": [
        "from sklearn.ensemble import RandomForestClassifier\n",
        "from sklearn.metrics import f1_score,confusion_matrix\n",
        "from sklearn.metrics import accuracy_score"
      ],
      "execution_count": 127,
      "outputs": []
    },
    {
      "cell_type": "code",
      "metadata": {
        "id": "s81RrAjBqlLf"
      },
      "source": [
        "#random forest classifier with n_estimators=10 (default)\n",
        "clf_rf = RandomForestClassifier(random_state=43)      \n",
        "clr_rf = clf_rf.fit(X_train,y_train)"
      ],
      "execution_count": 128,
      "outputs": []
    },
    {
      "cell_type": "code",
      "metadata": {
        "colab": {
          "base_uri": "https://localhost:8080/"
        },
        "id": "n08TGEu0qqXp",
        "outputId": "fec84a3f-e4dc-4477-c306-a4eef9f18b59"
      },
      "source": [
        "ac = accuracy_score(y_test,clf_rf.predict(X_test))\n",
        "print('Accuracy is: ',ac)\n",
        "cm = confusion_matrix(y_test,clf_rf.predict(X_test))"
      ],
      "execution_count": 129,
      "outputs": [
        {
          "output_type": "stream",
          "text": [
            "Accuracy is:  0.6511366825708672\n"
          ],
          "name": "stdout"
        }
      ]
    },
    {
      "cell_type": "markdown",
      "metadata": {
        "id": "8-jMjKyZlBfn"
      },
      "source": [
        "#Conclusion\n",
        "Accuracy = 65.11%"
      ]
    },
    {
      "cell_type": "markdown",
      "metadata": {
        "id": "IFaXzrP-ZG36"
      },
      "source": [
        "#Gradient Boost"
      ]
    },
    {
      "cell_type": "code",
      "metadata": {
        "colab": {
          "base_uri": "https://localhost:8080/"
        },
        "id": "MKQnLGulZFkq",
        "outputId": "465ae40f-18bb-41ef-84bc-7b25f082c72c"
      },
      "source": [
        "from sklearn.ensemble import GradientBoostingClassifier\n",
        "lr_list = [0.05, 0.075, 0.1, 0.25, 0.5, 0.75, 1]\n",
        "for learning_rate in lr_list:\n",
        "    gb_clf = GradientBoostingClassifier(n_estimators=20, learning_rate=learning_rate, max_features=4, max_depth=10, random_state=0)\n",
        "    gb_clf.fit(X_train, y_train)\n",
        "    print(\"Learning rate: \", learning_rate)\n",
        "    print(\"Accuracy score (training): {0:.3f}\".format(gb_clf.score(X_train, y_train)))\n",
        "    print(\"Accuracy score (testing): {0:.3f}\".format(gb_clf.score(X_test, y_test)))"
      ],
      "execution_count": 130,
      "outputs": [
        {
          "output_type": "stream",
          "text": [
            "Learning rate:  0.05\n",
            "Accuracy score (training): 0.765\n",
            "Accuracy score (testing): 0.653\n",
            "Learning rate:  0.075\n",
            "Accuracy score (training): 0.786\n",
            "Accuracy score (testing): 0.651\n",
            "Learning rate:  0.1\n",
            "Accuracy score (training): 0.801\n",
            "Accuracy score (testing): 0.655\n",
            "Learning rate:  0.25\n",
            "Accuracy score (training): 0.841\n",
            "Accuracy score (testing): 0.647\n",
            "Learning rate:  0.5\n",
            "Accuracy score (training): 0.846\n",
            "Accuracy score (testing): 0.644\n",
            "Learning rate:  0.75\n",
            "Accuracy score (training): 0.846\n",
            "Accuracy score (testing): 0.639\n",
            "Learning rate:  1\n",
            "Accuracy score (training): 0.692\n",
            "Accuracy score (testing): 0.584\n"
          ],
          "name": "stdout"
        }
      ]
    },
    {
      "cell_type": "markdown",
      "metadata": {
        "id": "yCqxsAOX0dM4"
      },
      "source": [
        "#Conclusion:\n",
        "Accuracy after applying Cross-validation = 65.3%"
      ]
    },
    {
      "cell_type": "markdown",
      "metadata": {
        "id": "mfJlLxA2uNXD"
      },
      "source": [
        "#Nearby location recommendation :\n",
        "Function #4 Find hotel location wise"
      ]
    },
    {
      "cell_type": "code",
      "metadata": {
        "colab": {
          "base_uri": "https://localhost:8080/"
        },
        "id": "zaWFlAAh-7T5",
        "outputId": "5b782d53-e65d-4a7f-b124-fe713403d837"
      },
      "source": [
        "pip install geopy"
      ],
      "execution_count": 131,
      "outputs": [
        {
          "output_type": "stream",
          "text": [
            "Requirement already satisfied: geopy in /usr/local/lib/python3.7/dist-packages (1.17.0)\n",
            "Requirement already satisfied: geographiclib<2,>=1.49 in /usr/local/lib/python3.7/dist-packages (from geopy) (1.50)\n"
          ],
          "name": "stdout"
        }
      ]
    },
    {
      "cell_type": "code",
      "metadata": {
        "id": "fPdZ0XYx_DNC"
      },
      "source": [
        "from geopy.geocoders import Nominatim \n",
        "  \n",
        "def find_loc(loc):\n",
        " geolocator = Nominatim(user_agent=\"MMT_review_project\") \n",
        " location = geolocator.geocode(loc) \n",
        " return [location.latitude, location.longitude]"
      ],
      "execution_count": 132,
      "outputs": []
    },
    {
      "cell_type": "code",
      "metadata": {
        "id": "0MZthPHufqYY"
      },
      "source": [
        "from geopy.distance import geodesic\n",
        "\n",
        "def nearby_location(loc,n):\n",
        "  loct=find_loc(loc)\n",
        "  lt1=loct[0]\n",
        "  lg1=loct[1]\n",
        " \n",
        "  cols=[0,1,10,11,19]\n",
        "  recommend=cleaned_df.iloc[:,cols]\n",
        " \n",
        "  distance=[]\n",
        "  result=[]\n",
        "  recommended_locs=pd.DataFrame()\n",
        "  \n",
        "  for i in range(0,recommend.shape[0]):\n",
        "    l2=recommend.loc[i,['property_name','latitude','longitude']]    \n",
        "    place=l2[0]\n",
        "    lt2=l2[1]\n",
        "    lg2=l2[2]\n",
        "    \n",
        "    dis=geodesic((lt1,lg1),(lt2,lg2)).kilometers\n",
        "    if dis<n:\n",
        "      distance.append(dis)  \n",
        "      result.append(place)\n",
        "  comb=zip(result,distance)\n",
        "  recommended_locs=pd.DataFrame(comb,columns=['Place','Distance(km)'])\n",
        "  return recommended_locs"
      ],
      "execution_count": 133,
      "outputs": []
    },
    {
      "cell_type": "code",
      "metadata": {
        "id": "vVV6NsdKaeqf"
      },
      "source": [
        "places=nearby_location('mall road manali',3)"
      ],
      "execution_count": 134,
      "outputs": []
    },
    {
      "cell_type": "code",
      "metadata": {
        "colab": {
          "base_uri": "https://localhost:8080/",
          "height": 343
        },
        "id": "KJvdyNwqgXKx",
        "outputId": "123269c8-022c-4d1d-e727-ec810a77e8c1"
      },
      "source": [
        "places.head(10)"
      ],
      "execution_count": 135,
      "outputs": [
        {
          "output_type": "execute_result",
          "data": {
            "text/html": [
              "<div>\n",
              "<style scoped>\n",
              "    .dataframe tbody tr th:only-of-type {\n",
              "        vertical-align: middle;\n",
              "    }\n",
              "\n",
              "    .dataframe tbody tr th {\n",
              "        vertical-align: top;\n",
              "    }\n",
              "\n",
              "    .dataframe thead th {\n",
              "        text-align: right;\n",
              "    }\n",
              "</style>\n",
              "<table border=\"1\" class=\"dataframe\">\n",
              "  <thead>\n",
              "    <tr style=\"text-align: right;\">\n",
              "      <th></th>\n",
              "      <th>Place</th>\n",
              "      <th>Distance(km)</th>\n",
              "    </tr>\n",
              "  </thead>\n",
              "  <tbody>\n",
              "    <tr>\n",
              "      <th>0</th>\n",
              "      <td>New Adarsh Annexe</td>\n",
              "      <td>0.104773</td>\n",
              "    </tr>\n",
              "    <tr>\n",
              "      <th>1</th>\n",
              "      <td>Snow Line</td>\n",
              "      <td>0.599175</td>\n",
              "    </tr>\n",
              "    <tr>\n",
              "      <th>2</th>\n",
              "      <td>Hotel Holiday Home</td>\n",
              "      <td>0.861653</td>\n",
              "    </tr>\n",
              "    <tr>\n",
              "      <th>3</th>\n",
              "      <td>Hotel Himgiri</td>\n",
              "      <td>0.171661</td>\n",
              "    </tr>\n",
              "    <tr>\n",
              "      <th>4</th>\n",
              "      <td>Hotel Chandertal</td>\n",
              "      <td>1.356045</td>\n",
              "    </tr>\n",
              "    <tr>\n",
              "      <th>5</th>\n",
              "      <td>Apple Nest Manali</td>\n",
              "      <td>2.189537</td>\n",
              "    </tr>\n",
              "    <tr>\n",
              "      <th>6</th>\n",
              "      <td>The Holiday Resorts &amp; Cottages, Manali</td>\n",
              "      <td>0.850474</td>\n",
              "    </tr>\n",
              "    <tr>\n",
              "      <th>7</th>\n",
              "      <td>Hotel Vikrant Inn</td>\n",
              "      <td>0.221402</td>\n",
              "    </tr>\n",
              "    <tr>\n",
              "      <th>8</th>\n",
              "      <td>Hotel Himalayan Villa</td>\n",
              "      <td>0.678671</td>\n",
              "    </tr>\n",
              "    <tr>\n",
              "      <th>9</th>\n",
              "      <td>Hotel Triveni</td>\n",
              "      <td>0.715709</td>\n",
              "    </tr>\n",
              "  </tbody>\n",
              "</table>\n",
              "</div>"
            ],
            "text/plain": [
              "                                    Place  Distance(km)\n",
              "0                       New Adarsh Annexe      0.104773\n",
              "1                               Snow Line      0.599175\n",
              "2                      Hotel Holiday Home      0.861653\n",
              "3                           Hotel Himgiri      0.171661\n",
              "4                        Hotel Chandertal      1.356045\n",
              "5                       Apple Nest Manali      2.189537\n",
              "6  The Holiday Resorts & Cottages, Manali      0.850474\n",
              "7                       Hotel Vikrant Inn      0.221402\n",
              "8                   Hotel Himalayan Villa      0.678671\n",
              "9                           Hotel Triveni      0.715709"
            ]
          },
          "metadata": {
            "tags": []
          },
          "execution_count": 135
        }
      ]
    },
    {
      "cell_type": "markdown",
      "metadata": {
        "id": "O1ngEscK0u22"
      },
      "source": [
        "#Recommendation Functions Call"
      ]
    },
    {
      "cell_type": "code",
      "metadata": {
        "colab": {
          "base_uri": "https://localhost:8080/"
        },
        "id": "8knbuWYqpgrL",
        "outputId": "3a4ff4b3-e57b-4bbb-e151-1a2d0c01f3c7"
      },
      "source": [
        "hotel_star_prediction('Munnar',3)"
      ],
      "execution_count": null,
      "outputs": [
        {
          "output_type": "stream",
          "text": [
            "Recommendations for ('Munnar', 'Vedanta Wake Up - Devikulam'):\n",
            "\n",
            "1 : ('Munnar', 'Tea Valley Resort')\n",
            "2 : ('Munnar', 'Spice Country Resort')\n",
            "3 : ('Munnar', 'Tea County')\n",
            "4 : ('Munnar', 'Nature Zone Resorts')\n",
            "5 : ('Munnar', 'Swiss County')\n"
          ],
          "name": "stdout"
        }
      ]
    },
    {
      "cell_type": "code",
      "metadata": {
        "colab": {
          "base_uri": "https://localhost:8080/"
        },
        "id": "z77UJrg4pwq1",
        "outputId": "a1beb847-6b5d-45a3-bf35-beb266e0f35d"
      },
      "source": [
        "hotel_recommendation('Agra')"
      ],
      "execution_count": null,
      "outputs": [
        {
          "output_type": "stream",
          "text": [
            "Recommendations for (1.0, 'Hotel Pentas'):\n",
            "\n",
            "(2.0, 'Aicon Palace')\n",
            "(1.0, 'Supreme Guest House')\n",
            "(1.0, 'agra guest house b')\n",
            "(1.0, 'Shraddha Homestay')\n",
            "(1.0, 'Taj Heights')\n"
          ],
          "name": "stdout"
        }
      ]
    },
    {
      "cell_type": "code",
      "metadata": {
        "colab": {
          "base_uri": "https://localhost:8080/"
        },
        "id": "TTPL9hvCp3Ja",
        "outputId": "cd312da3-1709-41e8-98fc-2eecd22a5673"
      },
      "source": [
        "hotel_star_recommendation('Indore',2)"
      ],
      "execution_count": null,
      "outputs": [
        {
          "output_type": "stream",
          "text": [
            "Recommendations for ('Indore', 'Balwas International'):\n",
            "\n",
            "1 : ('Indore', 'Hotel Silver Shed')\n",
            "2 : ('Indore', 'Monarch Hotel')\n",
            "3 : ('Indore', 'MALWA COUNTRY')\n",
            "4 : ('Indore', 'Balwas International')\n",
            "5 : ('Indore', 'Hotel Signature')\n"
          ],
          "name": "stdout"
        }
      ]
    },
    {
      "cell_type": "code",
      "metadata": {
        "id": "1tu7L7Dv0x4F",
        "colab": {
          "base_uri": "https://localhost:8080/"
        },
        "outputId": "b408efbc-0ea1-47f4-f6ec-1fb6400d574e"
      },
      "source": [
        "#drop down city list\n",
        "#CORRELATION\n",
        "property_type_Recommendation('Goa','Hotel')"
      ],
      "execution_count": null,
      "outputs": [
        {
          "output_type": "stream",
          "text": [
            "                                               Hotel\n",
            "hotel_star_rating property_name                     \n",
            "3.0               Shining Sand Beach Hotel  1.370077\n",
            "1.0               SOL BESO                  1.370077\n",
            "                  Majhi resort              1.370077\n",
            "3.0               The Mandala Goa           1.370077\n",
            "                  Tiara Camelot Baga        1.370077\n",
            "********************************************************************************\n",
            "Related Search:\n",
            "Apartment\n",
            "Beach Hut\n",
            "Cottage\n",
            "Guest House\n",
            "Homestay\n",
            "Hostel\n",
            "Hotel\n",
            "Resort\n",
            "Unspecified\n",
            "Villa\n"
          ],
          "name": "stdout"
        }
      ]
    },
    {
      "cell_type": "code",
      "metadata": {
        "id": "WcdKraabNtiV",
        "colab": {
          "base_uri": "https://localhost:8080/"
        },
        "outputId": "d3e65be0-6a34-405e-d95f-91cb136eb15e"
      },
      "source": [
        "nearby_location('Agra',4)"
      ],
      "execution_count": null,
      "outputs": [
        {
          "output_type": "stream",
          "text": [
            "                      property_name  longitude   latitude\n",
            "283            The Oberoi Amarvilas  78.048928  27.167792\n",
            "298                   Awtar Mansion  78.001229  27.158808\n",
            "333                 Hotel Alleviate  78.025003  27.190005\n",
            "2836              Hotel Sham Palace  78.010000  27.190000\n",
            "5742               Hotel River Bank  78.018200  27.182600\n",
            "6486               Amar Yatri Niwas  78.035011  27.161224\n",
            "6487              Hotel Moti Palace  78.005676  27.179714\n",
            "6514               Hotel Taj Resort  78.047931  27.170152\n",
            "7321            Blue Sapphire Hotel  78.006000  27.198700\n",
            "7337             Hotel Shyam Palace  78.009998  27.190001\n",
            "7347             Hotel Mumtaz Villa  78.046192  27.171354\n",
            "7357              Hotel Riya Palace  77.999752  27.166663\n",
            "7371                    Hotel Gopal  78.038420  27.164561\n",
            "7383                Hotel Love Kush  78.045235  27.158328\n",
            "8477                   Hotel Safari  78.034387  27.154159\n",
            "8739                  Hotel Samovar  78.043044  27.159795\n",
            "8741                     Hotel Seva  78.014950  27.166472\n",
            "8745                 Sun Hotel Agra  78.015330  27.169825\n",
            "10575           Hotel Lavania Vilas  78.015355  27.168286\n",
            "10590            Sakura Guest House  77.997314  27.172056\n",
            "10593                  Hotel Basera  78.013662  27.166304\n",
            "10596            Hotel Taj Heritage  78.030950  27.160835\n",
            "10646         Mayur Tourist Complex  78.040588  27.160877\n",
            "10782            Ellora Guest House  78.005836  27.179321\n",
            "12727                  Hotel Pentas  78.009040  27.172113\n",
            "12745         Mayur Tourist Complex  78.040588  27.160877\n",
            "12763                  DR Residency  78.015972  27.167684\n",
            "12773         Hotel Mansingh Palace  78.035319  27.161165\n",
            "12811       Hotel Mansarover Muskan  78.042245  27.160040\n",
            "12812               Hotel Neelkanth  78.005400  27.211000\n",
            "12815            Hotel Mumtaz Villa  78.046192  27.171354\n",
            "12820            Hotel T9 Residency  78.018221  27.167764\n",
            "14719              Hotel Panchratan  78.005052  27.199923\n",
            "14732                   Hotel Sagar  78.038315  27.163857\n",
            "14733            Hotel Shyam Palace  78.009998  27.190001\n",
            "14743       Hotel Mansarover Muskan  78.042245  27.160040\n",
            "14770                Hotel Amba Inn  77.998061  27.195551\n",
            "14773        Hotel New Bakshi House  77.983343  27.170405\n",
            "14784              Hotel Avalon Taj  78.000254  27.166675\n",
            "17074  Hotel City Square and Suites  78.042861  27.159881\n",
            "17078             Hotel Moti Palace  78.005676  27.179714\n",
            "17108         Hotel Sukoon Homestay  78.029487  27.170767\n",
            "17116       Hotel Jyoti Continental  78.034272  27.158445\n",
            "17128       Hotel Mansarover Muskan  78.042245  27.160040\n",
            "17183           Hotel Sai President  78.008251  27.175055\n",
            "17190                Bansi Homestay  78.035322  27.160319\n",
            "17193           Hotel Swami Sofitel  77.998780  27.196716\n",
            "17194               Hotel The Kamta  78.005291  27.210377\n"
          ],
          "name": "stdout"
        }
      ]
    }
  ]
}